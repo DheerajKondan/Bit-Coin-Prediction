{
  "nbformat": 4,
  "nbformat_minor": 0,
  "metadata": {
    "colab": {
      "provenance": [],
      "include_colab_link": true
    },
    "kernelspec": {
      "name": "python3",
      "display_name": "Python 3"
    },
    "language_info": {
      "name": "python"
    }
  },
  "cells": [
    {
      "cell_type": "markdown",
      "metadata": {
        "id": "view-in-github",
        "colab_type": "text"
      },
      "source": [
        "<a href=\"https://colab.research.google.com/github/DheerajKondan/Bit-Coin-Prediction/blob/main/BitCoin.ipynb\" target=\"_parent\"><img src=\"https://colab.research.google.com/assets/colab-badge.svg\" alt=\"Open In Colab\"/></a>"
      ]
    },
    {
      "cell_type": "code",
      "execution_count": 1,
      "metadata": {
        "id": "2j1aYmuQbsJb"
      },
      "outputs": [],
      "source": [
        "import pandas as pd\n",
        "import numpy as np\n",
        "from sklearn.model_selection import train_test_split\n",
        "from sklearn.preprocessing import StandardScaler\n",
        "from sklearn.ensemble import RandomForestClassifier\n",
        "from sklearn.svm import SVC\n",
        "from sklearn.linear_model import LinearRegression\n",
        "from sklearn.metrics import confusion_matrix,accuracy_score"
      ]
    },
    {
      "cell_type": "code",
      "source": [
        "dataset1=pd.read_csv('/content/bitcoin_Price_Movement_Clustering.csv')"
      ],
      "metadata": {
        "id": "3XT8eqk-eIfV"
      },
      "execution_count": 2,
      "outputs": []
    },
    {
      "cell_type": "code",
      "source": [
        "dataset1.head(5)"
      ],
      "metadata": {
        "id": "34XKPJd_eZK4",
        "colab": {
          "base_uri": "https://localhost:8080/",
          "height": 206
        },
        "outputId": "00eb5d33-793d-4c80-cf83-9ec6aa5d875d"
      },
      "execution_count": 3,
      "outputs": [
        {
          "output_type": "execute_result",
          "data": {
            "text/plain": [
              "         Date        Open        High         Low       Close     Volume  \\\n",
              "0  31-12-2019   97.017212   98.649490   94.542473   97.078827  533536931   \n",
              "1  01-01-2020   97.078827   99.849426   96.414330   97.201797  450643882   \n",
              "2  02-01-2020   97.237602   97.740555   92.705391   92.837914  424249976   \n",
              "3  03-01-2020   93.084511  103.889168   92.114578  102.609962  697088052   \n",
              "4  04-01-2020  102.699875  110.214310  102.468651  109.667091  712444844   \n",
              "\n",
              "  Currency Price Movement  \n",
              "0      USD       Increase  \n",
              "1      USD       Increase  \n",
              "2      USD       Decrease  \n",
              "3      USD       Increase  \n",
              "4      USD       Increase  "
            ],
            "text/html": [
              "\n",
              "  <div id=\"df-b133d323-3bec-4d46-931a-1198cf498e65\" class=\"colab-df-container\">\n",
              "    <div>\n",
              "<style scoped>\n",
              "    .dataframe tbody tr th:only-of-type {\n",
              "        vertical-align: middle;\n",
              "    }\n",
              "\n",
              "    .dataframe tbody tr th {\n",
              "        vertical-align: top;\n",
              "    }\n",
              "\n",
              "    .dataframe thead th {\n",
              "        text-align: right;\n",
              "    }\n",
              "</style>\n",
              "<table border=\"1\" class=\"dataframe\">\n",
              "  <thead>\n",
              "    <tr style=\"text-align: right;\">\n",
              "      <th></th>\n",
              "      <th>Date</th>\n",
              "      <th>Open</th>\n",
              "      <th>High</th>\n",
              "      <th>Low</th>\n",
              "      <th>Close</th>\n",
              "      <th>Volume</th>\n",
              "      <th>Currency</th>\n",
              "      <th>Price Movement</th>\n",
              "    </tr>\n",
              "  </thead>\n",
              "  <tbody>\n",
              "    <tr>\n",
              "      <th>0</th>\n",
              "      <td>31-12-2019</td>\n",
              "      <td>97.017212</td>\n",
              "      <td>98.649490</td>\n",
              "      <td>94.542473</td>\n",
              "      <td>97.078827</td>\n",
              "      <td>533536931</td>\n",
              "      <td>USD</td>\n",
              "      <td>Increase</td>\n",
              "    </tr>\n",
              "    <tr>\n",
              "      <th>1</th>\n",
              "      <td>01-01-2020</td>\n",
              "      <td>97.078827</td>\n",
              "      <td>99.849426</td>\n",
              "      <td>96.414330</td>\n",
              "      <td>97.201797</td>\n",
              "      <td>450643882</td>\n",
              "      <td>USD</td>\n",
              "      <td>Increase</td>\n",
              "    </tr>\n",
              "    <tr>\n",
              "      <th>2</th>\n",
              "      <td>02-01-2020</td>\n",
              "      <td>97.237602</td>\n",
              "      <td>97.740555</td>\n",
              "      <td>92.705391</td>\n",
              "      <td>92.837914</td>\n",
              "      <td>424249976</td>\n",
              "      <td>USD</td>\n",
              "      <td>Decrease</td>\n",
              "    </tr>\n",
              "    <tr>\n",
              "      <th>3</th>\n",
              "      <td>03-01-2020</td>\n",
              "      <td>93.084511</td>\n",
              "      <td>103.889168</td>\n",
              "      <td>92.114578</td>\n",
              "      <td>102.609962</td>\n",
              "      <td>697088052</td>\n",
              "      <td>USD</td>\n",
              "      <td>Increase</td>\n",
              "    </tr>\n",
              "    <tr>\n",
              "      <th>4</th>\n",
              "      <td>04-01-2020</td>\n",
              "      <td>102.699875</td>\n",
              "      <td>110.214310</td>\n",
              "      <td>102.468651</td>\n",
              "      <td>109.667091</td>\n",
              "      <td>712444844</td>\n",
              "      <td>USD</td>\n",
              "      <td>Increase</td>\n",
              "    </tr>\n",
              "  </tbody>\n",
              "</table>\n",
              "</div>\n",
              "    <div class=\"colab-df-buttons\">\n",
              "\n",
              "  <div class=\"colab-df-container\">\n",
              "    <button class=\"colab-df-convert\" onclick=\"convertToInteractive('df-b133d323-3bec-4d46-931a-1198cf498e65')\"\n",
              "            title=\"Convert this dataframe to an interactive table.\"\n",
              "            style=\"display:none;\">\n",
              "\n",
              "  <svg xmlns=\"http://www.w3.org/2000/svg\" height=\"24px\" viewBox=\"0 -960 960 960\">\n",
              "    <path d=\"M120-120v-720h720v720H120Zm60-500h600v-160H180v160Zm220 220h160v-160H400v160Zm0 220h160v-160H400v160ZM180-400h160v-160H180v160Zm440 0h160v-160H620v160ZM180-180h160v-160H180v160Zm440 0h160v-160H620v160Z\"/>\n",
              "  </svg>\n",
              "    </button>\n",
              "\n",
              "  <style>\n",
              "    .colab-df-container {\n",
              "      display:flex;\n",
              "      gap: 12px;\n",
              "    }\n",
              "\n",
              "    .colab-df-convert {\n",
              "      background-color: #E8F0FE;\n",
              "      border: none;\n",
              "      border-radius: 50%;\n",
              "      cursor: pointer;\n",
              "      display: none;\n",
              "      fill: #1967D2;\n",
              "      height: 32px;\n",
              "      padding: 0 0 0 0;\n",
              "      width: 32px;\n",
              "    }\n",
              "\n",
              "    .colab-df-convert:hover {\n",
              "      background-color: #E2EBFA;\n",
              "      box-shadow: 0px 1px 2px rgba(60, 64, 67, 0.3), 0px 1px 3px 1px rgba(60, 64, 67, 0.15);\n",
              "      fill: #174EA6;\n",
              "    }\n",
              "\n",
              "    .colab-df-buttons div {\n",
              "      margin-bottom: 4px;\n",
              "    }\n",
              "\n",
              "    [theme=dark] .colab-df-convert {\n",
              "      background-color: #3B4455;\n",
              "      fill: #D2E3FC;\n",
              "    }\n",
              "\n",
              "    [theme=dark] .colab-df-convert:hover {\n",
              "      background-color: #434B5C;\n",
              "      box-shadow: 0px 1px 3px 1px rgba(0, 0, 0, 0.15);\n",
              "      filter: drop-shadow(0px 1px 2px rgba(0, 0, 0, 0.3));\n",
              "      fill: #FFFFFF;\n",
              "    }\n",
              "  </style>\n",
              "\n",
              "    <script>\n",
              "      const buttonEl =\n",
              "        document.querySelector('#df-b133d323-3bec-4d46-931a-1198cf498e65 button.colab-df-convert');\n",
              "      buttonEl.style.display =\n",
              "        google.colab.kernel.accessAllowed ? 'block' : 'none';\n",
              "\n",
              "      async function convertToInteractive(key) {\n",
              "        const element = document.querySelector('#df-b133d323-3bec-4d46-931a-1198cf498e65');\n",
              "        const dataTable =\n",
              "          await google.colab.kernel.invokeFunction('convertToInteractive',\n",
              "                                                    [key], {});\n",
              "        if (!dataTable) return;\n",
              "\n",
              "        const docLinkHtml = 'Like what you see? Visit the ' +\n",
              "          '<a target=\"_blank\" href=https://colab.research.google.com/notebooks/data_table.ipynb>data table notebook</a>'\n",
              "          + ' to learn more about interactive tables.';\n",
              "        element.innerHTML = '';\n",
              "        dataTable['output_type'] = 'display_data';\n",
              "        await google.colab.output.renderOutput(dataTable, element);\n",
              "        const docLink = document.createElement('div');\n",
              "        docLink.innerHTML = docLinkHtml;\n",
              "        element.appendChild(docLink);\n",
              "      }\n",
              "    </script>\n",
              "  </div>\n",
              "\n",
              "\n",
              "<div id=\"df-d86adc03-0b05-4286-982e-49fa49cc7057\">\n",
              "  <button class=\"colab-df-quickchart\" onclick=\"quickchart('df-d86adc03-0b05-4286-982e-49fa49cc7057')\"\n",
              "            title=\"Suggest charts\"\n",
              "            style=\"display:none;\">\n",
              "\n",
              "<svg xmlns=\"http://www.w3.org/2000/svg\" height=\"24px\"viewBox=\"0 0 24 24\"\n",
              "     width=\"24px\">\n",
              "    <g>\n",
              "        <path d=\"M19 3H5c-1.1 0-2 .9-2 2v14c0 1.1.9 2 2 2h14c1.1 0 2-.9 2-2V5c0-1.1-.9-2-2-2zM9 17H7v-7h2v7zm4 0h-2V7h2v10zm4 0h-2v-4h2v4z\"/>\n",
              "    </g>\n",
              "</svg>\n",
              "  </button>\n",
              "\n",
              "<style>\n",
              "  .colab-df-quickchart {\n",
              "      --bg-color: #E8F0FE;\n",
              "      --fill-color: #1967D2;\n",
              "      --hover-bg-color: #E2EBFA;\n",
              "      --hover-fill-color: #174EA6;\n",
              "      --disabled-fill-color: #AAA;\n",
              "      --disabled-bg-color: #DDD;\n",
              "  }\n",
              "\n",
              "  [theme=dark] .colab-df-quickchart {\n",
              "      --bg-color: #3B4455;\n",
              "      --fill-color: #D2E3FC;\n",
              "      --hover-bg-color: #434B5C;\n",
              "      --hover-fill-color: #FFFFFF;\n",
              "      --disabled-bg-color: #3B4455;\n",
              "      --disabled-fill-color: #666;\n",
              "  }\n",
              "\n",
              "  .colab-df-quickchart {\n",
              "    background-color: var(--bg-color);\n",
              "    border: none;\n",
              "    border-radius: 50%;\n",
              "    cursor: pointer;\n",
              "    display: none;\n",
              "    fill: var(--fill-color);\n",
              "    height: 32px;\n",
              "    padding: 0;\n",
              "    width: 32px;\n",
              "  }\n",
              "\n",
              "  .colab-df-quickchart:hover {\n",
              "    background-color: var(--hover-bg-color);\n",
              "    box-shadow: 0 1px 2px rgba(60, 64, 67, 0.3), 0 1px 3px 1px rgba(60, 64, 67, 0.15);\n",
              "    fill: var(--button-hover-fill-color);\n",
              "  }\n",
              "\n",
              "  .colab-df-quickchart-complete:disabled,\n",
              "  .colab-df-quickchart-complete:disabled:hover {\n",
              "    background-color: var(--disabled-bg-color);\n",
              "    fill: var(--disabled-fill-color);\n",
              "    box-shadow: none;\n",
              "  }\n",
              "\n",
              "  .colab-df-spinner {\n",
              "    border: 2px solid var(--fill-color);\n",
              "    border-color: transparent;\n",
              "    border-bottom-color: var(--fill-color);\n",
              "    animation:\n",
              "      spin 1s steps(1) infinite;\n",
              "  }\n",
              "\n",
              "  @keyframes spin {\n",
              "    0% {\n",
              "      border-color: transparent;\n",
              "      border-bottom-color: var(--fill-color);\n",
              "      border-left-color: var(--fill-color);\n",
              "    }\n",
              "    20% {\n",
              "      border-color: transparent;\n",
              "      border-left-color: var(--fill-color);\n",
              "      border-top-color: var(--fill-color);\n",
              "    }\n",
              "    30% {\n",
              "      border-color: transparent;\n",
              "      border-left-color: var(--fill-color);\n",
              "      border-top-color: var(--fill-color);\n",
              "      border-right-color: var(--fill-color);\n",
              "    }\n",
              "    40% {\n",
              "      border-color: transparent;\n",
              "      border-right-color: var(--fill-color);\n",
              "      border-top-color: var(--fill-color);\n",
              "    }\n",
              "    60% {\n",
              "      border-color: transparent;\n",
              "      border-right-color: var(--fill-color);\n",
              "    }\n",
              "    80% {\n",
              "      border-color: transparent;\n",
              "      border-right-color: var(--fill-color);\n",
              "      border-bottom-color: var(--fill-color);\n",
              "    }\n",
              "    90% {\n",
              "      border-color: transparent;\n",
              "      border-bottom-color: var(--fill-color);\n",
              "    }\n",
              "  }\n",
              "</style>\n",
              "\n",
              "  <script>\n",
              "    async function quickchart(key) {\n",
              "      const quickchartButtonEl =\n",
              "        document.querySelector('#' + key + ' button');\n",
              "      quickchartButtonEl.disabled = true;  // To prevent multiple clicks.\n",
              "      quickchartButtonEl.classList.add('colab-df-spinner');\n",
              "      try {\n",
              "        const charts = await google.colab.kernel.invokeFunction(\n",
              "            'suggestCharts', [key], {});\n",
              "      } catch (error) {\n",
              "        console.error('Error during call to suggestCharts:', error);\n",
              "      }\n",
              "      quickchartButtonEl.classList.remove('colab-df-spinner');\n",
              "      quickchartButtonEl.classList.add('colab-df-quickchart-complete');\n",
              "    }\n",
              "    (() => {\n",
              "      let quickchartButtonEl =\n",
              "        document.querySelector('#df-d86adc03-0b05-4286-982e-49fa49cc7057 button');\n",
              "      quickchartButtonEl.style.display =\n",
              "        google.colab.kernel.accessAllowed ? 'block' : 'none';\n",
              "    })();\n",
              "  </script>\n",
              "</div>\n",
              "\n",
              "    </div>\n",
              "  </div>\n"
            ],
            "application/vnd.google.colaboratory.intrinsic+json": {
              "type": "dataframe",
              "variable_name": "dataset1",
              "summary": "{\n  \"name\": \"dataset1\",\n  \"rows\": 680,\n  \"fields\": [\n    {\n      \"column\": \"Date\",\n      \"properties\": {\n        \"dtype\": \"object\",\n        \"num_unique_values\": 680,\n        \"samples\": [\n          \"29-10-2021\",\n          \"19-09-2021\",\n          \"03-03-2020\"\n        ],\n        \"semantic_type\": \"\",\n        \"description\": \"\"\n      }\n    },\n    {\n      \"column\": \"Open\",\n      \"properties\": {\n        \"dtype\": \"number\",\n        \"std\": 53.887910544317194,\n        \"min\": 93.0845108,\n        \"max\": 441.3268127,\n        \"num_unique_values\": 680,\n        \"samples\": [\n          162.609375,\n          157.1651154,\n          251.6865082\n        ],\n        \"semantic_type\": \"\",\n        \"description\": \"\"\n      }\n    },\n    {\n      \"column\": \"High\",\n      \"properties\": {\n        \"dtype\": \"number\",\n        \"std\": 59.525744703108074,\n        \"min\": 97.74055481,\n        \"max\": 491.635376,\n        \"num_unique_values\": 680,\n        \"samples\": [\n          166.6912842,\n          175.3679504,\n          253.9811859\n        ],\n        \"semantic_type\": \"\",\n        \"description\": \"\"\n      }\n    },\n    {\n      \"column\": \"Low\",\n      \"properties\": {\n        \"dtype\": \"number\",\n        \"std\": 47.90349621506169,\n        \"min\": 88.07146454,\n        \"max\": 387.7619934,\n        \"num_unique_values\": 680,\n        \"samples\": [\n          160.7927399,\n          155.0812378,\n          242.1954346\n        ],\n        \"semantic_type\": \"\",\n        \"description\": \"\"\n      }\n    },\n    {\n      \"column\": \"Close\",\n      \"properties\": {\n        \"dtype\": \"number\",\n        \"std\": 53.75902456123605,\n        \"min\": 92.83791351,\n        \"max\": 441.3943481,\n        \"num_unique_values\": 680,\n        \"samples\": [\n          165.8844757,\n          162.2528687,\n          246.4846649\n        ],\n        \"semantic_type\": \"\",\n        \"description\": \"\"\n      }\n    },\n    {\n      \"column\": \"Volume\",\n      \"properties\": {\n        \"dtype\": \"number\",\n        \"std\": 939591774,\n        \"min\": 124438573,\n        \"max\": 7460265156,\n        \"num_unique_values\": 680,\n        \"samples\": [\n          238743832,\n          253197150,\n          2741753419\n        ],\n        \"semantic_type\": \"\",\n        \"description\": \"\"\n      }\n    },\n    {\n      \"column\": \"Currency\",\n      \"properties\": {\n        \"dtype\": \"category\",\n        \"num_unique_values\": 1,\n        \"samples\": [\n          \"USD\"\n        ],\n        \"semantic_type\": \"\",\n        \"description\": \"\"\n      }\n    },\n    {\n      \"column\": \"Price Movement\",\n      \"properties\": {\n        \"dtype\": \"category\",\n        \"num_unique_values\": 2,\n        \"samples\": [\n          \"Decrease\"\n        ],\n        \"semantic_type\": \"\",\n        \"description\": \"\"\n      }\n    }\n  ]\n}"
            }
          },
          "metadata": {},
          "execution_count": 3
        }
      ]
    },
    {
      "cell_type": "code",
      "source": [
        "dataset1.shape"
      ],
      "metadata": {
        "id": "YNmtpXly6fOI",
        "colab": {
          "base_uri": "https://localhost:8080/"
        },
        "outputId": "c6ddd1bc-2af7-42c8-f950-9e4915483e1b"
      },
      "execution_count": 4,
      "outputs": [
        {
          "output_type": "execute_result",
          "data": {
            "text/plain": [
              "(680, 8)"
            ]
          },
          "metadata": {},
          "execution_count": 4
        }
      ]
    },
    {
      "cell_type": "code",
      "source": [
        "dataset1.describe()"
      ],
      "metadata": {
        "id": "cwZU1_OS6nPQ",
        "colab": {
          "base_uri": "https://localhost:8080/",
          "height": 300
        },
        "outputId": "01bd6a24-7340-474d-a621-1fe8db81318f"
      },
      "execution_count": 5,
      "outputs": [
        {
          "output_type": "execute_result",
          "data": {
            "text/plain": [
              "             Open        High         Low       Close        Volume\n",
              "count  680.000000  680.000000  680.000000  680.000000  6.800000e+02\n",
              "mean   192.101989  200.643970  183.501566  192.164710  1.240576e+09\n",
              "std     53.887911   59.525745   47.903496   53.759025  9.395918e+08\n",
              "min     93.084511   97.740555   88.071465   92.837914  1.244386e+08\n",
              "25%    162.148823  167.605629  156.552898  162.145866  5.374908e+08\n",
              "50%    177.530395  183.456581  171.336349  177.414352  9.722259e+08\n",
              "75%    203.851975  211.269955  194.561649  203.707691  1.779594e+09\n",
              "max    441.326813  491.635376  387.761993  441.394348  7.460265e+09"
            ],
            "text/html": [
              "\n",
              "  <div id=\"df-97ff2d6d-94b7-45ec-9f0b-71bcb1b8d29b\" class=\"colab-df-container\">\n",
              "    <div>\n",
              "<style scoped>\n",
              "    .dataframe tbody tr th:only-of-type {\n",
              "        vertical-align: middle;\n",
              "    }\n",
              "\n",
              "    .dataframe tbody tr th {\n",
              "        vertical-align: top;\n",
              "    }\n",
              "\n",
              "    .dataframe thead th {\n",
              "        text-align: right;\n",
              "    }\n",
              "</style>\n",
              "<table border=\"1\" class=\"dataframe\">\n",
              "  <thead>\n",
              "    <tr style=\"text-align: right;\">\n",
              "      <th></th>\n",
              "      <th>Open</th>\n",
              "      <th>High</th>\n",
              "      <th>Low</th>\n",
              "      <th>Close</th>\n",
              "      <th>Volume</th>\n",
              "    </tr>\n",
              "  </thead>\n",
              "  <tbody>\n",
              "    <tr>\n",
              "      <th>count</th>\n",
              "      <td>680.000000</td>\n",
              "      <td>680.000000</td>\n",
              "      <td>680.000000</td>\n",
              "      <td>680.000000</td>\n",
              "      <td>6.800000e+02</td>\n",
              "    </tr>\n",
              "    <tr>\n",
              "      <th>mean</th>\n",
              "      <td>192.101989</td>\n",
              "      <td>200.643970</td>\n",
              "      <td>183.501566</td>\n",
              "      <td>192.164710</td>\n",
              "      <td>1.240576e+09</td>\n",
              "    </tr>\n",
              "    <tr>\n",
              "      <th>std</th>\n",
              "      <td>53.887911</td>\n",
              "      <td>59.525745</td>\n",
              "      <td>47.903496</td>\n",
              "      <td>53.759025</td>\n",
              "      <td>9.395918e+08</td>\n",
              "    </tr>\n",
              "    <tr>\n",
              "      <th>min</th>\n",
              "      <td>93.084511</td>\n",
              "      <td>97.740555</td>\n",
              "      <td>88.071465</td>\n",
              "      <td>92.837914</td>\n",
              "      <td>1.244386e+08</td>\n",
              "    </tr>\n",
              "    <tr>\n",
              "      <th>25%</th>\n",
              "      <td>162.148823</td>\n",
              "      <td>167.605629</td>\n",
              "      <td>156.552898</td>\n",
              "      <td>162.145866</td>\n",
              "      <td>5.374908e+08</td>\n",
              "    </tr>\n",
              "    <tr>\n",
              "      <th>50%</th>\n",
              "      <td>177.530395</td>\n",
              "      <td>183.456581</td>\n",
              "      <td>171.336349</td>\n",
              "      <td>177.414352</td>\n",
              "      <td>9.722259e+08</td>\n",
              "    </tr>\n",
              "    <tr>\n",
              "      <th>75%</th>\n",
              "      <td>203.851975</td>\n",
              "      <td>211.269955</td>\n",
              "      <td>194.561649</td>\n",
              "      <td>203.707691</td>\n",
              "      <td>1.779594e+09</td>\n",
              "    </tr>\n",
              "    <tr>\n",
              "      <th>max</th>\n",
              "      <td>441.326813</td>\n",
              "      <td>491.635376</td>\n",
              "      <td>387.761993</td>\n",
              "      <td>441.394348</td>\n",
              "      <td>7.460265e+09</td>\n",
              "    </tr>\n",
              "  </tbody>\n",
              "</table>\n",
              "</div>\n",
              "    <div class=\"colab-df-buttons\">\n",
              "\n",
              "  <div class=\"colab-df-container\">\n",
              "    <button class=\"colab-df-convert\" onclick=\"convertToInteractive('df-97ff2d6d-94b7-45ec-9f0b-71bcb1b8d29b')\"\n",
              "            title=\"Convert this dataframe to an interactive table.\"\n",
              "            style=\"display:none;\">\n",
              "\n",
              "  <svg xmlns=\"http://www.w3.org/2000/svg\" height=\"24px\" viewBox=\"0 -960 960 960\">\n",
              "    <path d=\"M120-120v-720h720v720H120Zm60-500h600v-160H180v160Zm220 220h160v-160H400v160Zm0 220h160v-160H400v160ZM180-400h160v-160H180v160Zm440 0h160v-160H620v160ZM180-180h160v-160H180v160Zm440 0h160v-160H620v160Z\"/>\n",
              "  </svg>\n",
              "    </button>\n",
              "\n",
              "  <style>\n",
              "    .colab-df-container {\n",
              "      display:flex;\n",
              "      gap: 12px;\n",
              "    }\n",
              "\n",
              "    .colab-df-convert {\n",
              "      background-color: #E8F0FE;\n",
              "      border: none;\n",
              "      border-radius: 50%;\n",
              "      cursor: pointer;\n",
              "      display: none;\n",
              "      fill: #1967D2;\n",
              "      height: 32px;\n",
              "      padding: 0 0 0 0;\n",
              "      width: 32px;\n",
              "    }\n",
              "\n",
              "    .colab-df-convert:hover {\n",
              "      background-color: #E2EBFA;\n",
              "      box-shadow: 0px 1px 2px rgba(60, 64, 67, 0.3), 0px 1px 3px 1px rgba(60, 64, 67, 0.15);\n",
              "      fill: #174EA6;\n",
              "    }\n",
              "\n",
              "    .colab-df-buttons div {\n",
              "      margin-bottom: 4px;\n",
              "    }\n",
              "\n",
              "    [theme=dark] .colab-df-convert {\n",
              "      background-color: #3B4455;\n",
              "      fill: #D2E3FC;\n",
              "    }\n",
              "\n",
              "    [theme=dark] .colab-df-convert:hover {\n",
              "      background-color: #434B5C;\n",
              "      box-shadow: 0px 1px 3px 1px rgba(0, 0, 0, 0.15);\n",
              "      filter: drop-shadow(0px 1px 2px rgba(0, 0, 0, 0.3));\n",
              "      fill: #FFFFFF;\n",
              "    }\n",
              "  </style>\n",
              "\n",
              "    <script>\n",
              "      const buttonEl =\n",
              "        document.querySelector('#df-97ff2d6d-94b7-45ec-9f0b-71bcb1b8d29b button.colab-df-convert');\n",
              "      buttonEl.style.display =\n",
              "        google.colab.kernel.accessAllowed ? 'block' : 'none';\n",
              "\n",
              "      async function convertToInteractive(key) {\n",
              "        const element = document.querySelector('#df-97ff2d6d-94b7-45ec-9f0b-71bcb1b8d29b');\n",
              "        const dataTable =\n",
              "          await google.colab.kernel.invokeFunction('convertToInteractive',\n",
              "                                                    [key], {});\n",
              "        if (!dataTable) return;\n",
              "\n",
              "        const docLinkHtml = 'Like what you see? Visit the ' +\n",
              "          '<a target=\"_blank\" href=https://colab.research.google.com/notebooks/data_table.ipynb>data table notebook</a>'\n",
              "          + ' to learn more about interactive tables.';\n",
              "        element.innerHTML = '';\n",
              "        dataTable['output_type'] = 'display_data';\n",
              "        await google.colab.output.renderOutput(dataTable, element);\n",
              "        const docLink = document.createElement('div');\n",
              "        docLink.innerHTML = docLinkHtml;\n",
              "        element.appendChild(docLink);\n",
              "      }\n",
              "    </script>\n",
              "  </div>\n",
              "\n",
              "\n",
              "<div id=\"df-ae30f140-d9fb-4677-9920-2351a58ef09e\">\n",
              "  <button class=\"colab-df-quickchart\" onclick=\"quickchart('df-ae30f140-d9fb-4677-9920-2351a58ef09e')\"\n",
              "            title=\"Suggest charts\"\n",
              "            style=\"display:none;\">\n",
              "\n",
              "<svg xmlns=\"http://www.w3.org/2000/svg\" height=\"24px\"viewBox=\"0 0 24 24\"\n",
              "     width=\"24px\">\n",
              "    <g>\n",
              "        <path d=\"M19 3H5c-1.1 0-2 .9-2 2v14c0 1.1.9 2 2 2h14c1.1 0 2-.9 2-2V5c0-1.1-.9-2-2-2zM9 17H7v-7h2v7zm4 0h-2V7h2v10zm4 0h-2v-4h2v4z\"/>\n",
              "    </g>\n",
              "</svg>\n",
              "  </button>\n",
              "\n",
              "<style>\n",
              "  .colab-df-quickchart {\n",
              "      --bg-color: #E8F0FE;\n",
              "      --fill-color: #1967D2;\n",
              "      --hover-bg-color: #E2EBFA;\n",
              "      --hover-fill-color: #174EA6;\n",
              "      --disabled-fill-color: #AAA;\n",
              "      --disabled-bg-color: #DDD;\n",
              "  }\n",
              "\n",
              "  [theme=dark] .colab-df-quickchart {\n",
              "      --bg-color: #3B4455;\n",
              "      --fill-color: #D2E3FC;\n",
              "      --hover-bg-color: #434B5C;\n",
              "      --hover-fill-color: #FFFFFF;\n",
              "      --disabled-bg-color: #3B4455;\n",
              "      --disabled-fill-color: #666;\n",
              "  }\n",
              "\n",
              "  .colab-df-quickchart {\n",
              "    background-color: var(--bg-color);\n",
              "    border: none;\n",
              "    border-radius: 50%;\n",
              "    cursor: pointer;\n",
              "    display: none;\n",
              "    fill: var(--fill-color);\n",
              "    height: 32px;\n",
              "    padding: 0;\n",
              "    width: 32px;\n",
              "  }\n",
              "\n",
              "  .colab-df-quickchart:hover {\n",
              "    background-color: var(--hover-bg-color);\n",
              "    box-shadow: 0 1px 2px rgba(60, 64, 67, 0.3), 0 1px 3px 1px rgba(60, 64, 67, 0.15);\n",
              "    fill: var(--button-hover-fill-color);\n",
              "  }\n",
              "\n",
              "  .colab-df-quickchart-complete:disabled,\n",
              "  .colab-df-quickchart-complete:disabled:hover {\n",
              "    background-color: var(--disabled-bg-color);\n",
              "    fill: var(--disabled-fill-color);\n",
              "    box-shadow: none;\n",
              "  }\n",
              "\n",
              "  .colab-df-spinner {\n",
              "    border: 2px solid var(--fill-color);\n",
              "    border-color: transparent;\n",
              "    border-bottom-color: var(--fill-color);\n",
              "    animation:\n",
              "      spin 1s steps(1) infinite;\n",
              "  }\n",
              "\n",
              "  @keyframes spin {\n",
              "    0% {\n",
              "      border-color: transparent;\n",
              "      border-bottom-color: var(--fill-color);\n",
              "      border-left-color: var(--fill-color);\n",
              "    }\n",
              "    20% {\n",
              "      border-color: transparent;\n",
              "      border-left-color: var(--fill-color);\n",
              "      border-top-color: var(--fill-color);\n",
              "    }\n",
              "    30% {\n",
              "      border-color: transparent;\n",
              "      border-left-color: var(--fill-color);\n",
              "      border-top-color: var(--fill-color);\n",
              "      border-right-color: var(--fill-color);\n",
              "    }\n",
              "    40% {\n",
              "      border-color: transparent;\n",
              "      border-right-color: var(--fill-color);\n",
              "      border-top-color: var(--fill-color);\n",
              "    }\n",
              "    60% {\n",
              "      border-color: transparent;\n",
              "      border-right-color: var(--fill-color);\n",
              "    }\n",
              "    80% {\n",
              "      border-color: transparent;\n",
              "      border-right-color: var(--fill-color);\n",
              "      border-bottom-color: var(--fill-color);\n",
              "    }\n",
              "    90% {\n",
              "      border-color: transparent;\n",
              "      border-bottom-color: var(--fill-color);\n",
              "    }\n",
              "  }\n",
              "</style>\n",
              "\n",
              "  <script>\n",
              "    async function quickchart(key) {\n",
              "      const quickchartButtonEl =\n",
              "        document.querySelector('#' + key + ' button');\n",
              "      quickchartButtonEl.disabled = true;  // To prevent multiple clicks.\n",
              "      quickchartButtonEl.classList.add('colab-df-spinner');\n",
              "      try {\n",
              "        const charts = await google.colab.kernel.invokeFunction(\n",
              "            'suggestCharts', [key], {});\n",
              "      } catch (error) {\n",
              "        console.error('Error during call to suggestCharts:', error);\n",
              "      }\n",
              "      quickchartButtonEl.classList.remove('colab-df-spinner');\n",
              "      quickchartButtonEl.classList.add('colab-df-quickchart-complete');\n",
              "    }\n",
              "    (() => {\n",
              "      let quickchartButtonEl =\n",
              "        document.querySelector('#df-ae30f140-d9fb-4677-9920-2351a58ef09e button');\n",
              "      quickchartButtonEl.style.display =\n",
              "        google.colab.kernel.accessAllowed ? 'block' : 'none';\n",
              "    })();\n",
              "  </script>\n",
              "</div>\n",
              "\n",
              "    </div>\n",
              "  </div>\n"
            ],
            "application/vnd.google.colaboratory.intrinsic+json": {
              "type": "dataframe",
              "summary": "{\n  \"name\": \"dataset1\",\n  \"rows\": 8,\n  \"fields\": [\n    {\n      \"column\": \"Open\",\n      \"properties\": {\n        \"dtype\": \"number\",\n        \"std\": 208.06521349636924,\n        \"min\": 53.887910544317194,\n        \"max\": 680.0,\n        \"num_unique_values\": 8,\n        \"samples\": [\n          192.10198926432355,\n          177.5303955,\n          680.0\n        ],\n        \"semantic_type\": \"\",\n        \"description\": \"\"\n      }\n    },\n    {\n      \"column\": \"High\",\n      \"properties\": {\n        \"dtype\": \"number\",\n        \"std\": 212.7536258273678,\n        \"min\": 59.525744703108074,\n        \"max\": 680.0,\n        \"num_unique_values\": 8,\n        \"samples\": [\n          200.64396981667647,\n          183.4565811,\n          680.0\n        ],\n        \"semantic_type\": \"\",\n        \"description\": \"\"\n      }\n    },\n    {\n      \"column\": \"Low\",\n      \"properties\": {\n        \"dtype\": \"number\",\n        \"std\": 204.35910176207108,\n        \"min\": 47.90349621506169,\n        \"max\": 680.0,\n        \"num_unique_values\": 8,\n        \"samples\": [\n          183.50156555072058,\n          171.33634945,\n          680.0\n        ],\n        \"semantic_type\": \"\",\n        \"description\": \"\"\n      }\n    },\n    {\n      \"column\": \"Close\",\n      \"properties\": {\n        \"dtype\": \"number\",\n        \"std\": 208.12623113136294,\n        \"min\": 53.75902456123605,\n        \"max\": 680.0,\n        \"num_unique_values\": 8,\n        \"samples\": [\n          192.16471017941174,\n          177.41435239999998,\n          680.0\n        ],\n        \"semantic_type\": \"\",\n        \"description\": \"\"\n      }\n    },\n    {\n      \"column\": \"Volume\",\n      \"properties\": {\n        \"dtype\": \"number\",\n        \"std\": 2425828751.323479,\n        \"min\": 680.0,\n        \"max\": 7460265156.0,\n        \"num_unique_values\": 8,\n        \"samples\": [\n          1240575587.4941177,\n          972225891.0,\n          680.0\n        ],\n        \"semantic_type\": \"\",\n        \"description\": \"\"\n      }\n    }\n  ]\n}"
            }
          },
          "metadata": {},
          "execution_count": 5
        }
      ]
    },
    {
      "cell_type": "code",
      "source": [
        "dataset1.info()"
      ],
      "metadata": {
        "id": "I5muD3eIfX06",
        "colab": {
          "base_uri": "https://localhost:8080/"
        },
        "outputId": "691126d9-6a41-4716-c1e3-7487330edca6"
      },
      "execution_count": 6,
      "outputs": [
        {
          "output_type": "stream",
          "name": "stdout",
          "text": [
            "<class 'pandas.core.frame.DataFrame'>\n",
            "RangeIndex: 680 entries, 0 to 679\n",
            "Data columns (total 8 columns):\n",
            " #   Column          Non-Null Count  Dtype  \n",
            "---  ------          --------------  -----  \n",
            " 0   Date            680 non-null    object \n",
            " 1   Open            680 non-null    float64\n",
            " 2   High            680 non-null    float64\n",
            " 3   Low             680 non-null    float64\n",
            " 4   Close           680 non-null    float64\n",
            " 5   Volume          680 non-null    int64  \n",
            " 6   Currency        680 non-null    object \n",
            " 7   Price Movement  680 non-null    object \n",
            "dtypes: float64(4), int64(1), object(3)\n",
            "memory usage: 42.6+ KB\n"
          ]
        }
      ]
    },
    {
      "cell_type": "code",
      "source": [
        "numeric_df = dataset1.select_dtypes(include=[np.number])\n",
        "correlation_matrix = numeric_df.corr()\n",
        "print(correlation_matrix)"
      ],
      "metadata": {
        "colab": {
          "base_uri": "https://localhost:8080/"
        },
        "id": "fNEvvIgfd6YL",
        "outputId": "a767d480-c18a-4a3f-fa26-fc109a3875a5"
      },
      "execution_count": 7,
      "outputs": [
        {
          "output_type": "stream",
          "name": "stdout",
          "text": [
            "            Open      High       Low     Close    Volume\n",
            "Open    1.000000  0.966085  0.968615  0.942173  0.642373\n",
            "High    0.966085  1.000000  0.948314  0.982008  0.714134\n",
            "Low     0.968615  0.948314  1.000000  0.966587  0.597430\n",
            "Close   0.942173  0.982008  0.966587  1.000000  0.680266\n",
            "Volume  0.642373  0.714134  0.597430  0.680266  1.000000\n"
          ]
        }
      ]
    },
    {
      "cell_type": "code",
      "source": [
        "# Step 1: Modify the column based on conditions\n",
        "dataset1['Price Movement'] = dataset1['Price Movement'].apply(lambda x: 1 if x == 'Increase' else (0 if x == 'Decrease' else x))\n",
        "# Step 2: Save the DataFrame to a new CSV file\n",
        "dataset1.to_csv('output_file.csv', index=False)\n"
      ],
      "metadata": {
        "id": "-A-GOAJ0izGs"
      },
      "execution_count": 8,
      "outputs": []
    },
    {
      "cell_type": "code",
      "source": [
        "dataset1.head(4)"
      ],
      "metadata": {
        "id": "OB5a_LikjTEG",
        "colab": {
          "base_uri": "https://localhost:8080/",
          "height": 175
        },
        "outputId": "8d358fda-c0fc-4950-9745-de1565f8c764"
      },
      "execution_count": 9,
      "outputs": [
        {
          "output_type": "execute_result",
          "data": {
            "text/plain": [
              "         Date       Open        High        Low       Close     Volume  \\\n",
              "0  31-12-2019  97.017212   98.649490  94.542473   97.078827  533536931   \n",
              "1  01-01-2020  97.078827   99.849426  96.414330   97.201797  450643882   \n",
              "2  02-01-2020  97.237602   97.740555  92.705391   92.837914  424249976   \n",
              "3  03-01-2020  93.084511  103.889168  92.114578  102.609962  697088052   \n",
              "\n",
              "  Currency  Price Movement  \n",
              "0      USD               1  \n",
              "1      USD               1  \n",
              "2      USD               0  \n",
              "3      USD               1  "
            ],
            "text/html": [
              "\n",
              "  <div id=\"df-478ffb44-25c6-41a3-b51b-62875c837e4c\" class=\"colab-df-container\">\n",
              "    <div>\n",
              "<style scoped>\n",
              "    .dataframe tbody tr th:only-of-type {\n",
              "        vertical-align: middle;\n",
              "    }\n",
              "\n",
              "    .dataframe tbody tr th {\n",
              "        vertical-align: top;\n",
              "    }\n",
              "\n",
              "    .dataframe thead th {\n",
              "        text-align: right;\n",
              "    }\n",
              "</style>\n",
              "<table border=\"1\" class=\"dataframe\">\n",
              "  <thead>\n",
              "    <tr style=\"text-align: right;\">\n",
              "      <th></th>\n",
              "      <th>Date</th>\n",
              "      <th>Open</th>\n",
              "      <th>High</th>\n",
              "      <th>Low</th>\n",
              "      <th>Close</th>\n",
              "      <th>Volume</th>\n",
              "      <th>Currency</th>\n",
              "      <th>Price Movement</th>\n",
              "    </tr>\n",
              "  </thead>\n",
              "  <tbody>\n",
              "    <tr>\n",
              "      <th>0</th>\n",
              "      <td>31-12-2019</td>\n",
              "      <td>97.017212</td>\n",
              "      <td>98.649490</td>\n",
              "      <td>94.542473</td>\n",
              "      <td>97.078827</td>\n",
              "      <td>533536931</td>\n",
              "      <td>USD</td>\n",
              "      <td>1</td>\n",
              "    </tr>\n",
              "    <tr>\n",
              "      <th>1</th>\n",
              "      <td>01-01-2020</td>\n",
              "      <td>97.078827</td>\n",
              "      <td>99.849426</td>\n",
              "      <td>96.414330</td>\n",
              "      <td>97.201797</td>\n",
              "      <td>450643882</td>\n",
              "      <td>USD</td>\n",
              "      <td>1</td>\n",
              "    </tr>\n",
              "    <tr>\n",
              "      <th>2</th>\n",
              "      <td>02-01-2020</td>\n",
              "      <td>97.237602</td>\n",
              "      <td>97.740555</td>\n",
              "      <td>92.705391</td>\n",
              "      <td>92.837914</td>\n",
              "      <td>424249976</td>\n",
              "      <td>USD</td>\n",
              "      <td>0</td>\n",
              "    </tr>\n",
              "    <tr>\n",
              "      <th>3</th>\n",
              "      <td>03-01-2020</td>\n",
              "      <td>93.084511</td>\n",
              "      <td>103.889168</td>\n",
              "      <td>92.114578</td>\n",
              "      <td>102.609962</td>\n",
              "      <td>697088052</td>\n",
              "      <td>USD</td>\n",
              "      <td>1</td>\n",
              "    </tr>\n",
              "  </tbody>\n",
              "</table>\n",
              "</div>\n",
              "    <div class=\"colab-df-buttons\">\n",
              "\n",
              "  <div class=\"colab-df-container\">\n",
              "    <button class=\"colab-df-convert\" onclick=\"convertToInteractive('df-478ffb44-25c6-41a3-b51b-62875c837e4c')\"\n",
              "            title=\"Convert this dataframe to an interactive table.\"\n",
              "            style=\"display:none;\">\n",
              "\n",
              "  <svg xmlns=\"http://www.w3.org/2000/svg\" height=\"24px\" viewBox=\"0 -960 960 960\">\n",
              "    <path d=\"M120-120v-720h720v720H120Zm60-500h600v-160H180v160Zm220 220h160v-160H400v160Zm0 220h160v-160H400v160ZM180-400h160v-160H180v160Zm440 0h160v-160H620v160ZM180-180h160v-160H180v160Zm440 0h160v-160H620v160Z\"/>\n",
              "  </svg>\n",
              "    </button>\n",
              "\n",
              "  <style>\n",
              "    .colab-df-container {\n",
              "      display:flex;\n",
              "      gap: 12px;\n",
              "    }\n",
              "\n",
              "    .colab-df-convert {\n",
              "      background-color: #E8F0FE;\n",
              "      border: none;\n",
              "      border-radius: 50%;\n",
              "      cursor: pointer;\n",
              "      display: none;\n",
              "      fill: #1967D2;\n",
              "      height: 32px;\n",
              "      padding: 0 0 0 0;\n",
              "      width: 32px;\n",
              "    }\n",
              "\n",
              "    .colab-df-convert:hover {\n",
              "      background-color: #E2EBFA;\n",
              "      box-shadow: 0px 1px 2px rgba(60, 64, 67, 0.3), 0px 1px 3px 1px rgba(60, 64, 67, 0.15);\n",
              "      fill: #174EA6;\n",
              "    }\n",
              "\n",
              "    .colab-df-buttons div {\n",
              "      margin-bottom: 4px;\n",
              "    }\n",
              "\n",
              "    [theme=dark] .colab-df-convert {\n",
              "      background-color: #3B4455;\n",
              "      fill: #D2E3FC;\n",
              "    }\n",
              "\n",
              "    [theme=dark] .colab-df-convert:hover {\n",
              "      background-color: #434B5C;\n",
              "      box-shadow: 0px 1px 3px 1px rgba(0, 0, 0, 0.15);\n",
              "      filter: drop-shadow(0px 1px 2px rgba(0, 0, 0, 0.3));\n",
              "      fill: #FFFFFF;\n",
              "    }\n",
              "  </style>\n",
              "\n",
              "    <script>\n",
              "      const buttonEl =\n",
              "        document.querySelector('#df-478ffb44-25c6-41a3-b51b-62875c837e4c button.colab-df-convert');\n",
              "      buttonEl.style.display =\n",
              "        google.colab.kernel.accessAllowed ? 'block' : 'none';\n",
              "\n",
              "      async function convertToInteractive(key) {\n",
              "        const element = document.querySelector('#df-478ffb44-25c6-41a3-b51b-62875c837e4c');\n",
              "        const dataTable =\n",
              "          await google.colab.kernel.invokeFunction('convertToInteractive',\n",
              "                                                    [key], {});\n",
              "        if (!dataTable) return;\n",
              "\n",
              "        const docLinkHtml = 'Like what you see? Visit the ' +\n",
              "          '<a target=\"_blank\" href=https://colab.research.google.com/notebooks/data_table.ipynb>data table notebook</a>'\n",
              "          + ' to learn more about interactive tables.';\n",
              "        element.innerHTML = '';\n",
              "        dataTable['output_type'] = 'display_data';\n",
              "        await google.colab.output.renderOutput(dataTable, element);\n",
              "        const docLink = document.createElement('div');\n",
              "        docLink.innerHTML = docLinkHtml;\n",
              "        element.appendChild(docLink);\n",
              "      }\n",
              "    </script>\n",
              "  </div>\n",
              "\n",
              "\n",
              "<div id=\"df-cca3c322-1a88-4087-97ac-8314f62cc03b\">\n",
              "  <button class=\"colab-df-quickchart\" onclick=\"quickchart('df-cca3c322-1a88-4087-97ac-8314f62cc03b')\"\n",
              "            title=\"Suggest charts\"\n",
              "            style=\"display:none;\">\n",
              "\n",
              "<svg xmlns=\"http://www.w3.org/2000/svg\" height=\"24px\"viewBox=\"0 0 24 24\"\n",
              "     width=\"24px\">\n",
              "    <g>\n",
              "        <path d=\"M19 3H5c-1.1 0-2 .9-2 2v14c0 1.1.9 2 2 2h14c1.1 0 2-.9 2-2V5c0-1.1-.9-2-2-2zM9 17H7v-7h2v7zm4 0h-2V7h2v10zm4 0h-2v-4h2v4z\"/>\n",
              "    </g>\n",
              "</svg>\n",
              "  </button>\n",
              "\n",
              "<style>\n",
              "  .colab-df-quickchart {\n",
              "      --bg-color: #E8F0FE;\n",
              "      --fill-color: #1967D2;\n",
              "      --hover-bg-color: #E2EBFA;\n",
              "      --hover-fill-color: #174EA6;\n",
              "      --disabled-fill-color: #AAA;\n",
              "      --disabled-bg-color: #DDD;\n",
              "  }\n",
              "\n",
              "  [theme=dark] .colab-df-quickchart {\n",
              "      --bg-color: #3B4455;\n",
              "      --fill-color: #D2E3FC;\n",
              "      --hover-bg-color: #434B5C;\n",
              "      --hover-fill-color: #FFFFFF;\n",
              "      --disabled-bg-color: #3B4455;\n",
              "      --disabled-fill-color: #666;\n",
              "  }\n",
              "\n",
              "  .colab-df-quickchart {\n",
              "    background-color: var(--bg-color);\n",
              "    border: none;\n",
              "    border-radius: 50%;\n",
              "    cursor: pointer;\n",
              "    display: none;\n",
              "    fill: var(--fill-color);\n",
              "    height: 32px;\n",
              "    padding: 0;\n",
              "    width: 32px;\n",
              "  }\n",
              "\n",
              "  .colab-df-quickchart:hover {\n",
              "    background-color: var(--hover-bg-color);\n",
              "    box-shadow: 0 1px 2px rgba(60, 64, 67, 0.3), 0 1px 3px 1px rgba(60, 64, 67, 0.15);\n",
              "    fill: var(--button-hover-fill-color);\n",
              "  }\n",
              "\n",
              "  .colab-df-quickchart-complete:disabled,\n",
              "  .colab-df-quickchart-complete:disabled:hover {\n",
              "    background-color: var(--disabled-bg-color);\n",
              "    fill: var(--disabled-fill-color);\n",
              "    box-shadow: none;\n",
              "  }\n",
              "\n",
              "  .colab-df-spinner {\n",
              "    border: 2px solid var(--fill-color);\n",
              "    border-color: transparent;\n",
              "    border-bottom-color: var(--fill-color);\n",
              "    animation:\n",
              "      spin 1s steps(1) infinite;\n",
              "  }\n",
              "\n",
              "  @keyframes spin {\n",
              "    0% {\n",
              "      border-color: transparent;\n",
              "      border-bottom-color: var(--fill-color);\n",
              "      border-left-color: var(--fill-color);\n",
              "    }\n",
              "    20% {\n",
              "      border-color: transparent;\n",
              "      border-left-color: var(--fill-color);\n",
              "      border-top-color: var(--fill-color);\n",
              "    }\n",
              "    30% {\n",
              "      border-color: transparent;\n",
              "      border-left-color: var(--fill-color);\n",
              "      border-top-color: var(--fill-color);\n",
              "      border-right-color: var(--fill-color);\n",
              "    }\n",
              "    40% {\n",
              "      border-color: transparent;\n",
              "      border-right-color: var(--fill-color);\n",
              "      border-top-color: var(--fill-color);\n",
              "    }\n",
              "    60% {\n",
              "      border-color: transparent;\n",
              "      border-right-color: var(--fill-color);\n",
              "    }\n",
              "    80% {\n",
              "      border-color: transparent;\n",
              "      border-right-color: var(--fill-color);\n",
              "      border-bottom-color: var(--fill-color);\n",
              "    }\n",
              "    90% {\n",
              "      border-color: transparent;\n",
              "      border-bottom-color: var(--fill-color);\n",
              "    }\n",
              "  }\n",
              "</style>\n",
              "\n",
              "  <script>\n",
              "    async function quickchart(key) {\n",
              "      const quickchartButtonEl =\n",
              "        document.querySelector('#' + key + ' button');\n",
              "      quickchartButtonEl.disabled = true;  // To prevent multiple clicks.\n",
              "      quickchartButtonEl.classList.add('colab-df-spinner');\n",
              "      try {\n",
              "        const charts = await google.colab.kernel.invokeFunction(\n",
              "            'suggestCharts', [key], {});\n",
              "      } catch (error) {\n",
              "        console.error('Error during call to suggestCharts:', error);\n",
              "      }\n",
              "      quickchartButtonEl.classList.remove('colab-df-spinner');\n",
              "      quickchartButtonEl.classList.add('colab-df-quickchart-complete');\n",
              "    }\n",
              "    (() => {\n",
              "      let quickchartButtonEl =\n",
              "        document.querySelector('#df-cca3c322-1a88-4087-97ac-8314f62cc03b button');\n",
              "      quickchartButtonEl.style.display =\n",
              "        google.colab.kernel.accessAllowed ? 'block' : 'none';\n",
              "    })();\n",
              "  </script>\n",
              "</div>\n",
              "\n",
              "    </div>\n",
              "  </div>\n"
            ],
            "application/vnd.google.colaboratory.intrinsic+json": {
              "type": "dataframe",
              "variable_name": "dataset1",
              "summary": "{\n  \"name\": \"dataset1\",\n  \"rows\": 680,\n  \"fields\": [\n    {\n      \"column\": \"Date\",\n      \"properties\": {\n        \"dtype\": \"object\",\n        \"num_unique_values\": 680,\n        \"samples\": [\n          \"29-10-2021\",\n          \"19-09-2021\",\n          \"03-03-2020\"\n        ],\n        \"semantic_type\": \"\",\n        \"description\": \"\"\n      }\n    },\n    {\n      \"column\": \"Open\",\n      \"properties\": {\n        \"dtype\": \"number\",\n        \"std\": 53.887910544317194,\n        \"min\": 93.0845108,\n        \"max\": 441.3268127,\n        \"num_unique_values\": 680,\n        \"samples\": [\n          162.609375,\n          157.1651154,\n          251.6865082\n        ],\n        \"semantic_type\": \"\",\n        \"description\": \"\"\n      }\n    },\n    {\n      \"column\": \"High\",\n      \"properties\": {\n        \"dtype\": \"number\",\n        \"std\": 59.525744703108074,\n        \"min\": 97.74055481,\n        \"max\": 491.635376,\n        \"num_unique_values\": 680,\n        \"samples\": [\n          166.6912842,\n          175.3679504,\n          253.9811859\n        ],\n        \"semantic_type\": \"\",\n        \"description\": \"\"\n      }\n    },\n    {\n      \"column\": \"Low\",\n      \"properties\": {\n        \"dtype\": \"number\",\n        \"std\": 47.90349621506169,\n        \"min\": 88.07146454,\n        \"max\": 387.7619934,\n        \"num_unique_values\": 680,\n        \"samples\": [\n          160.7927399,\n          155.0812378,\n          242.1954346\n        ],\n        \"semantic_type\": \"\",\n        \"description\": \"\"\n      }\n    },\n    {\n      \"column\": \"Close\",\n      \"properties\": {\n        \"dtype\": \"number\",\n        \"std\": 53.75902456123605,\n        \"min\": 92.83791351,\n        \"max\": 441.3943481,\n        \"num_unique_values\": 680,\n        \"samples\": [\n          165.8844757,\n          162.2528687,\n          246.4846649\n        ],\n        \"semantic_type\": \"\",\n        \"description\": \"\"\n      }\n    },\n    {\n      \"column\": \"Volume\",\n      \"properties\": {\n        \"dtype\": \"number\",\n        \"std\": 939591774,\n        \"min\": 124438573,\n        \"max\": 7460265156,\n        \"num_unique_values\": 680,\n        \"samples\": [\n          238743832,\n          253197150,\n          2741753419\n        ],\n        \"semantic_type\": \"\",\n        \"description\": \"\"\n      }\n    },\n    {\n      \"column\": \"Currency\",\n      \"properties\": {\n        \"dtype\": \"category\",\n        \"num_unique_values\": 1,\n        \"samples\": [\n          \"USD\"\n        ],\n        \"semantic_type\": \"\",\n        \"description\": \"\"\n      }\n    },\n    {\n      \"column\": \"Price Movement\",\n      \"properties\": {\n        \"dtype\": \"number\",\n        \"std\": 0,\n        \"min\": 0,\n        \"max\": 1,\n        \"num_unique_values\": 2,\n        \"samples\": [\n          0\n        ],\n        \"semantic_type\": \"\",\n        \"description\": \"\"\n      }\n    }\n  ]\n}"
            }
          },
          "metadata": {},
          "execution_count": 9
        }
      ]
    },
    {
      "cell_type": "code",
      "source": [
        "x=dataset1.iloc[:,[1,4]].values\n",
        "y=dataset1.iloc[:,-1].values"
      ],
      "metadata": {
        "id": "n7ioCpSGjbqv"
      },
      "execution_count": 10,
      "outputs": []
    },
    {
      "cell_type": "code",
      "source": [
        "x"
      ],
      "metadata": {
        "id": "4S_q7-YqlKMk",
        "colab": {
          "base_uri": "https://localhost:8080/"
        },
        "outputId": "d14f8f43-a357-453c-b033-4ad10b0e69a3"
      },
      "execution_count": 11,
      "outputs": [
        {
          "output_type": "execute_result",
          "data": {
            "text/plain": [
              "array([[ 97.01721191,  97.0788269 ],\n",
              "       [ 97.0788269 ,  97.20179749],\n",
              "       [ 97.23760223,  92.83791351],\n",
              "       ...,\n",
              "       [146.0258484 , 151.3834839 ],\n",
              "       [151.4198456 , 151.8622437 ],\n",
              "       [151.6067047 , 152.0396271 ]])"
            ]
          },
          "metadata": {},
          "execution_count": 11
        }
      ]
    },
    {
      "cell_type": "code",
      "source": [
        "y"
      ],
      "metadata": {
        "id": "LGmg0mXGlmBu",
        "colab": {
          "base_uri": "https://localhost:8080/"
        },
        "outputId": "e8a7e006-53a5-4093-f333-4a62e05a8e1b"
      },
      "execution_count": 12,
      "outputs": [
        {
          "output_type": "execute_result",
          "data": {
            "text/plain": [
              "array([1, 1, 0, 1, 1, 1, 1, 0, 1, 1, 1, 0, 1, 1, 1, 0, 1, 0, 0, 1, 1, 1,\n",
              "       0, 0, 1, 0, 1, 1, 0, 0, 1, 0, 1, 0, 1, 0, 1, 0, 1, 1, 1, 1, 1, 1,\n",
              "       0, 1, 0, 0, 1, 0, 0, 0, 1, 0, 1, 0, 0, 0, 1, 0, 0, 1, 1, 0, 0, 1,\n",
              "       1, 0, 0, 1, 0, 0, 0, 1, 0, 1, 0, 1, 1, 1, 1, 1, 0, 1, 1, 0, 0, 0,\n",
              "       0, 0, 1, 0, 1, 1, 1, 1, 0, 1, 0, 1, 0, 0, 0, 1, 0, 1, 0, 1, 1, 0,\n",
              "       0, 0, 1, 1, 1, 1, 1, 0, 1, 1, 1, 1, 1, 0, 0, 1, 0, 1, 1, 1, 0, 1,\n",
              "       0, 1, 1, 0, 1, 1, 1, 0, 0, 0, 1, 0, 0, 0, 0, 1, 1, 0, 1, 0, 1, 0,\n",
              "       1, 1, 0, 0, 0, 0, 0, 1, 0, 1, 0, 0, 0, 1, 1, 0, 0, 1, 0, 1, 1, 0,\n",
              "       0, 0, 0, 0, 1, 0, 0, 0, 0, 0, 0, 1, 0, 1, 0, 0, 1, 1, 0, 0, 0, 0,\n",
              "       0, 1, 0, 0, 1, 1, 1, 0, 1, 0, 1, 1, 0, 1, 1, 1, 0, 1, 0, 1, 1, 0,\n",
              "       1, 0, 1, 0, 0, 0, 1, 0, 0, 1, 0, 0, 0, 1, 0, 0, 0, 1, 0, 1, 0, 1,\n",
              "       0, 0, 1, 1, 1, 1, 0, 0, 0, 1, 0, 1, 0, 1, 1, 0, 1, 0, 0, 1, 0, 1,\n",
              "       1, 1, 1, 0, 1, 0, 0, 1, 0, 0, 1, 1, 0, 1, 1, 0, 1, 0, 0, 0, 1, 0,\n",
              "       0, 0, 0, 1, 1, 0, 1, 0, 0, 1, 0, 1, 0, 0, 1, 1, 0, 0, 1, 1, 0, 1,\n",
              "       1, 0, 0, 0, 1, 1, 1, 0, 1, 0, 1, 1, 0, 1, 0, 0, 0, 0, 1, 1, 0, 1,\n",
              "       1, 0, 0, 0, 1, 0, 0, 0, 1, 1, 0, 1, 1, 0, 1, 0, 0, 0, 1, 0, 1, 1,\n",
              "       0, 1, 1, 0, 0, 0, 1, 1, 0, 0, 0, 1, 0, 0, 0, 1, 0, 1, 1, 0, 0, 1,\n",
              "       1, 1, 0, 1, 1, 1, 0, 1, 0, 0, 1, 1, 0, 1, 1, 1, 0, 0, 0, 1, 0, 1,\n",
              "       0, 1, 0, 0, 1, 0, 0, 1, 0, 1, 0, 1, 0, 0, 1, 1, 1, 1, 0, 0, 0, 1,\n",
              "       0, 0, 1, 1, 1, 1, 0, 0, 1, 1, 0, 0, 1, 0, 0, 1, 1, 1, 1, 1, 0, 1,\n",
              "       1, 1, 0, 1, 1, 1, 1, 0, 1, 1, 1, 1, 0, 0, 0, 1, 0, 0, 0, 0, 1, 1,\n",
              "       1, 1, 0, 1, 1, 0, 1, 0, 1, 0, 0, 0, 0, 0, 1, 0, 1, 1, 0, 1, 0, 1,\n",
              "       0, 1, 0, 0, 0, 1, 0, 1, 1, 0, 0, 1, 1, 1, 1, 1, 0, 1, 1, 0, 0, 1,\n",
              "       0, 0, 0, 1, 1, 0, 0, 0, 0, 0, 0, 0, 0, 1, 1, 0, 1, 1, 1, 0, 0, 0,\n",
              "       0, 1, 1, 0, 0, 0, 0, 0, 0, 0, 1, 0, 0, 0, 0, 0, 1, 0, 0, 1, 1, 1,\n",
              "       1, 1, 1, 1, 1, 1, 1, 1, 1, 1, 0, 1, 1, 1, 1, 0, 1, 0, 1, 0, 1, 0,\n",
              "       1, 0, 0, 0, 1, 1, 0, 0, 1, 0, 1, 0, 1, 1, 1, 0, 0, 1, 0, 1, 1, 0,\n",
              "       0, 0, 0, 1, 1, 0, 1, 1, 1, 0, 0, 1, 0, 1, 0, 1, 1, 0, 0, 1, 0, 0,\n",
              "       0, 1, 1, 1, 0, 1, 0, 1, 0, 1, 0, 1, 0, 1, 0, 1, 1, 1, 0, 0, 0, 1,\n",
              "       1, 0, 1, 1, 0, 0, 0, 0, 1, 1, 0, 1, 0, 1, 1, 1, 1, 0, 1, 1, 1, 0,\n",
              "       0, 0, 1, 1, 0, 0, 1, 0, 1, 1, 1, 0, 1, 0, 0, 0, 1, 1, 1, 1])"
            ]
          },
          "metadata": {},
          "execution_count": 12
        }
      ]
    },
    {
      "cell_type": "code",
      "source": [
        "x_train,x_test,y_train,y_test = train_test_split(x,y,test_size=0.25)"
      ],
      "metadata": {
        "id": "5agpZT5A4fsA"
      },
      "execution_count": 13,
      "outputs": []
    },
    {
      "cell_type": "code",
      "source": [
        "sc=StandardScaler()"
      ],
      "metadata": {
        "id": "_-rUly5rnCXz"
      },
      "execution_count": 14,
      "outputs": []
    },
    {
      "cell_type": "code",
      "source": [
        "x_train=sc.fit_transform(x_train)\n",
        "x_test=sc.transform(x_test)"
      ],
      "metadata": {
        "id": "aVVj03mNnboc"
      },
      "execution_count": 15,
      "outputs": []
    },
    {
      "cell_type": "code",
      "source": [
        "print(x_train.shape)\n",
        "print(x_test.shape)\n",
        "print(y_train.shape)\n",
        "print(y_test.shape)"
      ],
      "metadata": {
        "id": "EsWUYITkysBK",
        "colab": {
          "base_uri": "https://localhost:8080/"
        },
        "outputId": "9c79d271-76b4-4f03-b073-0a7d8ca41aff"
      },
      "execution_count": 16,
      "outputs": [
        {
          "output_type": "stream",
          "name": "stdout",
          "text": [
            "(510, 2)\n",
            "(170, 2)\n",
            "(510,)\n",
            "(170,)\n"
          ]
        }
      ]
    },
    {
      "cell_type": "code",
      "source": [
        "cla=RandomForestClassifier()"
      ],
      "metadata": {
        "id": "fJxu3bbEntBC"
      },
      "execution_count": 17,
      "outputs": []
    },
    {
      "cell_type": "code",
      "source": [
        "cla.fit(x_train,y_train)"
      ],
      "metadata": {
        "id": "NdYt6P9jpJL9",
        "colab": {
          "base_uri": "https://localhost:8080/",
          "height": 75
        },
        "outputId": "13a56293-4c6a-49c5-fb72-371350cc6f81"
      },
      "execution_count": 18,
      "outputs": [
        {
          "output_type": "execute_result",
          "data": {
            "text/plain": [
              "RandomForestClassifier()"
            ],
            "text/html": [
              "<style>#sk-container-id-1 {color: black;}#sk-container-id-1 pre{padding: 0;}#sk-container-id-1 div.sk-toggleable {background-color: white;}#sk-container-id-1 label.sk-toggleable__label {cursor: pointer;display: block;width: 100%;margin-bottom: 0;padding: 0.3em;box-sizing: border-box;text-align: center;}#sk-container-id-1 label.sk-toggleable__label-arrow:before {content: \"▸\";float: left;margin-right: 0.25em;color: #696969;}#sk-container-id-1 label.sk-toggleable__label-arrow:hover:before {color: black;}#sk-container-id-1 div.sk-estimator:hover label.sk-toggleable__label-arrow:before {color: black;}#sk-container-id-1 div.sk-toggleable__content {max-height: 0;max-width: 0;overflow: hidden;text-align: left;background-color: #f0f8ff;}#sk-container-id-1 div.sk-toggleable__content pre {margin: 0.2em;color: black;border-radius: 0.25em;background-color: #f0f8ff;}#sk-container-id-1 input.sk-toggleable__control:checked~div.sk-toggleable__content {max-height: 200px;max-width: 100%;overflow: auto;}#sk-container-id-1 input.sk-toggleable__control:checked~label.sk-toggleable__label-arrow:before {content: \"▾\";}#sk-container-id-1 div.sk-estimator input.sk-toggleable__control:checked~label.sk-toggleable__label {background-color: #d4ebff;}#sk-container-id-1 div.sk-label input.sk-toggleable__control:checked~label.sk-toggleable__label {background-color: #d4ebff;}#sk-container-id-1 input.sk-hidden--visually {border: 0;clip: rect(1px 1px 1px 1px);clip: rect(1px, 1px, 1px, 1px);height: 1px;margin: -1px;overflow: hidden;padding: 0;position: absolute;width: 1px;}#sk-container-id-1 div.sk-estimator {font-family: monospace;background-color: #f0f8ff;border: 1px dotted black;border-radius: 0.25em;box-sizing: border-box;margin-bottom: 0.5em;}#sk-container-id-1 div.sk-estimator:hover {background-color: #d4ebff;}#sk-container-id-1 div.sk-parallel-item::after {content: \"\";width: 100%;border-bottom: 1px solid gray;flex-grow: 1;}#sk-container-id-1 div.sk-label:hover label.sk-toggleable__label {background-color: #d4ebff;}#sk-container-id-1 div.sk-serial::before {content: \"\";position: absolute;border-left: 1px solid gray;box-sizing: border-box;top: 0;bottom: 0;left: 50%;z-index: 0;}#sk-container-id-1 div.sk-serial {display: flex;flex-direction: column;align-items: center;background-color: white;padding-right: 0.2em;padding-left: 0.2em;position: relative;}#sk-container-id-1 div.sk-item {position: relative;z-index: 1;}#sk-container-id-1 div.sk-parallel {display: flex;align-items: stretch;justify-content: center;background-color: white;position: relative;}#sk-container-id-1 div.sk-item::before, #sk-container-id-1 div.sk-parallel-item::before {content: \"\";position: absolute;border-left: 1px solid gray;box-sizing: border-box;top: 0;bottom: 0;left: 50%;z-index: -1;}#sk-container-id-1 div.sk-parallel-item {display: flex;flex-direction: column;z-index: 1;position: relative;background-color: white;}#sk-container-id-1 div.sk-parallel-item:first-child::after {align-self: flex-end;width: 50%;}#sk-container-id-1 div.sk-parallel-item:last-child::after {align-self: flex-start;width: 50%;}#sk-container-id-1 div.sk-parallel-item:only-child::after {width: 0;}#sk-container-id-1 div.sk-dashed-wrapped {border: 1px dashed gray;margin: 0 0.4em 0.5em 0.4em;box-sizing: border-box;padding-bottom: 0.4em;background-color: white;}#sk-container-id-1 div.sk-label label {font-family: monospace;font-weight: bold;display: inline-block;line-height: 1.2em;}#sk-container-id-1 div.sk-label-container {text-align: center;}#sk-container-id-1 div.sk-container {/* jupyter's `normalize.less` sets `[hidden] { display: none; }` but bootstrap.min.css set `[hidden] { display: none !important; }` so we also need the `!important` here to be able to override the default hidden behavior on the sphinx rendered scikit-learn.org. See: https://github.com/scikit-learn/scikit-learn/issues/21755 */display: inline-block !important;position: relative;}#sk-container-id-1 div.sk-text-repr-fallback {display: none;}</style><div id=\"sk-container-id-1\" class=\"sk-top-container\"><div class=\"sk-text-repr-fallback\"><pre>RandomForestClassifier()</pre><b>In a Jupyter environment, please rerun this cell to show the HTML representation or trust the notebook. <br />On GitHub, the HTML representation is unable to render, please try loading this page with nbviewer.org.</b></div><div class=\"sk-container\" hidden><div class=\"sk-item\"><div class=\"sk-estimator sk-toggleable\"><input class=\"sk-toggleable__control sk-hidden--visually\" id=\"sk-estimator-id-1\" type=\"checkbox\" checked><label for=\"sk-estimator-id-1\" class=\"sk-toggleable__label sk-toggleable__label-arrow\">RandomForestClassifier</label><div class=\"sk-toggleable__content\"><pre>RandomForestClassifier()</pre></div></div></div></div></div>"
            ]
          },
          "metadata": {},
          "execution_count": 18
        }
      ]
    },
    {
      "cell_type": "code",
      "source": [
        "pred=cla.predict(x_test)"
      ],
      "metadata": {
        "id": "ZmEoQb91pRij"
      },
      "execution_count": 19,
      "outputs": []
    },
    {
      "cell_type": "code",
      "source": [
        "pred"
      ],
      "metadata": {
        "id": "2okYkd2kpWZO",
        "colab": {
          "base_uri": "https://localhost:8080/"
        },
        "outputId": "fd7b2628-121a-4dfd-cfd8-0ff9a17f4963"
      },
      "execution_count": 20,
      "outputs": [
        {
          "output_type": "execute_result",
          "data": {
            "text/plain": [
              "array([0, 1, 0, 1, 1, 1, 0, 0, 0, 0, 0, 0, 0, 0, 1, 0, 1, 0, 0, 0, 0, 1,\n",
              "       1, 1, 1, 1, 1, 0, 1, 1, 1, 1, 0, 0, 0, 1, 1, 1, 0, 0, 0, 0, 1, 0,\n",
              "       0, 1, 0, 1, 0, 1, 0, 0, 0, 0, 0, 1, 1, 0, 0, 1, 0, 1, 0, 0, 1, 0,\n",
              "       0, 1, 0, 0, 0, 0, 0, 1, 0, 1, 0, 1, 1, 0, 0, 0, 0, 1, 1, 1, 1, 0,\n",
              "       0, 1, 1, 1, 1, 0, 1, 1, 1, 1, 1, 1, 0, 1, 0, 1, 1, 0, 0, 0, 0, 1,\n",
              "       0, 1, 1, 1, 1, 1, 1, 0, 0, 1, 0, 0, 1, 0, 1, 0, 0, 0, 1, 0, 1, 1,\n",
              "       1, 0, 0, 1, 0, 1, 0, 1, 1, 0, 1, 1, 1, 1, 1, 0, 1, 0, 1, 0, 0, 1,\n",
              "       1, 0, 1, 0, 1, 1, 0, 0, 0, 1, 0, 1, 1, 1, 0, 0])"
            ]
          },
          "metadata": {},
          "execution_count": 20
        }
      ]
    },
    {
      "cell_type": "code",
      "source": [
        "for x in range(len(x_test)):\n",
        "  print(y_test[x],pred[x])"
      ],
      "metadata": {
        "id": "Jy2dUPtRpcGR",
        "colab": {
          "base_uri": "https://localhost:8080/"
        },
        "outputId": "eb4bad76-7b3d-46e3-d64e-bba67492f660"
      },
      "execution_count": 21,
      "outputs": [
        {
          "output_type": "stream",
          "name": "stdout",
          "text": [
            "0 0\n",
            "1 1\n",
            "0 0\n",
            "0 1\n",
            "1 1\n",
            "1 1\n",
            "0 0\n",
            "0 0\n",
            "0 0\n",
            "0 0\n",
            "0 0\n",
            "0 0\n",
            "0 0\n",
            "0 0\n",
            "0 1\n",
            "0 0\n",
            "1 1\n",
            "0 0\n",
            "0 0\n",
            "0 0\n",
            "0 0\n",
            "1 1\n",
            "1 1\n",
            "1 1\n",
            "1 1\n",
            "1 1\n",
            "1 1\n",
            "1 0\n",
            "1 1\n",
            "1 1\n",
            "1 1\n",
            "0 1\n",
            "1 0\n",
            "0 0\n",
            "0 0\n",
            "1 1\n",
            "0 1\n",
            "1 1\n",
            "0 0\n",
            "0 0\n",
            "0 0\n",
            "0 0\n",
            "1 1\n",
            "0 0\n",
            "0 0\n",
            "1 1\n",
            "0 0\n",
            "1 1\n",
            "0 0\n",
            "1 1\n",
            "0 0\n",
            "0 0\n",
            "1 0\n",
            "0 0\n",
            "0 0\n",
            "0 1\n",
            "1 1\n",
            "1 0\n",
            "0 0\n",
            "1 1\n",
            "0 0\n",
            "1 1\n",
            "1 0\n",
            "0 0\n",
            "1 1\n",
            "0 0\n",
            "0 0\n",
            "1 1\n",
            "0 0\n",
            "0 0\n",
            "0 0\n",
            "0 0\n",
            "1 0\n",
            "1 1\n",
            "0 0\n",
            "1 1\n",
            "0 0\n",
            "1 1\n",
            "1 1\n",
            "0 0\n",
            "0 0\n",
            "0 0\n",
            "0 0\n",
            "1 1\n",
            "1 1\n",
            "0 1\n",
            "1 1\n",
            "0 0\n",
            "0 0\n",
            "1 1\n",
            "0 1\n",
            "1 1\n",
            "0 1\n",
            "0 0\n",
            "1 1\n",
            "1 1\n",
            "1 1\n",
            "1 1\n",
            "1 1\n",
            "1 1\n",
            "0 0\n",
            "1 1\n",
            "0 0\n",
            "1 1\n",
            "1 1\n",
            "0 0\n",
            "0 0\n",
            "0 0\n",
            "0 0\n",
            "1 1\n",
            "0 0\n",
            "1 1\n",
            "1 1\n",
            "1 1\n",
            "1 1\n",
            "1 1\n",
            "1 1\n",
            "0 0\n",
            "0 0\n",
            "1 1\n",
            "0 0\n",
            "0 0\n",
            "1 1\n",
            "0 0\n",
            "1 1\n",
            "0 0\n",
            "0 0\n",
            "0 0\n",
            "1 1\n",
            "0 0\n",
            "1 1\n",
            "1 1\n",
            "1 1\n",
            "0 0\n",
            "1 0\n",
            "0 1\n",
            "0 0\n",
            "0 1\n",
            "0 0\n",
            "1 1\n",
            "1 1\n",
            "0 0\n",
            "1 1\n",
            "1 1\n",
            "0 1\n",
            "0 1\n",
            "1 1\n",
            "0 0\n",
            "0 1\n",
            "0 0\n",
            "1 1\n",
            "0 0\n",
            "0 0\n",
            "1 1\n",
            "1 1\n",
            "0 0\n",
            "0 1\n",
            "0 0\n",
            "1 1\n",
            "1 1\n",
            "0 0\n",
            "0 0\n",
            "0 0\n",
            "1 1\n",
            "0 0\n",
            "1 1\n",
            "1 1\n",
            "1 1\n",
            "0 0\n",
            "1 0\n"
          ]
        }
      ]
    },
    {
      "cell_type": "code",
      "source": [
        "confusion_matrix(y_test,pred)"
      ],
      "metadata": {
        "id": "DpTgEtAdp17Z",
        "colab": {
          "base_uri": "https://localhost:8080/"
        },
        "outputId": "68b5300a-3534-41ad-b8b3-69028e6a4183"
      },
      "execution_count": 22,
      "outputs": [
        {
          "output_type": "execute_result",
          "data": {
            "text/plain": [
              "array([[78, 14],\n",
              "       [ 8, 70]])"
            ]
          },
          "metadata": {},
          "execution_count": 22
        }
      ]
    },
    {
      "cell_type": "code",
      "source": [
        "accuracy_score(y_test,pred)"
      ],
      "metadata": {
        "id": "LEC1BjOrp7MQ",
        "colab": {
          "base_uri": "https://localhost:8080/"
        },
        "outputId": "6bea9f8e-a606-44a6-cb73-8a0eeb1f5da1"
      },
      "execution_count": 23,
      "outputs": [
        {
          "output_type": "execute_result",
          "data": {
            "text/plain": [
              "0.8705882352941177"
            ]
          },
          "metadata": {},
          "execution_count": 23
        }
      ]
    },
    {
      "cell_type": "code",
      "source": [
        "import matplotlib.pyplot as plt\n",
        "from matplotlib.colors import ListedColormap\n",
        "x_set,y_set = sc.inverse_transform(x_train),y_train\n",
        "x1,x2 = np.meshgrid(np.arange(start=x_set[:,0].min()-10,stop=x_set[:,0].max()+10, step=1),np.arange(start=x_set[:,1].min()-1000,stop=x_set[:,1].max()+1000,step = 1))\n",
        "plt.contourf(x1,x2,cla.predict(sc.transform(np.array([x1.ravel(),x2.ravel()]).T)).reshape(x1.shape),\n",
        "alpha=0.75, cmap = ListedColormap(('red','green')))\n",
        "plt.xlim(x1.min(),x1.max())\n",
        "plt.ylim(x2.min(),x2.max())\n",
        "for i,j in enumerate(np.unique(y_set)):\n",
        "  plt.scatter(x_set[y_set == j,0],x_set[y_set == j,1],c = ListedColormap(('red','green'))(i),label=j)\n",
        "plt.title('Random_Forest')\n",
        "plt.legend()\n",
        "plt.show()"
      ],
      "metadata": {
        "id": "m5A-DseiqEJ_",
        "colab": {
          "base_uri": "https://localhost:8080/",
          "height": 507
        },
        "outputId": "a543aae0-7f90-4718-efa1-5ba91ce1badb"
      },
      "execution_count": 24,
      "outputs": [
        {
          "output_type": "stream",
          "name": "stderr",
          "text": [
            "<ipython-input-24-f13f1a0ce794>:10: UserWarning: *c* argument looks like a single numeric RGB or RGBA sequence, which should be avoided as value-mapping will have precedence in case its length matches with *x* & *y*.  Please use the *color* keyword-argument or provide a 2D array with a single row if you intend to specify the same RGB or RGBA value for all points.\n",
            "  plt.scatter(x_set[y_set == j,0],x_set[y_set == j,1],c = ListedColormap(('red','green'))(i),label=j)\n"
          ]
        },
        {
          "output_type": "display_data",
          "data": {
            "text/plain": [
              "<Figure size 640x480 with 1 Axes>"
            ],
            "image/png": "[encoded data removed]"
          },
          "metadata": {}
        }
      ]
    },
    {
      "cell_type": "code",
      "source": [],
      "metadata": {
        "id": "Gt2CYDOBeneN"
      },
      "execution_count": 24,
      "outputs": []
    },
    {
      "cell_type": "markdown",
      "source": [
        "# SVC"
      ],
      "metadata": {
        "id": "1wqXjj3nf-o7"
      }
    },
    {
      "cell_type": "code",
      "source": [
        "clus=SVC(kernel='sigmoid')\n",
        "clus.fit(x_train,y_train)"
      ],
      "metadata": {
        "id": "kiIufeAHqofX",
        "colab": {
          "base_uri": "https://localhost:8080/",
          "height": 75
        },
        "outputId": "9a705de5-0822-43c0-cea6-8b9c378606c6"
      },
      "execution_count": 25,
      "outputs": [
        {
          "output_type": "execute_result",
          "data": {
            "text/plain": [
              "SVC(kernel='sigmoid')"
            ],
            "text/html": [
              "<style>#sk-container-id-2 {color: black;}#sk-container-id-2 pre{padding: 0;}#sk-container-id-2 div.sk-toggleable {background-color: white;}#sk-container-id-2 label.sk-toggleable__label {cursor: pointer;display: block;width: 100%;margin-bottom: 0;padding: 0.3em;box-sizing: border-box;text-align: center;}#sk-container-id-2 label.sk-toggleable__label-arrow:before {content: \"▸\";float: left;margin-right: 0.25em;color: #696969;}#sk-container-id-2 label.sk-toggleable__label-arrow:hover:before {color: black;}#sk-container-id-2 div.sk-estimator:hover label.sk-toggleable__label-arrow:before {color: black;}#sk-container-id-2 div.sk-toggleable__content {max-height: 0;max-width: 0;overflow: hidden;text-align: left;background-color: #f0f8ff;}#sk-container-id-2 div.sk-toggleable__content pre {margin: 0.2em;color: black;border-radius: 0.25em;background-color: #f0f8ff;}#sk-container-id-2 input.sk-toggleable__control:checked~div.sk-toggleable__content {max-height: 200px;max-width: 100%;overflow: auto;}#sk-container-id-2 input.sk-toggleable__control:checked~label.sk-toggleable__label-arrow:before {content: \"▾\";}#sk-container-id-2 div.sk-estimator input.sk-toggleable__control:checked~label.sk-toggleable__label {background-color: #d4ebff;}#sk-container-id-2 div.sk-label input.sk-toggleable__control:checked~label.sk-toggleable__label {background-color: #d4ebff;}#sk-container-id-2 input.sk-hidden--visually {border: 0;clip: rect(1px 1px 1px 1px);clip: rect(1px, 1px, 1px, 1px);height: 1px;margin: -1px;overflow: hidden;padding: 0;position: absolute;width: 1px;}#sk-container-id-2 div.sk-estimator {font-family: monospace;background-color: #f0f8ff;border: 1px dotted black;border-radius: 0.25em;box-sizing: border-box;margin-bottom: 0.5em;}#sk-container-id-2 div.sk-estimator:hover {background-color: #d4ebff;}#sk-container-id-2 div.sk-parallel-item::after {content: \"\";width: 100%;border-bottom: 1px solid gray;flex-grow: 1;}#sk-container-id-2 div.sk-label:hover label.sk-toggleable__label {background-color: #d4ebff;}#sk-container-id-2 div.sk-serial::before {content: \"\";position: absolute;border-left: 1px solid gray;box-sizing: border-box;top: 0;bottom: 0;left: 50%;z-index: 0;}#sk-container-id-2 div.sk-serial {display: flex;flex-direction: column;align-items: center;background-color: white;padding-right: 0.2em;padding-left: 0.2em;position: relative;}#sk-container-id-2 div.sk-item {position: relative;z-index: 1;}#sk-container-id-2 div.sk-parallel {display: flex;align-items: stretch;justify-content: center;background-color: white;position: relative;}#sk-container-id-2 div.sk-item::before, #sk-container-id-2 div.sk-parallel-item::before {content: \"\";position: absolute;border-left: 1px solid gray;box-sizing: border-box;top: 0;bottom: 0;left: 50%;z-index: -1;}#sk-container-id-2 div.sk-parallel-item {display: flex;flex-direction: column;z-index: 1;position: relative;background-color: white;}#sk-container-id-2 div.sk-parallel-item:first-child::after {align-self: flex-end;width: 50%;}#sk-container-id-2 div.sk-parallel-item:last-child::after {align-self: flex-start;width: 50%;}#sk-container-id-2 div.sk-parallel-item:only-child::after {width: 0;}#sk-container-id-2 div.sk-dashed-wrapped {border: 1px dashed gray;margin: 0 0.4em 0.5em 0.4em;box-sizing: border-box;padding-bottom: 0.4em;background-color: white;}#sk-container-id-2 div.sk-label label {font-family: monospace;font-weight: bold;display: inline-block;line-height: 1.2em;}#sk-container-id-2 div.sk-label-container {text-align: center;}#sk-container-id-2 div.sk-container {/* jupyter's `normalize.less` sets `[hidden] { display: none; }` but bootstrap.min.css set `[hidden] { display: none !important; }` so we also need the `!important` here to be able to override the default hidden behavior on the sphinx rendered scikit-learn.org. See: https://github.com/scikit-learn/scikit-learn/issues/21755 */display: inline-block !important;position: relative;}#sk-container-id-2 div.sk-text-repr-fallback {display: none;}</style><div id=\"sk-container-id-2\" class=\"sk-top-container\"><div class=\"sk-text-repr-fallback\"><pre>SVC(kernel=&#x27;sigmoid&#x27;)</pre><b>In a Jupyter environment, please rerun this cell to show the HTML representation or trust the notebook. <br />On GitHub, the HTML representation is unable to render, please try loading this page with nbviewer.org.</b></div><div class=\"sk-container\" hidden><div class=\"sk-item\"><div class=\"sk-estimator sk-toggleable\"><input class=\"sk-toggleable__control sk-hidden--visually\" id=\"sk-estimator-id-2\" type=\"checkbox\" checked><label for=\"sk-estimator-id-2\" class=\"sk-toggleable__label sk-toggleable__label-arrow\">SVC</label><div class=\"sk-toggleable__content\"><pre>SVC(kernel=&#x27;sigmoid&#x27;)</pre></div></div></div></div></div>"
            ]
          },
          "metadata": {},
          "execution_count": 25
        }
      ]
    },
    {
      "cell_type": "code",
      "source": [
        "predic=clus.predict(x_test)"
      ],
      "metadata": {
        "id": "X9oQ94ELtm11"
      },
      "execution_count": 26,
      "outputs": []
    },
    {
      "cell_type": "code",
      "source": [
        "predic"
      ],
      "metadata": {
        "id": "MWrqCdzhtuHm",
        "colab": {
          "base_uri": "https://localhost:8080/"
        },
        "outputId": "399940ba-b80e-4484-8c89-fc404ca1f6d7"
      },
      "execution_count": 27,
      "outputs": [
        {
          "output_type": "execute_result",
          "data": {
            "text/plain": [
              "array([1, 0, 0, 1, 1, 0, 0, 1, 1, 0, 1, 0, 1, 1, 1, 1, 1, 0, 0, 0, 1, 1,\n",
              "       0, 0, 1, 1, 1, 1, 0, 1, 1, 1, 1, 0, 0, 1, 0, 1, 0, 1, 0, 0, 1, 0,\n",
              "       1, 1, 1, 1, 0, 1, 0, 0, 0, 1, 1, 1, 1, 0, 1, 0, 1, 1, 0, 0, 0, 1,\n",
              "       0, 0, 1, 0, 0, 1, 0, 0, 1, 0, 0, 0, 1, 0, 1, 1, 0, 0, 0, 0, 0, 1,\n",
              "       0, 0, 1, 0, 1, 1, 0, 1, 0, 1, 1, 0, 0, 1, 0, 0, 1, 1, 0, 1, 1, 1,\n",
              "       1, 0, 0, 1, 1, 1, 0, 1, 0, 0, 0, 1, 0, 0, 0, 1, 1, 1, 1, 1, 1, 1,\n",
              "       1, 0, 1, 0, 0, 0, 0, 0, 0, 1, 1, 1, 0, 0, 1, 1, 0, 1, 1, 1, 1, 1,\n",
              "       1, 1, 1, 0, 0, 0, 0, 1, 0, 0, 1, 1, 0, 1, 1, 1])"
            ]
          },
          "metadata": {},
          "execution_count": 27
        }
      ]
    },
    {
      "cell_type": "code",
      "source": [
        "confusion_matrix(y_test,predic)"
      ],
      "metadata": {
        "id": "fZ6xF0sztzu1",
        "colab": {
          "base_uri": "https://localhost:8080/"
        },
        "outputId": "57321af4-ffa5-463f-c0b9-4eca3d2ec18c"
      },
      "execution_count": 28,
      "outputs": [
        {
          "output_type": "execute_result",
          "data": {
            "text/plain": [
              "array([[43, 49],\n",
              "       [36, 42]])"
            ]
          },
          "metadata": {},
          "execution_count": 28
        }
      ]
    },
    {
      "cell_type": "code",
      "source": [
        "accuracy_score(y_test,predic)"
      ],
      "metadata": {
        "id": "bwx2y-Qtt4o-",
        "colab": {
          "base_uri": "https://localhost:8080/"
        },
        "outputId": "89ab371f-dafb-4396-dab5-4a52ef2fa5bf"
      },
      "execution_count": 29,
      "outputs": [
        {
          "output_type": "execute_result",
          "data": {
            "text/plain": [
              "0.5"
            ]
          },
          "metadata": {},
          "execution_count": 29
        }
      ]
    },
    {
      "cell_type": "code",
      "source": [
        "for x in range(len(x_test)):\n",
        "  print(y_test[x],predic[x])"
      ],
      "metadata": {
        "id": "G0537R5tt8Zm",
        "colab": {
          "base_uri": "https://localhost:8080/"
        },
        "outputId": "d6562727-8895-4bd1-9a03-3da682032ae8"
      },
      "execution_count": 30,
      "outputs": [
        {
          "output_type": "stream",
          "name": "stdout",
          "text": [
            "0 1\n",
            "1 0\n",
            "0 0\n",
            "0 1\n",
            "1 1\n",
            "1 0\n",
            "0 0\n",
            "0 1\n",
            "0 1\n",
            "0 0\n",
            "0 1\n",
            "0 0\n",
            "0 1\n",
            "0 1\n",
            "0 1\n",
            "0 1\n",
            "1 1\n",
            "0 0\n",
            "0 0\n",
            "0 0\n",
            "0 1\n",
            "1 1\n",
            "1 0\n",
            "1 0\n",
            "1 1\n",
            "1 1\n",
            "1 1\n",
            "1 1\n",
            "1 0\n",
            "1 1\n",
            "1 1\n",
            "0 1\n",
            "1 1\n",
            "0 0\n",
            "0 0\n",
            "1 1\n",
            "0 0\n",
            "1 1\n",
            "0 0\n",
            "0 1\n",
            "0 0\n",
            "0 0\n",
            "1 1\n",
            "0 0\n",
            "0 1\n",
            "1 1\n",
            "0 1\n",
            "1 1\n",
            "0 0\n",
            "1 1\n",
            "0 0\n",
            "0 0\n",
            "1 0\n",
            "0 1\n",
            "0 1\n",
            "0 1\n",
            "1 1\n",
            "1 0\n",
            "0 1\n",
            "1 0\n",
            "0 1\n",
            "1 1\n",
            "1 0\n",
            "0 0\n",
            "1 0\n",
            "0 1\n",
            "0 0\n",
            "1 0\n",
            "0 1\n",
            "0 0\n",
            "0 0\n",
            "0 1\n",
            "1 0\n",
            "1 0\n",
            "0 1\n",
            "1 0\n",
            "0 0\n",
            "1 0\n",
            "1 1\n",
            "0 0\n",
            "0 1\n",
            "0 1\n",
            "0 0\n",
            "1 0\n",
            "1 0\n",
            "0 0\n",
            "1 0\n",
            "0 1\n",
            "0 0\n",
            "1 0\n",
            "0 1\n",
            "1 0\n",
            "0 1\n",
            "0 1\n",
            "1 0\n",
            "1 1\n",
            "1 0\n",
            "1 1\n",
            "1 1\n",
            "1 0\n",
            "0 0\n",
            "1 1\n",
            "0 0\n",
            "1 0\n",
            "1 1\n",
            "0 1\n",
            "0 0\n",
            "0 1\n",
            "0 1\n",
            "1 1\n",
            "0 1\n",
            "1 0\n",
            "1 0\n",
            "1 1\n",
            "1 1\n",
            "1 1\n",
            "1 0\n",
            "0 1\n",
            "0 0\n",
            "1 0\n",
            "0 0\n",
            "0 1\n",
            "1 0\n",
            "0 0\n",
            "1 0\n",
            "0 1\n",
            "0 1\n",
            "0 1\n",
            "1 1\n",
            "0 1\n",
            "1 1\n",
            "1 1\n",
            "1 1\n",
            "0 0\n",
            "1 1\n",
            "0 0\n",
            "0 0\n",
            "0 0\n",
            "0 0\n",
            "1 0\n",
            "1 0\n",
            "0 1\n",
            "1 1\n",
            "1 1\n",
            "0 0\n",
            "0 0\n",
            "1 1\n",
            "0 1\n",
            "0 0\n",
            "0 1\n",
            "1 1\n",
            "0 1\n",
            "0 1\n",
            "1 1\n",
            "1 1\n",
            "0 1\n",
            "0 1\n",
            "0 0\n",
            "1 0\n",
            "1 0\n",
            "0 0\n",
            "0 1\n",
            "0 0\n",
            "1 0\n",
            "0 1\n",
            "1 1\n",
            "1 0\n",
            "1 1\n",
            "0 1\n",
            "1 1\n"
          ]
        }
      ]
    },
    {
      "cell_type": "code",
      "source": [
        "import matplotlib.pyplot as plt\n",
        "from matplotlib.colors import ListedColormap\n",
        "x_set,y_set = sc.inverse_transform(x_train),y_train\n",
        "x1,x2 = np.meshgrid(np.arange(start=x_set[:,0].min()-10,stop=x_set[:,0].max()+10, step=1),np.arange(start=x_set[:,1].min()-1000,stop=x_set[:,1].max()+1000,step = 1))\n",
        "plt.contourf(x1,x2,clus.predict(sc.transform(np.array([x1.ravel(),x2.ravel()]).T)).reshape(x1.shape),\n",
        "alpha=0.75, cmap = ListedColormap(('red','green')))\n",
        "plt.xlim(x1.min(),x1.max())\n",
        "plt.ylim(x2.min(),x2.max())\n",
        "for i,j in enumerate(np.unique(y_set)):\n",
        "  plt.scatter(x_set[y_set == j,0],x_set[y_set == j,1],c = ListedColormap(('red','green'))(i),label=j)\n",
        "plt.title('SVM Model')\n",
        "plt.legend()\n",
        "plt.show()"
      ],
      "metadata": {
        "id": "TFzVOHzFuCvc",
        "colab": {
          "base_uri": "https://localhost:8080/",
          "height": 507
        },
        "outputId": "1ffc0e6a-f70d-4af1-bd3a-1cca13d0aa69"
      },
      "execution_count": 31,
      "outputs": [
        {
          "output_type": "stream",
          "name": "stderr",
          "text": [
            "<ipython-input-31-c1eff1aec72a>:10: UserWarning: *c* argument looks like a single numeric RGB or RGBA sequence, which should be avoided as value-mapping will have precedence in case its length matches with *x* & *y*.  Please use the *color* keyword-argument or provide a 2D array with a single row if you intend to specify the same RGB or RGBA value for all points.\n",
            "  plt.scatter(x_set[y_set == j,0],x_set[y_set == j,1],c = ListedColormap(('red','green'))(i),label=j)\n"
          ]
        },
        {
          "output_type": "display_data",
          "data": {
            "text/plain": [
              "<Figure size 640x480 with 1 Axes>"
            ],
            "image/png": "[encoded data removed]"
          },
          "metadata": {}
        }
      ]
    },
    {
      "cell_type": "markdown",
      "source": [
        "# Liner Regression\n"
      ],
      "metadata": {
        "id": "CTzm64KFgYCC"
      }
    },
    {
      "cell_type": "code",
      "source": [
        "lr=LinearRegression()"
      ],
      "metadata": {
        "id": "BkWrUNW_gRDe"
      },
      "execution_count": 32,
      "outputs": []
    },
    {
      "cell_type": "code",
      "source": [
        "lr.fit(x_train,y_train) #Training"
      ],
      "metadata": {
        "colab": {
          "base_uri": "https://localhost:8080/",
          "height": 75
        },
        "id": "V03YK0fGgdon",
        "outputId": "8a03723d-0816-43ea-be45-3c9d1667790d"
      },
      "execution_count": 33,
      "outputs": [
        {
          "output_type": "execute_result",
          "data": {
            "text/plain": [
              "LinearRegression()"
            ],
            "text/html": [
              "<style>#sk-container-id-3 {color: black;}#sk-container-id-3 pre{padding: 0;}#sk-container-id-3 div.sk-toggleable {background-color: white;}#sk-container-id-3 label.sk-toggleable__label {cursor: pointer;display: block;width: 100%;margin-bottom: 0;padding: 0.3em;box-sizing: border-box;text-align: center;}#sk-container-id-3 label.sk-toggleable__label-arrow:before {content: \"▸\";float: left;margin-right: 0.25em;color: #696969;}#sk-container-id-3 label.sk-toggleable__label-arrow:hover:before {color: black;}#sk-container-id-3 div.sk-estimator:hover label.sk-toggleable__label-arrow:before {color: black;}#sk-container-id-3 div.sk-toggleable__content {max-height: 0;max-width: 0;overflow: hidden;text-align: left;background-color: #f0f8ff;}#sk-container-id-3 div.sk-toggleable__content pre {margin: 0.2em;color: black;border-radius: 0.25em;background-color: #f0f8ff;}#sk-container-id-3 input.sk-toggleable__control:checked~div.sk-toggleable__content {max-height: 200px;max-width: 100%;overflow: auto;}#sk-container-id-3 input.sk-toggleable__control:checked~label.sk-toggleable__label-arrow:before {content: \"▾\";}#sk-container-id-3 div.sk-estimator input.sk-toggleable__control:checked~label.sk-toggleable__label {background-color: #d4ebff;}#sk-container-id-3 div.sk-label input.sk-toggleable__control:checked~label.sk-toggleable__label {background-color: #d4ebff;}#sk-container-id-3 input.sk-hidden--visually {border: 0;clip: rect(1px 1px 1px 1px);clip: rect(1px, 1px, 1px, 1px);height: 1px;margin: -1px;overflow: hidden;padding: 0;position: absolute;width: 1px;}#sk-container-id-3 div.sk-estimator {font-family: monospace;background-color: #f0f8ff;border: 1px dotted black;border-radius: 0.25em;box-sizing: border-box;margin-bottom: 0.5em;}#sk-container-id-3 div.sk-estimator:hover {background-color: #d4ebff;}#sk-container-id-3 div.sk-parallel-item::after {content: \"\";width: 100%;border-bottom: 1px solid gray;flex-grow: 1;}#sk-container-id-3 div.sk-label:hover label.sk-toggleable__label {background-color: #d4ebff;}#sk-container-id-3 div.sk-serial::before {content: \"\";position: absolute;border-left: 1px solid gray;box-sizing: border-box;top: 0;bottom: 0;left: 50%;z-index: 0;}#sk-container-id-3 div.sk-serial {display: flex;flex-direction: column;align-items: center;background-color: white;padding-right: 0.2em;padding-left: 0.2em;position: relative;}#sk-container-id-3 div.sk-item {position: relative;z-index: 1;}#sk-container-id-3 div.sk-parallel {display: flex;align-items: stretch;justify-content: center;background-color: white;position: relative;}#sk-container-id-3 div.sk-item::before, #sk-container-id-3 div.sk-parallel-item::before {content: \"\";position: absolute;border-left: 1px solid gray;box-sizing: border-box;top: 0;bottom: 0;left: 50%;z-index: -1;}#sk-container-id-3 div.sk-parallel-item {display: flex;flex-direction: column;z-index: 1;position: relative;background-color: white;}#sk-container-id-3 div.sk-parallel-item:first-child::after {align-self: flex-end;width: 50%;}#sk-container-id-3 div.sk-parallel-item:last-child::after {align-self: flex-start;width: 50%;}#sk-container-id-3 div.sk-parallel-item:only-child::after {width: 0;}#sk-container-id-3 div.sk-dashed-wrapped {border: 1px dashed gray;margin: 0 0.4em 0.5em 0.4em;box-sizing: border-box;padding-bottom: 0.4em;background-color: white;}#sk-container-id-3 div.sk-label label {font-family: monospace;font-weight: bold;display: inline-block;line-height: 1.2em;}#sk-container-id-3 div.sk-label-container {text-align: center;}#sk-container-id-3 div.sk-container {/* jupyter's `normalize.less` sets `[hidden] { display: none; }` but bootstrap.min.css set `[hidden] { display: none !important; }` so we also need the `!important` here to be able to override the default hidden behavior on the sphinx rendered scikit-learn.org. See: https://github.com/scikit-learn/scikit-learn/issues/21755 */display: inline-block !important;position: relative;}#sk-container-id-3 div.sk-text-repr-fallback {display: none;}</style><div id=\"sk-container-id-3\" class=\"sk-top-container\"><div class=\"sk-text-repr-fallback\"><pre>LinearRegression()</pre><b>In a Jupyter environment, please rerun this cell to show the HTML representation or trust the notebook. <br />On GitHub, the HTML representation is unable to render, please try loading this page with nbviewer.org.</b></div><div class=\"sk-container\" hidden><div class=\"sk-item\"><div class=\"sk-estimator sk-toggleable\"><input class=\"sk-toggleable__control sk-hidden--visually\" id=\"sk-estimator-id-3\" type=\"checkbox\" checked><label for=\"sk-estimator-id-3\" class=\"sk-toggleable__label sk-toggleable__label-arrow\">LinearRegression</label><div class=\"sk-toggleable__content\"><pre>LinearRegression()</pre></div></div></div></div></div>"
            ]
          },
          "metadata": {},
          "execution_count": 33
        }
      ]
    },
    {
      "cell_type": "code",
      "source": [
        "pre=lr.predict(x_test)"
      ],
      "metadata": {
        "id": "SmpzTTiFg5uf"
      },
      "execution_count": 34,
      "outputs": []
    },
    {
      "cell_type": "code",
      "source": [
        "pre"
      ],
      "metadata": {
        "colab": {
          "base_uri": "https://localhost:8080/"
        },
        "id": "7SGExwHpgmkd",
        "outputId": "aa65233b-959a-4906-df12-784a19c4fb7d"
      },
      "execution_count": 35,
      "outputs": [
        {
          "output_type": "execute_result",
          "data": {
            "text/plain": [
              "array([ 0.4379779 ,  0.64620087,  0.47742951,  0.45171271,  0.52211872,\n",
              "        0.57465807,  0.45636219,  0.51546121,  0.47131394,  0.5207534 ,\n",
              "        0.45988054,  0.48544414,  0.51053229,  0.48552784,  0.51460206,\n",
              "        0.50530884,  0.53344276,  0.22781566,  0.42955829,  0.25101367,\n",
              "        0.46155908,  0.97954427,  0.56152034,  0.62926084,  0.92985009,\n",
              "        0.52434078,  0.63059972,  0.52752149,  0.61087928,  0.59950718,\n",
              "        0.55292145,  0.50768623,  0.54196756,  0.40421564,  0.45820526,\n",
              "        0.55146037,  0.44177399,  0.57066982,  0.35087397,  0.47871457,\n",
              "        0.49668258,  0.40722342,  0.5833507 ,  0.42065021,  0.39820105,\n",
              "        0.56410531,  0.46644073,  0.56132787,  0.46535146,  1.67272679,\n",
              "        0.30560717,  0.42784919,  0.54013574, -0.07540974,  0.5036384 ,\n",
              "        0.210359  ,  0.55775975,  0.54437558, -0.09235224,  0.70556426,\n",
              "        0.51676217,  0.53729777,  0.54059445,  0.34865365,  0.66660072,\n",
              "       -0.93265942,  0.35866078,  0.51004725,  0.51755905,  0.16565826,\n",
              "        0.369819  ,  0.49591584,  0.54008397,  0.58843745,  0.4459679 ,\n",
              "        0.92208046,  0.49392477,  0.5682397 ,  0.55500737,  0.48966049,\n",
              "        0.43090518,  0.42903884,  0.49359311,  0.53036137,  0.55859413,\n",
              "        0.53496834,  0.516752  ,  0.50502103,  0.31103047,  0.53946822,\n",
              "        0.51495424,  0.50286326,  0.14761435,  0.38203275,  0.54335256,\n",
              "        0.46811099,  0.52964605,  0.55843317,  0.77612552,  0.56975682,\n",
              "        0.26276926,  0.65014617,  0.47768609,  0.5561229 ,  0.54964917,\n",
              "        0.51212116,  0.50853471,  0.44603047,  0.51486951,  0.55764011,\n",
              "        0.48625342,  0.52429604,  0.62499207,  0.58470244,  0.67228189,\n",
              "        0.63589637,  0.57094706,  0.27022544,  0.34775202,  0.52628507,\n",
              "        0.47480088,  0.45985106,  0.51803336,  0.40875991,  0.61586007,\n",
              "        0.44575667,  0.45130856,  0.4716931 ,  0.57070498,  0.47014028,\n",
              "        0.62798904,  0.57809444,  0.65787169,  0.17960257,  0.54121188,\n",
              "        0.48331475,  0.41259122,  0.38216224,  0.32207905,  0.65359726,\n",
              "        0.50450081,  0.39364822,  0.58010482,  0.52510752,  0.49822459,\n",
              "        0.48449426,  0.71799113, -0.36837898,  0.5058883 ,  0.51112853,\n",
              "        0.65000498,  0.47043097,  0.48179364,  0.63904485,  0.86748189,\n",
              "        0.25468726,  0.51760576,  0.46788385,  0.60382279,  0.63190245,\n",
              "        0.47742894,  0.51070048,  0.46120997,  0.90984778,  0.49984551,\n",
              "        0.59101803,  0.54454047,  0.55139567,  0.40113673,  0.48537889])"
            ]
          },
          "metadata": {},
          "execution_count": 35
        }
      ]
    },
    {
      "cell_type": "code",
      "source": [
        "from sklearn.metrics import confusion_matrix\n",
        "\n",
        "# Assuming pre contains probabilities for the positive class\n",
        "threshold = 0.5\n",
        "binary_predictions = (pre >= threshold).astype(int)\n",
        "\n",
        "# Compute confusion matrix\n",
        "cm = confusion_matrix(y_test, binary_predictions)\n",
        "print(cm)\n"
      ],
      "metadata": {
        "colab": {
          "base_uri": "https://localhost:8080/"
        },
        "id": "l3sxITw_hk2D",
        "outputId": "aa30e734-5bc5-4d26-b8a2-863cca30a55e"
      },
      "execution_count": 36,
      "outputs": [
        {
          "output_type": "stream",
          "name": "stdout",
          "text": [
            "[[73 19]\n",
            " [ 2 76]]\n"
          ]
        }
      ]
    },
    {
      "cell_type": "code",
      "source": [
        "# Ensure pre is in integer format\n",
        "pre = pre.astype(int)\n",
        "print(type(y_test), type(pre))"
      ],
      "metadata": {
        "colab": {
          "base_uri": "https://localhost:8080/"
        },
        "id": "tSxu6JpQhpPr",
        "outputId": "4eb2ac93-355d-4f5d-ed49-d3bc100f8147"
      },
      "execution_count": 37,
      "outputs": [
        {
          "output_type": "stream",
          "name": "stdout",
          "text": [
            "<class 'numpy.ndarray'> <class 'numpy.ndarray'>\n"
          ]
        }
      ]
    },
    {
      "cell_type": "code",
      "source": [
        "print(y_test[:10], pre[:10])  # Print first few values to check"
      ],
      "metadata": {
        "colab": {
          "base_uri": "https://localhost:8080/"
        },
        "id": "W04-pTCUh5jp",
        "outputId": "38b5831d-43b8-4ac4-bdf1-ad9c3055f4e3"
      },
      "execution_count": 38,
      "outputs": [
        {
          "output_type": "stream",
          "name": "stdout",
          "text": [
            "[0 1 0 0 1 1 0 0 0 0] [0 0 0 0 0 0 0 0 0 0]\n"
          ]
        }
      ]
    },
    {
      "cell_type": "code",
      "source": [
        "confusion_matrix(y_test,pre)"
      ],
      "metadata": {
        "colab": {
          "base_uri": "https://localhost:8080/"
        },
        "id": "2B5CWQ4OhNyF",
        "outputId": "99cbc6fd-4398-4154-95b4-766d6453f5ad"
      },
      "execution_count": 39,
      "outputs": [
        {
          "output_type": "execute_result",
          "data": {
            "text/plain": [
              "array([[92,  0],\n",
              "       [77,  1]])"
            ]
          },
          "metadata": {},
          "execution_count": 39
        }
      ]
    },
    {
      "cell_type": "code",
      "source": [
        "accuracy_score(y_test,pre)"
      ],
      "metadata": {
        "colab": {
          "base_uri": "https://localhost:8080/"
        },
        "id": "ZuR5Iuq5iDud",
        "outputId": "5496375e-7250-4ef8-c804-b1d340eab719"
      },
      "execution_count": 40,
      "outputs": [
        {
          "output_type": "execute_result",
          "data": {
            "text/plain": [
              "0.5470588235294118"
            ]
          },
          "metadata": {},
          "execution_count": 40
        }
      ]
    },
    {
      "cell_type": "code",
      "source": [
        "for x in range(len(x_test)):\n",
        "  print(y_test[x],predic[x])"
      ],
      "metadata": {
        "colab": {
          "base_uri": "https://localhost:8080/"
        },
        "id": "lQTFMssyiNBO",
        "outputId": "89fe7722-8cd4-46c8-cfd4-3410ecbc9f32"
      },
      "execution_count": 41,
      "outputs": [
        {
          "output_type": "stream",
          "name": "stdout",
          "text": [
            "0 1\n",
            "1 0\n",
            "0 0\n",
            "0 1\n",
            "1 1\n",
            "1 0\n",
            "0 0\n",
            "0 1\n",
            "0 1\n",
            "0 0\n",
            "0 1\n",
            "0 0\n",
            "0 1\n",
            "0 1\n",
            "0 1\n",
            "0 1\n",
            "1 1\n",
            "0 0\n",
            "0 0\n",
            "0 0\n",
            "0 1\n",
            "1 1\n",
            "1 0\n",
            "1 0\n",
            "1 1\n",
            "1 1\n",
            "1 1\n",
            "1 1\n",
            "1 0\n",
            "1 1\n",
            "1 1\n",
            "0 1\n",
            "1 1\n",
            "0 0\n",
            "0 0\n",
            "1 1\n",
            "0 0\n",
            "1 1\n",
            "0 0\n",
            "0 1\n",
            "0 0\n",
            "0 0\n",
            "1 1\n",
            "0 0\n",
            "0 1\n",
            "1 1\n",
            "0 1\n",
            "1 1\n",
            "0 0\n",
            "1 1\n",
            "0 0\n",
            "0 0\n",
            "1 0\n",
            "0 1\n",
            "0 1\n",
            "0 1\n",
            "1 1\n",
            "1 0\n",
            "0 1\n",
            "1 0\n",
            "0 1\n",
            "1 1\n",
            "1 0\n",
            "0 0\n",
            "1 0\n",
            "0 1\n",
            "0 0\n",
            "1 0\n",
            "0 1\n",
            "0 0\n",
            "0 0\n",
            "0 1\n",
            "1 0\n",
            "1 0\n",
            "0 1\n",
            "1 0\n",
            "0 0\n",
            "1 0\n",
            "1 1\n",
            "0 0\n",
            "0 1\n",
            "0 1\n",
            "0 0\n",
            "1 0\n",
            "1 0\n",
            "0 0\n",
            "1 0\n",
            "0 1\n",
            "0 0\n",
            "1 0\n",
            "0 1\n",
            "1 0\n",
            "0 1\n",
            "0 1\n",
            "1 0\n",
            "1 1\n",
            "1 0\n",
            "1 1\n",
            "1 1\n",
            "1 0\n",
            "0 0\n",
            "1 1\n",
            "0 0\n",
            "1 0\n",
            "1 1\n",
            "0 1\n",
            "0 0\n",
            "0 1\n",
            "0 1\n",
            "1 1\n",
            "0 1\n",
            "1 0\n",
            "1 0\n",
            "1 1\n",
            "1 1\n",
            "1 1\n",
            "1 0\n",
            "0 1\n",
            "0 0\n",
            "1 0\n",
            "0 0\n",
            "0 1\n",
            "1 0\n",
            "0 0\n",
            "1 0\n",
            "0 1\n",
            "0 1\n",
            "0 1\n",
            "1 1\n",
            "0 1\n",
            "1 1\n",
            "1 1\n",
            "1 1\n",
            "0 0\n",
            "1 1\n",
            "0 0\n",
            "0 0\n",
            "0 0\n",
            "0 0\n",
            "1 0\n",
            "1 0\n",
            "0 1\n",
            "1 1\n",
            "1 1\n",
            "0 0\n",
            "0 0\n",
            "1 1\n",
            "0 1\n",
            "0 0\n",
            "0 1\n",
            "1 1\n",
            "0 1\n",
            "0 1\n",
            "1 1\n",
            "1 1\n",
            "0 1\n",
            "0 1\n",
            "0 0\n",
            "1 0\n",
            "1 0\n",
            "0 0\n",
            "0 1\n",
            "0 0\n",
            "1 0\n",
            "0 1\n",
            "1 1\n",
            "1 0\n",
            "1 1\n",
            "0 1\n",
            "1 1\n"
          ]
        }
      ]
    },
    {
      "cell_type": "code",
      "source": [
        "m=lr.coef_\n",
        "c=lr.intercept_"
      ],
      "metadata": {
        "id": "ZPbxOb9oiULP"
      },
      "execution_count": 42,
      "outputs": []
    },
    {
      "cell_type": "code",
      "source": [
        "print(\"slope (m): \",m[0])\n",
        "print(\"intercept value(c): \",c)"
      ],
      "metadata": {
        "colab": {
          "base_uri": "https://localhost:8080/"
        },
        "id": "JLYb1Ri4ifXt",
        "outputId": "a0ceddf9-0f40-4617-cc3b-2b7fc1d89ba4"
      },
      "execution_count": 43,
      "outputs": [
        {
          "output_type": "stream",
          "name": "stdout",
          "text": [
            "slope (m):  -0.6668058638342383\n",
            "intercept value(c):  0.5156862745098012\n"
          ]
        }
      ]
    },
    {
      "cell_type": "code",
      "source": [
        "plt.scatter(dataset1['High'],dataset1['Close'])\n",
        "plt.plot(x,lr.pre(x),color='red')\n",
        "plt.xlabel('High')\n",
        "plt.ylabel('Close')"
      ],
      "metadata": {
        "colab": {
          "base_uri": "https://localhost:8080/",
          "height": 606
        },
        "id": "Qjwv8aqti80C",
        "outputId": "90bab586-c787-47a6-8cce-733c1cca3377"
      },
      "execution_count": 44,
      "outputs": [
        {
          "output_type": "error",
          "ename": "AttributeError",
          "evalue": "'LinearRegression' object has no attribute 'pre'",
          "traceback": [
            "\u001b[0;31m---------------------------------------------------------------------------\u001b[0m",
            "\u001b[0;31mAttributeError\u001b[0m                            Traceback (most recent call last)",
            "\u001b[0;32m<ipython-input-44-e7545392a44e>\u001b[0m in \u001b[0;36m<cell line: 2>\u001b[0;34m()\u001b[0m\n\u001b[1;32m      1\u001b[0m \u001b[0mplt\u001b[0m\u001b[0;34m.\u001b[0m\u001b[0mscatter\u001b[0m\u001b[0;34m(\u001b[0m\u001b[0mdataset1\u001b[0m\u001b[0;34m[\u001b[0m\u001b[0;34m'High'\u001b[0m\u001b[0;34m]\u001b[0m\u001b[0;34m,\u001b[0m\u001b[0mdataset1\u001b[0m\u001b[0;34m[\u001b[0m\u001b[0;34m'Close'\u001b[0m\u001b[0;34m]\u001b[0m\u001b[0;34m)\u001b[0m\u001b[0;34m\u001b[0m\u001b[0;34m\u001b[0m\u001b[0m\n\u001b[0;32m----> 2\u001b[0;31m \u001b[0mplt\u001b[0m\u001b[0;34m.\u001b[0m\u001b[0mplot\u001b[0m\u001b[0;34m(\u001b[0m\u001b[0mx\u001b[0m\u001b[0;34m,\u001b[0m\u001b[0mlr\u001b[0m\u001b[0;34m.\u001b[0m\u001b[0mpre\u001b[0m\u001b[0;34m(\u001b[0m\u001b[0mx\u001b[0m\u001b[0;34m)\u001b[0m\u001b[0;34m,\u001b[0m\u001b[0mcolor\u001b[0m\u001b[0;34m=\u001b[0m\u001b[0;34m'red'\u001b[0m\u001b[0;34m)\u001b[0m\u001b[0;34m\u001b[0m\u001b[0;34m\u001b[0m\u001b[0m\n\u001b[0m\u001b[1;32m      3\u001b[0m \u001b[0mplt\u001b[0m\u001b[0;34m.\u001b[0m\u001b[0mxlabel\u001b[0m\u001b[0;34m(\u001b[0m\u001b[0;34m'High'\u001b[0m\u001b[0;34m)\u001b[0m\u001b[0;34m\u001b[0m\u001b[0;34m\u001b[0m\u001b[0m\n\u001b[1;32m      4\u001b[0m \u001b[0mplt\u001b[0m\u001b[0;34m.\u001b[0m\u001b[0mylabel\u001b[0m\u001b[0;34m(\u001b[0m\u001b[0;34m'Close'\u001b[0m\u001b[0;34m)\u001b[0m\u001b[0;34m\u001b[0m\u001b[0;34m\u001b[0m\u001b[0m\n",
            "\u001b[0;31mAttributeError\u001b[0m: 'LinearRegression' object has no attribute 'pre'"
          ]
        },
        {
          "output_type": "display_data",
          "data": {
            "text/plain": [
              "<Figure size 640x480 with 1 Axes>"
            ],
            "image/png": "[encoded data removed]"
          },
          "metadata": {}
        }
      ]
    },
    {
      "cell_type": "markdown",
      "source": [
        "# Visualization"
      ],
      "metadata": {
        "id": "r61Wha2-iQam"
      }
    },
    {
      "cell_type": "code",
      "source": [
        "import plotly.express as px\n",
        "fig = px.scatter_3d(dataset1,x='Low',y='High',z='Volume',color='High',\n",
        "                    size='Low',title=\"size--> Low    color--> High\" )\n",
        "fig.show()\n"
      ],
      "metadata": {
        "id": "dvHu0UNPydwv",
        "colab": {
          "base_uri": "https://localhost:8080/",
          "height": 542
        },
        "outputId": "7acded51-ad71-41fc-98d3-69aaa37e1b90"
      },
      "execution_count": 45,
      "outputs": [
        {
          "output_type": "display_data",
          "data": {
            "text/html": [
              "<html>\n",
              "<head><meta charset=\"utf-8\" /></head>\n",
              "<body>\n",
              "    <div>            <script src=\"https://cdnjs.cloudflare.com/ajax/libs/mathjax/2.7.5/MathJax.js?config=TeX-AMS-MML_SVG\"></script><script type=\"text/javascript\">if (window.MathJax && window.MathJax.Hub && window.MathJax.Hub.Config) {window.MathJax.Hub.Config({SVG: {font: \"STIX-Web\"}});}</script>                <script type=\"text/javascript\">window.PlotlyConfig = {MathJaxConfig: 'local'};</script>\n",
              "        <script charset=\"utf-8\" src=\"https://cdn.plot.ly/plotly-2.24.1.min.js\"></script>                <div id=\"7a849e8a-e2e4-4fe3-874e-d8dbd30bd38a\" class=\"plotly-graph-div\" style=\"height:525px; width:100%;\"></div>            <script type=\"text/javascript\">                                    window.PLOTLYENV=window.PLOTLYENV || {};                                    if (document.getElementById(\"7a849e8a-e2e4-4fe3-874e-d8dbd30bd38a\")) {                    Plotly.newPlot(                        \"7a849e8a-e2e4-4fe3-874e-d8dbd30bd38a\",                        [{\"hovertemplate\":\"Low=%{marker.size}\\u003cbr\\u003eHigh=%{marker.color}\\u003cbr\\u003eVolume=%{z}\\u003cextra\\u003e\\u003c\\u002fextra\\u003e\",\"legendgroup\":\"\",\"marker\":{\"color\":[98.64949036,99.84942627,97.74055481,103.8891678,110.2143097,114.7617416,117.9483261,118.6575394,116.1369247,118.3463364,172.7569427,175.6250305,168.8140411,174.6592102,441.1965637,421.5262756,333.8732605,330.3887634,297.5357056,276.9186401,320.6426086,323.3013306,322.1907654,308.585022,281.4699402,270.3371887,277.2640991,318.7865295,311.1367493,303.9039307,306.6995239,298.9177246,288.0604553,286.1499023,285.4448853,282.7148438,304.3865356,306.2124939,302.5376587,346.1575317,366.3366394,355.5209045,366.1286316,375.72052,379.498291,363.0606995,361.6252136,321.4404297,315.4084167,322.960968,314.451355,305.2005615,293.9132385,290.2752075,294.5535278,298.4317932,278.3526611,259.6699524,233.8022461,230.7732697,220.7040863,228.7323456,258.1128845,253.9811859,247.883316,247.8124084,248.5546265,245.6841125,234.2283173,201.358902,202.2822571,200.5629883,191.2668915,125.8624496,125.1482849,128.5764771,124.4654541,121.7771835,119.3464203,166.3877106,175.5068054,171.5386047,182.0267792,169.425293,180.6903381,178.2603302,174.8734894,176.5881805,166.7077332,157.9924469,170.8555145,169.2254333,168.0016937,184.6670837,183.3143311,179.4510345,179.613205,192.7469025,194.5885162,220.6713409,224.9216461,214.6452332,189.763092,199.9821777,192.9614258,193.3347473,191.3977661,196.8838501,207.6184845,206.6005859,199.1248932,187.3530731,194.544693,197.6915436,197.3712006,198.9781952,198.8195343,197.4573212,196.6969757,210.1376648,226.7825165,216.5349884,215.434082,218.085083,209.8447113,212.5158386,211.1270447,211.5690918,215.0208588,216.9894714,211.1658936,188.4732208,193.1651001,192.2288666,194.6426086,193.7092285,190.6448822,194.0945587,206.7064056,204.3088379,203.2161407,203.4052124,196.6561279,196.9250183,195.0860291,186.0110016,185.5651093,188.8737335,192.8539276,194.1390228,202.0554199,201.8489685,203.1520233,207.6594391,196.1913757,198.9364777,199.1807251,196.7970428,195.2422485,194.2002869,192.805191,196.1302185,194.820816,185.0368805,183.3468628,184.2130432,180.1427765,177.6431885,177.9884644,177.8897095,175.4093781,175.5072021,175.7463074,177.9963379,181.3611755,182.298233,173.2484283,173.0041199,170.3695221,162.3105469,161.2744751,160.5755615,159.2425995,158.0999298,156.9255219,157.1562347,156.3411713,193.978241,193.9789734,190.697403,190.0441589,185.4853821,183.5662994,187.0222778,186.2996674,182.1634979,183.6146088,180.3852539,173.9674225,174.3547821,173.4355164,172.9029694,179.1899109,181.7845917,186.3875275,184.3725586,190.2700806,194.7108154,211.9714203,218.6703033,219.1097412,218.2259827,230.5309296,244.1530762,252.9751434,233.6489105,232.9283142,235.3256683,240.4734497,241.6012726,233.9087524,234.109314,229.7937317,227.3799438,212.606369,228.1741028,228.4413452,233.253067,218.6451111,209.7673798,211.1702423,197.4048462,196.8655396,206.7166748,203.8136139,193.8956146,192.3856049,193.1882019,192.437561,196.9251404,200.0428162,207.1139679,204.9197235,184.8634491,165.4846802,170.4395142,167.3543854,175.9868317,178.8978119,173.0980988,172.9145508,158.9831085,156.7814178,158.4245453,157.3858032,166.6456757,173.9134064,176.5275116,172.4700317,179.3464203,177.4115906,164.8636932,165.6929932,166.6359863,168.1225128,174.5644836,174.2542419,172.5371094,172.1634216,170.2715912,160.8690033,160.6060944,161.1163177,160.5817108,167.4133606,171.5428619,170.0007629,175.4971771,184.5400848,184.5305176,178.0123444,176.5815735,170.6527557,168.4651947,167.6149292,166.2387543,166.6618652,158.6710663,153.7825623,162.4405975,168.8404083,172.6559143,167.8262787,167.0999451,161.735611,162.0335236,160.956131,161.8287354,161.462738,158.2281036,160.6302185,169.8878326,170.7610321,166.1419067,168.0790863,196.3659058,196.0410461,197.2738037,216.6496887,211.8520508,194.3483124,169.1086426,171.473938,170.1844482,184.1753845,184.1801147,172.3475952,173.9979248,195.8948822,184.6573639,183.0022736,187.3437347,181.2996674,173.4673462,170.9572144,166.6873474,166.3980103,171.7023315,169.2311859,172.5375519,180.1975403,190.3611145,182.9771576,180.0989075,193.263092,192.4202576,173.3777161,172.3336182,162.3382416,168.3615265,167.127655,175.0745544,173.574646,168.9762268,168.9076691,166.903717,165.4553528,167.039566,174.1218567,185.42276,171.1271973,185.0501404,188.7449036,184.2875214,324.5422058,299.4214478,253.7041016,204.1967621,220.0313568,233.3494263,221.6263428,213.9470062,207.3539124,208.6607056,214.5694122,206.0435181,200.838562,181.9232788,178.322052,176.9603271,184.3279114,181.7150421,174.1382294,167.4368286,184.5875092,192.7206726,180.9786835,185.6630402,181.8387756,186.7726135,187.276535,187.8117371,195.5701599,188.8528748,194.2008362,234.8547363,234.5499725,228.2640228,236.2458954,266.8276367,282.1379089,273.4252014,256.3243103,251.8186493,254.3544159,252.673996,253.6064758,249.4722443,245.5464478,216.2701569,208.3747711,201.1127625,187.3782806,194.6396027,185.2352753,188.9604492,191.3035431,193.8983002,191.5282593,181.9199677,182.559021,185.8050232,187.6658173,189.9885101,194.3501282,190.2338715,189.8277435,233.7387543,224.6052551,201.83461,198.3670807,196.4150543,207.154068,228.9021912,220.1999817,208.5778656,222.5567474,226.0637817,221.4862976,197.0128174,204.1439667,204.6110077,202.6382141,210.9607849,210.5952759,219.1065369,237.2568359,267.5315857,255.0908356,232.7602081,250.5200653,280.9872742,274.0850525,251.0360413,270.6869812,280.5283508,289.4038391,277.8955383,300.1832275,346.1983643,377.8268738,491.635376,446.4685059,383.9807434,339.6027222,312.3816833,319.572876,310.1672363,291.092865,251.4628296,255.8975372,266.2564392,289.5139771,295.7136841,292.2785339,327.5843811,339.4133606,344.9331055,375.6261902,373.9348755,445.7947388,457.2388,430.7684021,396.9823914,377.7468262,410.8309021,394.3372803,405.2767944,336.1821594,351.2213135,340.7038574,330.7542419,316.698761,302.2765503,290.2876587,201.9732056,207.4814758,176.5606384,173.8707275,180.4190369,185.576828,186.7378998,189.6628876,185.2449036,179.1021271,169.7602234,175.280426,176.6089325,187.8101349,191.480484,189.4541931,178.0644073,180.7989197,179.9469452,168.3931122,173.5027618,174.8792419,173.2392273,164.5416107,172.6232605,175.3307037,175.0653839,169.9166107,167.5777283,164.4537811,159.3275909,155.6356049,153.719986,126.8282089,130.2263336,134.1633453,134.4887848,125.1180115,131.3691559,170.1666107,165.9760132,154.4123535,149.3444366,146.8125763,148.6962585,153.990097,149.3365021,148.3069763,147.0764771,145.2618561,141.0947876,141.1870575,140.4953461,143.1376953,139.60849,138.5725403,134.2906799,130.1179657,125.4183807,125.8420029,123.6760864,119.9102173,124.1960907,124.5571594,126.3407898,129.723053,128.8608398,138.3097534,133.5058441,136.1879883,139.8206482,141.8133545,143.0596924,148.9594116,149.8686066,148.3683472,142.1697083,141.0156097,146.7686768,159.7024994,155.2816925,159.4107361,159.3363495,163.5084076,164.4386902,166.0821991,167.7246246,173.3529968,176.3094025,171.0521851,160.426712,159.7541962,172.6810303,173.0610962,169.5406647,170.6242371,169.5340271,165.310379,165.7580719,162.5686035,185.6542206,213.4388885,201.4226074,175.2959442,172.4220123,183.7346954,178.4130249,202.1969452,199.6232758,201.4581299,195.7741852,166.2036743,169.9844971,166.8487091,159.0093994,158.6066742,160.4312134,162.9357758,170.1822052,167.1234741,167.4942627,173.7266846,175.3679504,162.2603912,160.3123932,154.0116425,147.3725128,151.8649139,136.7057495,141.0449371,132.1880951,130.5897369,129.5357361,131.8064728,140.2784576,143.2013702,146.7216644,149.580658,158.022171,164.0330963,184.3339233,184.309845,180.9901428,185.2189941,181.3593445,179.1730194,174.2923279,175.4477081,178.0535889,178.0021973,175.3868103,174.2680817,174.5149994,176.1343842,178.5840607,173.7214966,172.681076,176.8864594,174.5094757,174.4795685,172.8922272,164.7740631,166.6912842,166.358017,166.6928558,168.3821106,169.3746796,170.9805145,173.9613953,177.0354309,174.3644867,169.9644012,178.4837341,192.783493,198.7561646,181.3001099,180.0372314,175.8825531,178.3128662,180.0751343,173.864212,166.8701935,164.4142609,155.3485107,158.3014679,162.3733063,161.0175781,156.3096771,159.1531982,162.2493439,160.3283844,149.413147,153.1868439,154.2574463,155.2984924],\"coloraxis\":\"coloraxis\",\"size\":[94.54247284,96.41432953,92.70539093,92.11457825,102.4686508,109.2396011,110.3549042,110.7052536,111.3048706,112.7740097,116.6746445,149.3019409,148.5810699,159.9598999,173.5840912,285.6822205,282.2265625,274.0141602,245.1820831,238.8455353,264.6915283,290.9819031,299.273468,248.2833862,247.2959137,253.4713135,254.8527374,274.1022644,279.4581909,282.6755676,284.5903625,265.0791626,270.9261169,271.8634338,275.1427002,267.8049011,269.1757813,292.5310669,290.624115,290.3830261,331.7277222,339.3374023,346.5242615,363.0080261,349.769928,349.5075073,304.586731,266.8467102,257.0706177,290.2191467,288.7273865,280.1481323,283.296051,276.6158752,280.0682983,270.2789001,256.5889587,215.1181335,217.0490112,210.5327301,209.6308441,212.1737061,227.1610413,242.1954346,224.8568115,231.3993988,238.2225037,229.1902008,196.3272858,189.0722656,194.5046082,177.2285156,107.1036377,88.07146454,115.0200195,115.0040359,102.0954742,109.7122345,112.2224579,118.0984344,149.5070496,157.0805969,156.6147614,155.6199799,168.6398315,169.5289459,167.2359314,166.7953186,151.3918457,148.3920898,146.95047,163.8847351,159.2752533,166.3667908,173.0881195,174.9463196,171.673645,174.5856781,184.3646851,184.5521851,210.8270721,182.000946,181.138031,183.4742889,183.805954,186.9862213,182.1417084,174.9185944,194.1264191,195.7477112,184.0813904,180.5256195,182.7266846,188.6274567,193.5709076,192.607666,194.7232513,190.9298859,191.3695374,194.6960602,206.2398834,208.0306549,210.1459656,206.4021759,197.303772,204.1627502,204.7730103,202.0650024,207.8944092,208.9997864,178.9636078,174.8803253,184.6625061,185.2434082,188.9602814,186.0820465,186.2801819,188.2960968,191.6645966,197.7267914,194.9132843,188.9240417,191.6505737,192.1710815,184.9257507,181.8915405,179.1270142,180.5393372,186.1374359,188.698349,188.0552826,192.2732697,192.7438049,193.7585907,193.5715942,194.1682281,195.6465912,193.4805298,188.610733,189.9596252,189.521698,190.6763611,180.7592926,180.5525665,181.481781,179.3087463,168.8735504,174.0672302,173.6261597,173.8656158,171.7867889,170.3800201,172.3673096,172.4262085,174.8430328,171.7845306,169.4843292,168.3318481,155.0158691,154.3537445,156.3744812,157.035965,154.3806915,153.6054993,154.1176147,153.3540344,151.9358215,153.4893036,181.9514465,183.123703,183.4488983,178.9439087,181.1767883,182.8438416,180.7036133,179.0263519,178.8080902,171.9833984,170.7777405,171.4108276,168.51828,168.5381622,169.0700836,175.2858887,180.2689514,179.6382446,180.6600952,186.9810181,189.8391113,202.1135406,211.7253418,209.9289093,212.6087952,227.4234314,213.5570679,216.8149109,219.3460999,223.5466919,230.0618439,223.5595856,227.4375,220.6660461,224.0903015,204.8817749,200.3822021,214.2681122,218.2718811,217.2959747,203.4865417,205.2864075,197.4655151,190.6678467,192.0960388,193.916687,186.5130768,188.1650543,184.2450562,184.5461731,189.0932007,189.6050873,192.1357269,189.8995667,178.7327271,149.8152924,152.1353302,151.2559662,159.4251251,161.0861969,166.3921204,166.7008514,164.983902,143.5272217,148.0883026,149.8121948,152.672287,154.9011993,160.9404144,168.6903076,167.9080353,170.4670715,165.1099396,161.4465637,158.0358887,157.6762238,160.7792816,168.3397369,170.1838074,166.2829437,167.0547485,157.5396271,157.7110901,158.7160034,158.6989594,155.7214508,157.7995911,164.6101837,162.9416046,166.2622223,170.3595734,169.3730927,172.1213837,167.0954285,164.5089874,159.9854889,161.7440491,162.6615753,157.2023926,146.683075,146.930481,152.0378876,158.4445038,158.7205048,160.5470123,157.0036774,155.3595734,156.8948822,156.0260315,156.3948212,155.4875336,152.9109497,153.400528,159.0723572,159.0176392,158.0547333,161.2862396,165.999115,173.6674652,175.1743927,194.5168457,188.1051788,151.7561798,156.6055908,159.7102051,163.8404236,168.1891632,168.7273102,165.8831177,168.0579224,168.5824127,173.8294983,174.2760468,176.1228485,170.2090149,161.7398834,164.3911133,159.6544495,161.2867126,164.7020111,164.4515076,164.6314087,167.0614929,177.2606812,173.5924683,175.5036926,173.6837158,171.065094,164.9584961,151.1462402,151.9021149,159.9307556,161.6867828,159.6490631,166.7528534,155.6955414,161.7995911,159.5457611,162.2827454,160.3823853,162.8692932,162.5585175,162.6672058,167.4325562,171.9191284,166.3534088,175.4932098,233.4714661,163.8511505,181.3011627,188.7411346,204.0973663,191.589447,201.7370758,195.0392151,197.2252655,204.6208344,187.3062134,175.9402161,170.3189087,171.2618713,171.9231567,173.727356,172.2982483,158.522171,161.466507,166.4063721,168.0514526,171.5521851,172.7627106,177.2588959,180.173111,175.7548218,176.3242188,181.8874664,178.4712219,181.5340576,193.7607574,200.9132538,207.9897308,215.3393707,222.7828979,245.4319458,214.4499817,228.3712921,228.059906,237.964798,231.9899139,218.3417511,225.3086395,183.3465424,169.496109,183.3564453,183.2663269,171.9757538,180.3019714,171.6544952,176.156601,180.8050842,184.15979,180.0618439,176.2896271,176.2910309,181.2636566,179.5979309,184.5695343,184.7685852,184.4888,178.9059601,185.7186737,198.7468872,186.6103821,186.4577484,189.5082397,194.4661255,198.5214844,205.4857025,198.7440186,197.7188263,203.8161774,188.6136627,187.9666138,192.675827,196.1768036,197.3727722,197.8712311,205.4322205,201.634491,214.7004242,226.95784,218.0619812,219.0220184,230.2387238,243.8490143,231.3536987,236.1928101,244.477417,255.1949768,267.4059753,252.828949,260.0006409,285.9378357,318.8717957,329.0827637,374.020874,288.1339111,287.0300598,273.9130859,290.9144897,279.6434021,206.7423553,229.1076508,231.6443787,237.7321167,261.026123,272.1383362,273.8705444,277.9656067,310.7812195,314.6855164,331.7535095,316.945282,323.8677368,387.7619934,365.1902466,339.3218689,333.456604,308.8288574,332.1333923,299.5545654,290.5990601,311.9360352,307.8838501,290.7161255,259.3236084,278.1402588,141.5132751,161.7647552,155.2024536,158.7721863,129.3406067,146.3519592,161.7105408,171.6086426,170.8156891,161.5959015,159.8510742,155.4138794,161.4919891,166.7056122,171.7362823,178.5805817,169.3884277,167.6537323,174.1536255,166.0153198,152.1134338,158.072937,164.3047485,162.3442993,156.7178955,159.7227478,168.7324066,168.6021423,161.4028473,161.072876,152.9569702,155.1595612,145.6166534,122.8408356,107.6276016,115.3851395,123.7131577,121.2333145,117.6518402,124.9592514,130.2572479,151.7803497,138.1444244,138.369339,138.983078,142.0196991,143.9643097,140.3377533,135.619812,139.9633789,135.2841187,134.9566498,135.9878235,135.3635559,137.0606079,136.1338806,127.5457993,125.8279724,123.4934692,121.3229294,122.3862915,116.7803879,111.8148422,112.8557892,118.5646744,122.3797455,125.5839157,125.2910004,127.8374252,128.0074921,131.9819794,133.6307831,134.3479462,138.921402,140.6085968,139.8914337,138.5284424,134.5941162,135.4788513,139.5211182,144.5492554,144.7414398,142.9309692,149.6286163,153.037735,151.2918091,153.4586639,159.3757935,162.6349792,165.3360443,156.6280212,153.2670746,150.9890137,158.0287323,165.5871887,160.6806335,165.7113647,159.1794128,158.283371,153.5550079,154.7622223,160.1850586,165.5101318,169.6985016,162.5032501,165.9864197,168.0301971,168.3890686,174.2212067,188.7154083,191.3451843,147.6381531,152.0119629,153.8162231,154.2985992,151.4238586,152.3641205,147.4309845,153.1162872,151.5658112,154.6313324,156.0862427,155.6288605,155.0812378,134.0825195,130.7567902,138.2437897,143.2753448,126.7528076,130.4847717,118.8842773,125.8404846,123.9857635,122.9113998,126.1957169,128.4777527,138.0263519,137.945282,140.2382813,144.0883636,147.2321777,147.4328461,174.0339355,172.3087158,173.0853119,172.7556763,164.1797028,166.0784607,170.8809662,169.2294159,170.9355469,165.5638275,166.291687,166.9985352,169.0909424,170.5486603,168.7620239,169.6160583,169.5865326,170.9917145,170.3493347,154.3390045,154.1116943,160.7927399,159.8214111,160.8933716,162.2283783,163.313385,165.0648956,166.5199432,170.057251,166.4378967,166.3755798,169.2927856,177.9095306,176.5552063,176.3826447,168.2657928,170.8918152,174.3725586,173.3027802,159.8525543,160.4999695,147.8025818,145.6041718,153.7520752,156.1312408,153.1055908,151.6178131,152.4911041,155.9064636,144.7469635,143.1802521,141.9762573,147.3291473,148.0792389],\"sizemode\":\"area\",\"sizeref\":0.9694049835,\"symbol\":\"circle\"},\"mode\":\"markers\",\"name\":\"\",\"scene\":\"scene\",\"showlegend\":false,\"x\":[94.54247284,96.41432953,92.70539093,92.11457825,102.4686508,109.2396011,110.3549042,110.7052536,111.3048706,112.7740097,116.6746445,149.3019409,148.5810699,159.9598999,173.5840912,285.6822205,282.2265625,274.0141602,245.1820831,238.8455353,264.6915283,290.9819031,299.273468,248.2833862,247.2959137,253.4713135,254.8527374,274.1022644,279.4581909,282.6755676,284.5903625,265.0791626,270.9261169,271.8634338,275.1427002,267.8049011,269.1757813,292.5310669,290.624115,290.3830261,331.7277222,339.3374023,346.5242615,363.0080261,349.769928,349.5075073,304.586731,266.8467102,257.0706177,290.2191467,288.7273865,280.1481323,283.296051,276.6158752,280.0682983,270.2789001,256.5889587,215.1181335,217.0490112,210.5327301,209.6308441,212.1737061,227.1610413,242.1954346,224.8568115,231.3993988,238.2225037,229.1902008,196.3272858,189.0722656,194.5046082,177.2285156,107.1036377,88.07146454,115.0200195,115.0040359,102.0954742,109.7122345,112.2224579,118.0984344,149.5070496,157.0805969,156.6147614,155.6199799,168.6398315,169.5289459,167.2359314,166.7953186,151.3918457,148.3920898,146.95047,163.8847351,159.2752533,166.3667908,173.0881195,174.9463196,171.673645,174.5856781,184.3646851,184.5521851,210.8270721,182.000946,181.138031,183.4742889,183.805954,186.9862213,182.1417084,174.9185944,194.1264191,195.7477112,184.0813904,180.5256195,182.7266846,188.6274567,193.5709076,192.607666,194.7232513,190.9298859,191.3695374,194.6960602,206.2398834,208.0306549,210.1459656,206.4021759,197.303772,204.1627502,204.7730103,202.0650024,207.8944092,208.9997864,178.9636078,174.8803253,184.6625061,185.2434082,188.9602814,186.0820465,186.2801819,188.2960968,191.6645966,197.7267914,194.9132843,188.9240417,191.6505737,192.1710815,184.9257507,181.8915405,179.1270142,180.5393372,186.1374359,188.698349,188.0552826,192.2732697,192.7438049,193.7585907,193.5715942,194.1682281,195.6465912,193.4805298,188.610733,189.9596252,189.521698,190.6763611,180.7592926,180.5525665,181.481781,179.3087463,168.8735504,174.0672302,173.6261597,173.8656158,171.7867889,170.3800201,172.3673096,172.4262085,174.8430328,171.7845306,169.4843292,168.3318481,155.0158691,154.3537445,156.3744812,157.035965,154.3806915,153.6054993,154.1176147,153.3540344,151.9358215,153.4893036,181.9514465,183.123703,183.4488983,178.9439087,181.1767883,182.8438416,180.7036133,179.0263519,178.8080902,171.9833984,170.7777405,171.4108276,168.51828,168.5381622,169.0700836,175.2858887,180.2689514,179.6382446,180.6600952,186.9810181,189.8391113,202.1135406,211.7253418,209.9289093,212.6087952,227.4234314,213.5570679,216.8149109,219.3460999,223.5466919,230.0618439,223.5595856,227.4375,220.6660461,224.0903015,204.8817749,200.3822021,214.2681122,218.2718811,217.2959747,203.4865417,205.2864075,197.4655151,190.6678467,192.0960388,193.916687,186.5130768,188.1650543,184.2450562,184.5461731,189.0932007,189.6050873,192.1357269,189.8995667,178.7327271,149.8152924,152.1353302,151.2559662,159.4251251,161.0861969,166.3921204,166.7008514,164.983902,143.5272217,148.0883026,149.8121948,152.672287,154.9011993,160.9404144,168.6903076,167.9080353,170.4670715,165.1099396,161.4465637,158.0358887,157.6762238,160.7792816,168.3397369,170.1838074,166.2829437,167.0547485,157.5396271,157.7110901,158.7160034,158.6989594,155.7214508,157.7995911,164.6101837,162.9416046,166.2622223,170.3595734,169.3730927,172.1213837,167.0954285,164.5089874,159.9854889,161.7440491,162.6615753,157.2023926,146.683075,146.930481,152.0378876,158.4445038,158.7205048,160.5470123,157.0036774,155.3595734,156.8948822,156.0260315,156.3948212,155.4875336,152.9109497,153.400528,159.0723572,159.0176392,158.0547333,161.2862396,165.999115,173.6674652,175.1743927,194.5168457,188.1051788,151.7561798,156.6055908,159.7102051,163.8404236,168.1891632,168.7273102,165.8831177,168.0579224,168.5824127,173.8294983,174.2760468,176.1228485,170.2090149,161.7398834,164.3911133,159.6544495,161.2867126,164.7020111,164.4515076,164.6314087,167.0614929,177.2606812,173.5924683,175.5036926,173.6837158,171.065094,164.9584961,151.1462402,151.9021149,159.9307556,161.6867828,159.6490631,166.7528534,155.6955414,161.7995911,159.5457611,162.2827454,160.3823853,162.8692932,162.5585175,162.6672058,167.4325562,171.9191284,166.3534088,175.4932098,233.4714661,163.8511505,181.3011627,188.7411346,204.0973663,191.589447,201.7370758,195.0392151,197.2252655,204.6208344,187.3062134,175.9402161,170.3189087,171.2618713,171.9231567,173.727356,172.2982483,158.522171,161.466507,166.4063721,168.0514526,171.5521851,172.7627106,177.2588959,180.173111,175.7548218,176.3242188,181.8874664,178.4712219,181.5340576,193.7607574,200.9132538,207.9897308,215.3393707,222.7828979,245.4319458,214.4499817,228.3712921,228.059906,237.964798,231.9899139,218.3417511,225.3086395,183.3465424,169.496109,183.3564453,183.2663269,171.9757538,180.3019714,171.6544952,176.156601,180.8050842,184.15979,180.0618439,176.2896271,176.2910309,181.2636566,179.5979309,184.5695343,184.7685852,184.4888,178.9059601,185.7186737,198.7468872,186.6103821,186.4577484,189.5082397,194.4661255,198.5214844,205.4857025,198.7440186,197.7188263,203.8161774,188.6136627,187.9666138,192.675827,196.1768036,197.3727722,197.8712311,205.4322205,201.634491,214.7004242,226.95784,218.0619812,219.0220184,230.2387238,243.8490143,231.3536987,236.1928101,244.477417,255.1949768,267.4059753,252.828949,260.0006409,285.9378357,318.8717957,329.0827637,374.020874,288.1339111,287.0300598,273.9130859,290.9144897,279.6434021,206.7423553,229.1076508,231.6443787,237.7321167,261.026123,272.1383362,273.8705444,277.9656067,310.7812195,314.6855164,331.7535095,316.945282,323.8677368,387.7619934,365.1902466,339.3218689,333.456604,308.8288574,332.1333923,299.5545654,290.5990601,311.9360352,307.8838501,290.7161255,259.3236084,278.1402588,141.5132751,161.7647552,155.2024536,158.7721863,129.3406067,146.3519592,161.7105408,171.6086426,170.8156891,161.5959015,159.8510742,155.4138794,161.4919891,166.7056122,171.7362823,178.5805817,169.3884277,167.6537323,174.1536255,166.0153198,152.1134338,158.072937,164.3047485,162.3442993,156.7178955,159.7227478,168.7324066,168.6021423,161.4028473,161.072876,152.9569702,155.1595612,145.6166534,122.8408356,107.6276016,115.3851395,123.7131577,121.2333145,117.6518402,124.9592514,130.2572479,151.7803497,138.1444244,138.369339,138.983078,142.0196991,143.9643097,140.3377533,135.619812,139.9633789,135.2841187,134.9566498,135.9878235,135.3635559,137.0606079,136.1338806,127.5457993,125.8279724,123.4934692,121.3229294,122.3862915,116.7803879,111.8148422,112.8557892,118.5646744,122.3797455,125.5839157,125.2910004,127.8374252,128.0074921,131.9819794,133.6307831,134.3479462,138.921402,140.6085968,139.8914337,138.5284424,134.5941162,135.4788513,139.5211182,144.5492554,144.7414398,142.9309692,149.6286163,153.037735,151.2918091,153.4586639,159.3757935,162.6349792,165.3360443,156.6280212,153.2670746,150.9890137,158.0287323,165.5871887,160.6806335,165.7113647,159.1794128,158.283371,153.5550079,154.7622223,160.1850586,165.5101318,169.6985016,162.5032501,165.9864197,168.0301971,168.3890686,174.2212067,188.7154083,191.3451843,147.6381531,152.0119629,153.8162231,154.2985992,151.4238586,152.3641205,147.4309845,153.1162872,151.5658112,154.6313324,156.0862427,155.6288605,155.0812378,134.0825195,130.7567902,138.2437897,143.2753448,126.7528076,130.4847717,118.8842773,125.8404846,123.9857635,122.9113998,126.1957169,128.4777527,138.0263519,137.945282,140.2382813,144.0883636,147.2321777,147.4328461,174.0339355,172.3087158,173.0853119,172.7556763,164.1797028,166.0784607,170.8809662,169.2294159,170.9355469,165.5638275,166.291687,166.9985352,169.0909424,170.5486603,168.7620239,169.6160583,169.5865326,170.9917145,170.3493347,154.3390045,154.1116943,160.7927399,159.8214111,160.8933716,162.2283783,163.313385,165.0648956,166.5199432,170.057251,166.4378967,166.3755798,169.2927856,177.9095306,176.5552063,176.3826447,168.2657928,170.8918152,174.3725586,173.3027802,159.8525543,160.4999695,147.8025818,145.6041718,153.7520752,156.1312408,153.1055908,151.6178131,152.4911041,155.9064636,144.7469635,143.1802521,141.9762573,147.3291473,148.0792389],\"y\":[98.64949036,99.84942627,97.74055481,103.8891678,110.2143097,114.7617416,117.9483261,118.6575394,116.1369247,118.3463364,172.7569427,175.6250305,168.8140411,174.6592102,441.1965637,421.5262756,333.8732605,330.3887634,297.5357056,276.9186401,320.6426086,323.3013306,322.1907654,308.585022,281.4699402,270.3371887,277.2640991,318.7865295,311.1367493,303.9039307,306.6995239,298.9177246,288.0604553,286.1499023,285.4448853,282.7148438,304.3865356,306.2124939,302.5376587,346.1575317,366.3366394,355.5209045,366.1286316,375.72052,379.498291,363.0606995,361.6252136,321.4404297,315.4084167,322.960968,314.451355,305.2005615,293.9132385,290.2752075,294.5535278,298.4317932,278.3526611,259.6699524,233.8022461,230.7732697,220.7040863,228.7323456,258.1128845,253.9811859,247.883316,247.8124084,248.5546265,245.6841125,234.2283173,201.358902,202.2822571,200.5629883,191.2668915,125.8624496,125.1482849,128.5764771,124.4654541,121.7771835,119.3464203,166.3877106,175.5068054,171.5386047,182.0267792,169.425293,180.6903381,178.2603302,174.8734894,176.5881805,166.7077332,157.9924469,170.8555145,169.2254333,168.0016937,184.6670837,183.3143311,179.4510345,179.613205,192.7469025,194.5885162,220.6713409,224.9216461,214.6452332,189.763092,199.9821777,192.9614258,193.3347473,191.3977661,196.8838501,207.6184845,206.6005859,199.1248932,187.3530731,194.544693,197.6915436,197.3712006,198.9781952,198.8195343,197.4573212,196.6969757,210.1376648,226.7825165,216.5349884,215.434082,218.085083,209.8447113,212.5158386,211.1270447,211.5690918,215.0208588,216.9894714,211.1658936,188.4732208,193.1651001,192.2288666,194.6426086,193.7092285,190.6448822,194.0945587,206.7064056,204.3088379,203.2161407,203.4052124,196.6561279,196.9250183,195.0860291,186.0110016,185.5651093,188.8737335,192.8539276,194.1390228,202.0554199,201.8489685,203.1520233,207.6594391,196.1913757,198.9364777,199.1807251,196.7970428,195.2422485,194.2002869,192.805191,196.1302185,194.820816,185.0368805,183.3468628,184.2130432,180.1427765,177.6431885,177.9884644,177.8897095,175.4093781,175.5072021,175.7463074,177.9963379,181.3611755,182.298233,173.2484283,173.0041199,170.3695221,162.3105469,161.2744751,160.5755615,159.2425995,158.0999298,156.9255219,157.1562347,156.3411713,193.978241,193.9789734,190.697403,190.0441589,185.4853821,183.5662994,187.0222778,186.2996674,182.1634979,183.6146088,180.3852539,173.9674225,174.3547821,173.4355164,172.9029694,179.1899109,181.7845917,186.3875275,184.3725586,190.2700806,194.7108154,211.9714203,218.6703033,219.1097412,218.2259827,230.5309296,244.1530762,252.9751434,233.6489105,232.9283142,235.3256683,240.4734497,241.6012726,233.9087524,234.109314,229.7937317,227.3799438,212.606369,228.1741028,228.4413452,233.253067,218.6451111,209.7673798,211.1702423,197.4048462,196.8655396,206.7166748,203.8136139,193.8956146,192.3856049,193.1882019,192.437561,196.9251404,200.0428162,207.1139679,204.9197235,184.8634491,165.4846802,170.4395142,167.3543854,175.9868317,178.8978119,173.0980988,172.9145508,158.9831085,156.7814178,158.4245453,157.3858032,166.6456757,173.9134064,176.5275116,172.4700317,179.3464203,177.4115906,164.8636932,165.6929932,166.6359863,168.1225128,174.5644836,174.2542419,172.5371094,172.1634216,170.2715912,160.8690033,160.6060944,161.1163177,160.5817108,167.4133606,171.5428619,170.0007629,175.4971771,184.5400848,184.5305176,178.0123444,176.5815735,170.6527557,168.4651947,167.6149292,166.2387543,166.6618652,158.6710663,153.7825623,162.4405975,168.8404083,172.6559143,167.8262787,167.0999451,161.735611,162.0335236,160.956131,161.8287354,161.462738,158.2281036,160.6302185,169.8878326,170.7610321,166.1419067,168.0790863,196.3659058,196.0410461,197.2738037,216.6496887,211.8520508,194.3483124,169.1086426,171.473938,170.1844482,184.1753845,184.1801147,172.3475952,173.9979248,195.8948822,184.6573639,183.0022736,187.3437347,181.2996674,173.4673462,170.9572144,166.6873474,166.3980103,171.7023315,169.2311859,172.5375519,180.1975403,190.3611145,182.9771576,180.0989075,193.263092,192.4202576,173.3777161,172.3336182,162.3382416,168.3615265,167.127655,175.0745544,173.574646,168.9762268,168.9076691,166.903717,165.4553528,167.039566,174.1218567,185.42276,171.1271973,185.0501404,188.7449036,184.2875214,324.5422058,299.4214478,253.7041016,204.1967621,220.0313568,233.3494263,221.6263428,213.9470062,207.3539124,208.6607056,214.5694122,206.0435181,200.838562,181.9232788,178.322052,176.9603271,184.3279114,181.7150421,174.1382294,167.4368286,184.5875092,192.7206726,180.9786835,185.6630402,181.8387756,186.7726135,187.276535,187.8117371,195.5701599,188.8528748,194.2008362,234.8547363,234.5499725,228.2640228,236.2458954,266.8276367,282.1379089,273.4252014,256.3243103,251.8186493,254.3544159,252.673996,253.6064758,249.4722443,245.5464478,216.2701569,208.3747711,201.1127625,187.3782806,194.6396027,185.2352753,188.9604492,191.3035431,193.8983002,191.5282593,181.9199677,182.559021,185.8050232,187.6658173,189.9885101,194.3501282,190.2338715,189.8277435,233.7387543,224.6052551,201.83461,198.3670807,196.4150543,207.154068,228.9021912,220.1999817,208.5778656,222.5567474,226.0637817,221.4862976,197.0128174,204.1439667,204.6110077,202.6382141,210.9607849,210.5952759,219.1065369,237.2568359,267.5315857,255.0908356,232.7602081,250.5200653,280.9872742,274.0850525,251.0360413,270.6869812,280.5283508,289.4038391,277.8955383,300.1832275,346.1983643,377.8268738,491.635376,446.4685059,383.9807434,339.6027222,312.3816833,319.572876,310.1672363,291.092865,251.4628296,255.8975372,266.2564392,289.5139771,295.7136841,292.2785339,327.5843811,339.4133606,344.9331055,375.6261902,373.9348755,445.7947388,457.2388,430.7684021,396.9823914,377.7468262,410.8309021,394.3372803,405.2767944,336.1821594,351.2213135,340.7038574,330.7542419,316.698761,302.2765503,290.2876587,201.9732056,207.4814758,176.5606384,173.8707275,180.4190369,185.576828,186.7378998,189.6628876,185.2449036,179.1021271,169.7602234,175.280426,176.6089325,187.8101349,191.480484,189.4541931,178.0644073,180.7989197,179.9469452,168.3931122,173.5027618,174.8792419,173.2392273,164.5416107,172.6232605,175.3307037,175.0653839,169.9166107,167.5777283,164.4537811,159.3275909,155.6356049,153.719986,126.8282089,130.2263336,134.1633453,134.4887848,125.1180115,131.3691559,170.1666107,165.9760132,154.4123535,149.3444366,146.8125763,148.6962585,153.990097,149.3365021,148.3069763,147.0764771,145.2618561,141.0947876,141.1870575,140.4953461,143.1376953,139.60849,138.5725403,134.2906799,130.1179657,125.4183807,125.8420029,123.6760864,119.9102173,124.1960907,124.5571594,126.3407898,129.723053,128.8608398,138.3097534,133.5058441,136.1879883,139.8206482,141.8133545,143.0596924,148.9594116,149.8686066,148.3683472,142.1697083,141.0156097,146.7686768,159.7024994,155.2816925,159.4107361,159.3363495,163.5084076,164.4386902,166.0821991,167.7246246,173.3529968,176.3094025,171.0521851,160.426712,159.7541962,172.6810303,173.0610962,169.5406647,170.6242371,169.5340271,165.310379,165.7580719,162.5686035,185.6542206,213.4388885,201.4226074,175.2959442,172.4220123,183.7346954,178.4130249,202.1969452,199.6232758,201.4581299,195.7741852,166.2036743,169.9844971,166.8487091,159.0093994,158.6066742,160.4312134,162.9357758,170.1822052,167.1234741,167.4942627,173.7266846,175.3679504,162.2603912,160.3123932,154.0116425,147.3725128,151.8649139,136.7057495,141.0449371,132.1880951,130.5897369,129.5357361,131.8064728,140.2784576,143.2013702,146.7216644,149.580658,158.022171,164.0330963,184.3339233,184.309845,180.9901428,185.2189941,181.3593445,179.1730194,174.2923279,175.4477081,178.0535889,178.0021973,175.3868103,174.2680817,174.5149994,176.1343842,178.5840607,173.7214966,172.681076,176.8864594,174.5094757,174.4795685,172.8922272,164.7740631,166.6912842,166.358017,166.6928558,168.3821106,169.3746796,170.9805145,173.9613953,177.0354309,174.3644867,169.9644012,178.4837341,192.783493,198.7561646,181.3001099,180.0372314,175.8825531,178.3128662,180.0751343,173.864212,166.8701935,164.4142609,155.3485107,158.3014679,162.3733063,161.0175781,156.3096771,159.1531982,162.2493439,160.3283844,149.413147,153.1868439,154.2574463,155.2984924],\"z\":[533536931,450643882,424249976,697088052,712444844,650101885,796700319,776247251,762929032,679848557,1782635151,1779222123,1360791215,1227224459,7460265156,5432389775,3966458240,3565786206,3246126279,3190579995,3279329941,2836183879,2192284387,2643222739,2733224386,1764624059,2003477064,3260926617,2987485223,2955203277,2639457631,2306111736,2045188904,1947042982,1966449392,1848976319,2723740891,2403576503,2039225645,3637921786,3583539558,3169406345,2971745227,3020567588,3334653510,2708978354,2841930815,3044207063,3724652669,3499501110,2781178232,2927371823,2282759105,2094451769,2241456507,2390831344,2300066161,3532653944,2584680224,2325970138,1925700287,2461691016,2887136059,2741753419,2142182865,2431717715,2260275207,1910397713,2252966254,2510235141,1893086091,1783158747,2540501992,3495044246,1739920784,1596193505,2143129008,1846959345,1592444482,3116861239,3784711874,3036999420,3365019330,3149579336,2977423446,2618004667,1996685072,1904035736,2095536391,1543375850,2283127949,2000505849,2007741934,2650862690,2464900634,1812315893,1703432611,2826496191,2619485002,4032521456,3289157637,3313739192,2058158008,2627340894,2913393576,2038128781,1702846496,2708612989,1968129250,2209872071,2092656480,2037607362,1914479024,2202065564,1861647465,2012652584,1884017120,1995756051,1826791904,2573912361,3468080646,2237282636,1995753725,2295262059,2421080578,2290882102,2228243539,2359927019,2442133916,2571411486,2589962087,2495720772,1992227197,1699205196,1942907274,1801930340,1506851155,1429176120,2052354763,1744879416,1595072264,1798266241,1324261581,1072106099,1213807485,1118755233,1195119871,1539575067,1456179939,1548696159,2107345837,1643498359,1704571261,2070978112,1453121618,1439365836,1351691438,1192456208,1370911213,1155709978,1190330474,1397632297,1415523960,1170656232,884987750,897770498,1175534897,1039083053,900627312,884757053,1094218560,1122555280,904961186,1233458039,962634733,987310377,938923928,1019173317,1124096210,1069996720,1025204103,939565958,989072226,876911589,878500995,896022460,878715915,1939468353,1430074505,1397988017,1136387373,1188008038,879154454,1021383727,1108494832,1032117613,1097492089,1074372007,1049429000,1011992052,1090383716,1055569739,1241046357,1221707999,1376147916,1267538795,1380403936,1563434752,1933897783,2072101867,1685108193,1658274601,1925234096,2316011889,2677273031,1809758255,1718721505,1476218661,1556497463,1650015705,1272232086,1213167418,1297276831,1151143154,893247632,969331160,963973296,989583762,934541279,652842403,816282428,749933578,602797545,775166913,770117025,621682357,605773369,611385861,924063636,1102059133,638195330,896545578,929037178,917281229,948815228,1393263732,1299598990,1705638023,1554219114,1013549692,1122149508,572282377,549423462,564105499,481176007,593194753,750534844,778556077,575098749,719803438,704986033,533665993,771978208,544003508,706896989,693050813,621020043,839167706,752059970,847576982,593885787,444378907,610553488,1052715584,940959601,781622694,1163918860,1343642415,1212885827,1279905127,999345472,1111576050,899916192,941971368,929986117,590083841,754759967,826433367,965812021,741458841,724540086,734498980,682235661,684039443,623807612,827156705,724782218,753589540,755680913,427809861,1273868444,641073792,603602085,466428689,474041829,1241312266,1097906401,1272012000,1977255200,1423905156,1483258713,753053484,537586592,475164140,756538626,772317898,516900110,435721247,1304860803,792710254,490738173,646595813,569515279,532350698,397472839,396994620,328095197,355436393,315377355,463001628,549757824,819753174,537203604,448869344,820875475,931916881,551081238,688312126,544850335,533110873,520607685,738847387,505824697,547058462,519932132,360792705,309676885,439843249,724762386,936306772,722843843,1085901650,1238845355,1005129116,4666032961,4205155207,3293931192,1681782601,2004783613,1780709461,1442962215,1081992348,890529795,975120622,981563192,1284655437,1407712853,1205668212,1018021500,706107056,1009438243,868250783,939154712,829853160,1393447565,1416389197,716768480,928293221,717691784,725312651,753843850,766139512,1041658708,937245395,999068562,2582374688,2040038624,1416914982,1328959608,2372839287,2666456603,2914637886,1997219511,1327157466,1003737862,1074792614,1583584357,1241260721,2239189382,1881160892,1315812291,984668472,1043923841,803337939,816018176,697127288,681388563,687723015,680156618,584109721,556606231,464121277,567258416,550103408,658965502,549753556,626294112,1822980823,1232085584,1149438260,882739478,654194544,918333651,1673281043,1059015288,703968706,1252024679,1479847056,1033186159,948879637,715192536,538137963,536704191,691044251,559617852,1395169129,1534951326,2221351513,1801399521,1109180244,1667140483,2838159161,2256206677,1285117539,1294507756,1519216554,1341804114,1078055481,1764291257,3266575741,2672082901,4652392545,3699043577,4042419742,2239242781,2159920601,1708015845,1738884254,2619288056,1198233994,962528566,1249352406,1311120444,1493736674,1053935374,1314798048,1330378391,1282941459,1929981523,2537962490,3481788239,3330405069,2476654956,2028607092,1816517530,3372569759,2720343048,2385424877,2948817565,1580381444,1441154678,1559362175,2068329327,1425867301,3125275289,2484003727,2260834089,1634335343,2054958546,1834379191,1655467610,1346212851,1147929602,1232465830,1152510285,867654745,871083901,891701486,922883904,913457806,1002767126,979002490,866540128,818323800,1121915238,1042768090,813118608,861722399,681685107,702345521,691110442,673880550,714448744,593323777,689554878,595748829,639719475,986264401,982845887,657671850,576441036,605166309,569724045,574535255,1170274665,976694083,736498877,692441290,450490796,461086588,566485090,540566699,585601210,536428345,674032836,508772428,432500043,444636929,524976439,362560699,301477086,270443032,240524259,239393430,229370734,221149530,266804573,302918401,247958789,243430428,239874126,232725138,490116353,332429573,318506399,304774419,345621288,278380093,329232594,368392416,308225247,311916872,299063884,309463762,469801057,366080341,496350243,376761220,441448855,394440170,387507040,436219554,532269992,436197480,375396653,340467110,317159716,418699501,357069959,315917392,332703562,329665436,351083826,352080851,333419497,403507002,1252875663,540973027,346917447,313037806,352803699,640886173,495527678,401398988,473672862,794199337,693664591,404326482,366951704,279619492,260292636,418491061,279140694,298863449,375177887,320172490,301893971,253197150,459824792,645158666,391194438,267637189,523481093,331302574,610311156,378898405,376903627,309867309,244145483,309679420,245981064,269092550,291404541,296145683,369887386,834775333,442610128,329143865,363052342,368498385,569963479,407534529,311068267,428251189,284995746,277928245,299839565,222650674,231915554,265407553,219336561,174770714,236535098,186170055,207999390,346039229,301527860,238743832,181299485,198699491,203508581,188691766,222857971,261662230,253721545,191910101,186109720,292218964,477749765,510881854,225698572,236931057,149357803,165387267,184481610,273592035,233657840,262380590,183798670,154832052,124438573,150886164,142221966,140437819,155351427,204524657,149696800,231165250,154055542,169984976],\"type\":\"scatter3d\"}],                        {\"template\":{\"data\":{\"histogram2dcontour\":[{\"type\":\"histogram2dcontour\",\"colorbar\":{\"outlinewidth\":0,\"ticks\":\"\"},\"colorscale\":[[0.0,\"#0d0887\"],[0.1111111111111111,\"#46039f\"],[0.2222222222222222,\"#7201a8\"],[0.3333333333333333,\"#9c179e\"],[0.4444444444444444,\"#bd3786\"],[0.5555555555555556,\"#d8576b\"],[0.6666666666666666,\"#ed7953\"],[0.7777777777777778,\"#fb9f3a\"],[0.8888888888888888,\"#fdca26\"],[1.0,\"#f0f921\"]]}],\"choropleth\":[{\"type\":\"choropleth\",\"colorbar\":{\"outlinewidth\":0,\"ticks\":\"\"}}],\"histogram2d\":[{\"type\":\"histogram2d\",\"colorbar\":{\"outlinewidth\":0,\"ticks\":\"\"},\"colorscale\":[[0.0,\"#0d0887\"],[0.1111111111111111,\"#46039f\"],[0.2222222222222222,\"#7201a8\"],[0.3333333333333333,\"#9c179e\"],[0.4444444444444444,\"#bd3786\"],[0.5555555555555556,\"#d8576b\"],[0.6666666666666666,\"#ed7953\"],[0.7777777777777778,\"#fb9f3a\"],[0.8888888888888888,\"#fdca26\"],[1.0,\"#f0f921\"]]}],\"heatmap\":[{\"type\":\"heatmap\",\"colorbar\":{\"outlinewidth\":0,\"ticks\":\"\"},\"colorscale\":[[0.0,\"#0d0887\"],[0.1111111111111111,\"#46039f\"],[0.2222222222222222,\"#7201a8\"],[0.3333333333333333,\"#9c179e\"],[0.4444444444444444,\"#bd3786\"],[0.5555555555555556,\"#d8576b\"],[0.6666666666666666,\"#ed7953\"],[0.7777777777777778,\"#fb9f3a\"],[0.8888888888888888,\"#fdca26\"],[1.0,\"#f0f921\"]]}],\"heatmapgl\":[{\"type\":\"heatmapgl\",\"colorbar\":{\"outlinewidth\":0,\"ticks\":\"\"},\"colorscale\":[[0.0,\"#0d0887\"],[0.1111111111111111,\"#46039f\"],[0.2222222222222222,\"#7201a8\"],[0.3333333333333333,\"#9c179e\"],[0.4444444444444444,\"#bd3786\"],[0.5555555555555556,\"#d8576b\"],[0.6666666666666666,\"#ed7953\"],[0.7777777777777778,\"#fb9f3a\"],[0.8888888888888888,\"#fdca26\"],[1.0,\"#f0f921\"]]}],\"contourcarpet\":[{\"type\":\"contourcarpet\",\"colorbar\":{\"outlinewidth\":0,\"ticks\":\"\"}}],\"contour\":[{\"type\":\"contour\",\"colorbar\":{\"outlinewidth\":0,\"ticks\":\"\"},\"colorscale\":[[0.0,\"#0d0887\"],[0.1111111111111111,\"#46039f\"],[0.2222222222222222,\"#7201a8\"],[0.3333333333333333,\"#9c179e\"],[0.4444444444444444,\"#bd3786\"],[0.5555555555555556,\"#d8576b\"],[0.6666666666666666,\"#ed7953\"],[0.7777777777777778,\"#fb9f3a\"],[0.8888888888888888,\"#fdca26\"],[1.0,\"#f0f921\"]]}],\"surface\":[{\"type\":\"surface\",\"colorbar\":{\"outlinewidth\":0,\"ticks\":\"\"},\"colorscale\":[[0.0,\"#0d0887\"],[0.1111111111111111,\"#46039f\"],[0.2222222222222222,\"#7201a8\"],[0.3333333333333333,\"#9c179e\"],[0.4444444444444444,\"#bd3786\"],[0.5555555555555556,\"#d8576b\"],[0.6666666666666666,\"#ed7953\"],[0.7777777777777778,\"#fb9f3a\"],[0.8888888888888888,\"#fdca26\"],[1.0,\"#f0f921\"]]}],\"mesh3d\":[{\"type\":\"mesh3d\",\"colorbar\":{\"outlinewidth\":0,\"ticks\":\"\"}}],\"scatter\":[{\"fillpattern\":{\"fillmode\":\"overlay\",\"size\":10,\"solidity\":0.2},\"type\":\"scatter\"}],\"parcoords\":[{\"type\":\"parcoords\",\"line\":{\"colorbar\":{\"outlinewidth\":0,\"ticks\":\"\"}}}],\"scatterpolargl\":[{\"type\":\"scatterpolargl\",\"marker\":{\"colorbar\":{\"outlinewidth\":0,\"ticks\":\"\"}}}],\"bar\":[{\"error_x\":{\"color\":\"#2a3f5f\"},\"error_y\":{\"color\":\"#2a3f5f\"},\"marker\":{\"line\":{\"color\":\"#E5ECF6\",\"width\":0.5},\"pattern\":{\"fillmode\":\"overlay\",\"size\":10,\"solidity\":0.2}},\"type\":\"bar\"}],\"scattergeo\":[{\"type\":\"scattergeo\",\"marker\":{\"colorbar\":{\"outlinewidth\":0,\"ticks\":\"\"}}}],\"scatterpolar\":[{\"type\":\"scatterpolar\",\"marker\":{\"colorbar\":{\"outlinewidth\":0,\"ticks\":\"\"}}}],\"histogram\":[{\"marker\":{\"pattern\":{\"fillmode\":\"overlay\",\"size\":10,\"solidity\":0.2}},\"type\":\"histogram\"}],\"scattergl\":[{\"type\":\"scattergl\",\"marker\":{\"colorbar\":{\"outlinewidth\":0,\"ticks\":\"\"}}}],\"scatter3d\":[{\"type\":\"scatter3d\",\"line\":{\"colorbar\":{\"outlinewidth\":0,\"ticks\":\"\"}},\"marker\":{\"colorbar\":{\"outlinewidth\":0,\"ticks\":\"\"}}}],\"scattermapbox\":[{\"type\":\"scattermapbox\",\"marker\":{\"colorbar\":{\"outlinewidth\":0,\"ticks\":\"\"}}}],\"scatterternary\":[{\"type\":\"scatterternary\",\"marker\":{\"colorbar\":{\"outlinewidth\":0,\"ticks\":\"\"}}}],\"scattercarpet\":[{\"type\":\"scattercarpet\",\"marker\":{\"colorbar\":{\"outlinewidth\":0,\"ticks\":\"\"}}}],\"carpet\":[{\"aaxis\":{\"endlinecolor\":\"#2a3f5f\",\"gridcolor\":\"white\",\"linecolor\":\"white\",\"minorgridcolor\":\"white\",\"startlinecolor\":\"#2a3f5f\"},\"baxis\":{\"endlinecolor\":\"#2a3f5f\",\"gridcolor\":\"white\",\"linecolor\":\"white\",\"minorgridcolor\":\"white\",\"startlinecolor\":\"#2a3f5f\"},\"type\":\"carpet\"}],\"table\":[{\"cells\":{\"fill\":{\"color\":\"#EBF0F8\"},\"line\":{\"color\":\"white\"}},\"header\":{\"fill\":{\"color\":\"#C8D4E3\"},\"line\":{\"color\":\"white\"}},\"type\":\"table\"}],\"barpolar\":[{\"marker\":{\"line\":{\"color\":\"#E5ECF6\",\"width\":0.5},\"pattern\":{\"fillmode\":\"overlay\",\"size\":10,\"solidity\":0.2}},\"type\":\"barpolar\"}],\"pie\":[{\"automargin\":true,\"type\":\"pie\"}]},\"layout\":{\"autotypenumbers\":\"strict\",\"colorway\":[\"#636efa\",\"#EF553B\",\"#00cc96\",\"#ab63fa\",\"#FFA15A\",\"#19d3f3\",\"#FF6692\",\"#B6E880\",\"#FF97FF\",\"#FECB52\"],\"font\":{\"color\":\"#2a3f5f\"},\"hovermode\":\"closest\",\"hoverlabel\":{\"align\":\"left\"},\"paper_bgcolor\":\"white\",\"plot_bgcolor\":\"#E5ECF6\",\"polar\":{\"bgcolor\":\"#E5ECF6\",\"angularaxis\":{\"gridcolor\":\"white\",\"linecolor\":\"white\",\"ticks\":\"\"},\"radialaxis\":{\"gridcolor\":\"white\",\"linecolor\":\"white\",\"ticks\":\"\"}},\"ternary\":{\"bgcolor\":\"#E5ECF6\",\"aaxis\":{\"gridcolor\":\"white\",\"linecolor\":\"white\",\"ticks\":\"\"},\"baxis\":{\"gridcolor\":\"white\",\"linecolor\":\"white\",\"ticks\":\"\"},\"caxis\":{\"gridcolor\":\"white\",\"linecolor\":\"white\",\"ticks\":\"\"}},\"coloraxis\":{\"colorbar\":{\"outlinewidth\":0,\"ticks\":\"\"}},\"colorscale\":{\"sequential\":[[0.0,\"#0d0887\"],[0.1111111111111111,\"#46039f\"],[0.2222222222222222,\"#7201a8\"],[0.3333333333333333,\"#9c179e\"],[0.4444444444444444,\"#bd3786\"],[0.5555555555555556,\"#d8576b\"],[0.6666666666666666,\"#ed7953\"],[0.7777777777777778,\"#fb9f3a\"],[0.8888888888888888,\"#fdca26\"],[1.0,\"#f0f921\"]],\"sequentialminus\":[[0.0,\"#0d0887\"],[0.1111111111111111,\"#46039f\"],[0.2222222222222222,\"#7201a8\"],[0.3333333333333333,\"#9c179e\"],[0.4444444444444444,\"#bd3786\"],[0.5555555555555556,\"#d8576b\"],[0.6666666666666666,\"#ed7953\"],[0.7777777777777778,\"#fb9f3a\"],[0.8888888888888888,\"#fdca26\"],[1.0,\"#f0f921\"]],\"diverging\":[[0,\"#8e0152\"],[0.1,\"#c51b7d\"],[0.2,\"#de77ae\"],[0.3,\"#f1b6da\"],[0.4,\"#fde0ef\"],[0.5,\"#f7f7f7\"],[0.6,\"#e6f5d0\"],[0.7,\"#b8e186\"],[0.8,\"#7fbc41\"],[0.9,\"#4d9221\"],[1,\"#276419\"]]},\"xaxis\":{\"gridcolor\":\"white\",\"linecolor\":\"white\",\"ticks\":\"\",\"title\":{\"standoff\":15},\"zerolinecolor\":\"white\",\"automargin\":true,\"zerolinewidth\":2},\"yaxis\":{\"gridcolor\":\"white\",\"linecolor\":\"white\",\"ticks\":\"\",\"title\":{\"standoff\":15},\"zerolinecolor\":\"white\",\"automargin\":true,\"zerolinewidth\":2},\"scene\":{\"xaxis\":{\"backgroundcolor\":\"#E5ECF6\",\"gridcolor\":\"white\",\"linecolor\":\"white\",\"showbackground\":true,\"ticks\":\"\",\"zerolinecolor\":\"white\",\"gridwidth\":2},\"yaxis\":{\"backgroundcolor\":\"#E5ECF6\",\"gridcolor\":\"white\",\"linecolor\":\"white\",\"showbackground\":true,\"ticks\":\"\",\"zerolinecolor\":\"white\",\"gridwidth\":2},\"zaxis\":{\"backgroundcolor\":\"#E5ECF6\",\"gridcolor\":\"white\",\"linecolor\":\"white\",\"showbackground\":true,\"ticks\":\"\",\"zerolinecolor\":\"white\",\"gridwidth\":2}},\"shapedefaults\":{\"line\":{\"color\":\"#2a3f5f\"}},\"annotationdefaults\":{\"arrowcolor\":\"#2a3f5f\",\"arrowhead\":0,\"arrowwidth\":1},\"geo\":{\"bgcolor\":\"white\",\"landcolor\":\"#E5ECF6\",\"subunitcolor\":\"white\",\"showland\":true,\"showlakes\":true,\"lakecolor\":\"white\"},\"title\":{\"x\":0.05},\"mapbox\":{\"style\":\"light\"}}},\"scene\":{\"domain\":{\"x\":[0.0,1.0],\"y\":[0.0,1.0]},\"xaxis\":{\"title\":{\"text\":\"Low\"}},\"yaxis\":{\"title\":{\"text\":\"High\"}},\"zaxis\":{\"title\":{\"text\":\"Volume\"}}},\"coloraxis\":{\"colorbar\":{\"title\":{\"text\":\"High\"}},\"colorscale\":[[0.0,\"#0d0887\"],[0.1111111111111111,\"#46039f\"],[0.2222222222222222,\"#7201a8\"],[0.3333333333333333,\"#9c179e\"],[0.4444444444444444,\"#bd3786\"],[0.5555555555555556,\"#d8576b\"],[0.6666666666666666,\"#ed7953\"],[0.7777777777777778,\"#fb9f3a\"],[0.8888888888888888,\"#fdca26\"],[1.0,\"#f0f921\"]]},\"legend\":{\"tracegroupgap\":0,\"itemsizing\":\"constant\"},\"title\":{\"text\":\"size--\\u003e Low    color--\\u003e High\"}},                        {\"responsive\": true}                    ).then(function(){\n",
              "                            \n",
              "var gd = document.getElementById('7a849e8a-e2e4-4fe3-874e-d8dbd30bd38a');\n",
              "var x = new MutationObserver(function (mutations, observer) {{\n",
              "        var display = window.getComputedStyle(gd).display;\n",
              "        if (!display || display === 'none') {{\n",
              "            console.log([gd, 'removed!']);\n",
              "            Plotly.purge(gd);\n",
              "            observer.disconnect();\n",
              "        }}\n",
              "}});\n",
              "\n",
              "// Listen for the removal of the full notebook cells\n",
              "var notebookContainer = gd.closest('#notebook-container');\n",
              "if (notebookContainer) {{\n",
              "    x.observe(notebookContainer, {childList: true});\n",
              "}}\n",
              "\n",
              "// Listen for the clearing of the current output cell\n",
              "var outputEl = gd.closest('.output');\n",
              "if (outputEl) {{\n",
              "    x.observe(outputEl, {childList: true});\n",
              "}}\n",
              "\n",
              "                        })                };                            </script>        </div>\n",
              "</body>\n",
              "</html>"
            ]
          },
          "metadata": {}
        }
      ]
    },
    {
      "cell_type": "code",
      "source": [
        "dataset1.head(5)"
      ],
      "metadata": {
        "id": "8nuno4K21akD",
        "colab": {
          "base_uri": "https://localhost:8080/",
          "height": 206
        },
        "outputId": "35bde7e6-f167-4e56-9680-fe3083a9945d"
      },
      "execution_count": 46,
      "outputs": [
        {
          "output_type": "execute_result",
          "data": {
            "text/plain": [
              "         Date        Open        High         Low       Close     Volume  \\\n",
              "0  31-12-2019   97.017212   98.649490   94.542473   97.078827  533536931   \n",
              "1  01-01-2020   97.078827   99.849426   96.414330   97.201797  450643882   \n",
              "2  02-01-2020   97.237602   97.740555   92.705391   92.837914  424249976   \n",
              "3  03-01-2020   93.084511  103.889168   92.114578  102.609962  697088052   \n",
              "4  04-01-2020  102.699875  110.214310  102.468651  109.667091  712444844   \n",
              "\n",
              "  Currency  Price Movement  \n",
              "0      USD               1  \n",
              "1      USD               1  \n",
              "2      USD               0  \n",
              "3      USD               1  \n",
              "4      USD               1  "
            ],
            "text/html": [
              "\n",
              "  <div id=\"df-e5b38f3c-74cc-4b8a-833b-ef49a12fadbb\" class=\"colab-df-container\">\n",
              "    <div>\n",
              "<style scoped>\n",
              "    .dataframe tbody tr th:only-of-type {\n",
              "        vertical-align: middle;\n",
              "    }\n",
              "\n",
              "    .dataframe tbody tr th {\n",
              "        vertical-align: top;\n",
              "    }\n",
              "\n",
              "    .dataframe thead th {\n",
              "        text-align: right;\n",
              "    }\n",
              "</style>\n",
              "<table border=\"1\" class=\"dataframe\">\n",
              "  <thead>\n",
              "    <tr style=\"text-align: right;\">\n",
              "      <th></th>\n",
              "      <th>Date</th>\n",
              "      <th>Open</th>\n",
              "      <th>High</th>\n",
              "      <th>Low</th>\n",
              "      <th>Close</th>\n",
              "      <th>Volume</th>\n",
              "      <th>Currency</th>\n",
              "      <th>Price Movement</th>\n",
              "    </tr>\n",
              "  </thead>\n",
              "  <tbody>\n",
              "    <tr>\n",
              "      <th>0</th>\n",
              "      <td>31-12-2019</td>\n",
              "      <td>97.017212</td>\n",
              "      <td>98.649490</td>\n",
              "      <td>94.542473</td>\n",
              "      <td>97.078827</td>\n",
              "      <td>533536931</td>\n",
              "      <td>USD</td>\n",
              "      <td>1</td>\n",
              "    </tr>\n",
              "    <tr>\n",
              "      <th>1</th>\n",
              "      <td>01-01-2020</td>\n",
              "      <td>97.078827</td>\n",
              "      <td>99.849426</td>\n",
              "      <td>96.414330</td>\n",
              "      <td>97.201797</td>\n",
              "      <td>450643882</td>\n",
              "      <td>USD</td>\n",
              "      <td>1</td>\n",
              "    </tr>\n",
              "    <tr>\n",
              "      <th>2</th>\n",
              "      <td>02-01-2020</td>\n",
              "      <td>97.237602</td>\n",
              "      <td>97.740555</td>\n",
              "      <td>92.705391</td>\n",
              "      <td>92.837914</td>\n",
              "      <td>424249976</td>\n",
              "      <td>USD</td>\n",
              "      <td>0</td>\n",
              "    </tr>\n",
              "    <tr>\n",
              "      <th>3</th>\n",
              "      <td>03-01-2020</td>\n",
              "      <td>93.084511</td>\n",
              "      <td>103.889168</td>\n",
              "      <td>92.114578</td>\n",
              "      <td>102.609962</td>\n",
              "      <td>697088052</td>\n",
              "      <td>USD</td>\n",
              "      <td>1</td>\n",
              "    </tr>\n",
              "    <tr>\n",
              "      <th>4</th>\n",
              "      <td>04-01-2020</td>\n",
              "      <td>102.699875</td>\n",
              "      <td>110.214310</td>\n",
              "      <td>102.468651</td>\n",
              "      <td>109.667091</td>\n",
              "      <td>712444844</td>\n",
              "      <td>USD</td>\n",
              "      <td>1</td>\n",
              "    </tr>\n",
              "  </tbody>\n",
              "</table>\n",
              "</div>\n",
              "    <div class=\"colab-df-buttons\">\n",
              "\n",
              "  <div class=\"colab-df-container\">\n",
              "    <button class=\"colab-df-convert\" onclick=\"convertToInteractive('df-e5b38f3c-74cc-4b8a-833b-ef49a12fadbb')\"\n",
              "            title=\"Convert this dataframe to an interactive table.\"\n",
              "            style=\"display:none;\">\n",
              "\n",
              "  <svg xmlns=\"http://www.w3.org/2000/svg\" height=\"24px\" viewBox=\"0 -960 960 960\">\n",
              "    <path d=\"M120-120v-720h720v720H120Zm60-500h600v-160H180v160Zm220 220h160v-160H400v160Zm0 220h160v-160H400v160ZM180-400h160v-160H180v160Zm440 0h160v-160H620v160ZM180-180h160v-160H180v160Zm440 0h160v-160H620v160Z\"/>\n",
              "  </svg>\n",
              "    </button>\n",
              "\n",
              "  <style>\n",
              "    .colab-df-container {\n",
              "      display:flex;\n",
              "      gap: 12px;\n",
              "    }\n",
              "\n",
              "    .colab-df-convert {\n",
              "      background-color: #E8F0FE;\n",
              "      border: none;\n",
              "      border-radius: 50%;\n",
              "      cursor: pointer;\n",
              "      display: none;\n",
              "      fill: #1967D2;\n",
              "      height: 32px;\n",
              "      padding: 0 0 0 0;\n",
              "      width: 32px;\n",
              "    }\n",
              "\n",
              "    .colab-df-convert:hover {\n",
              "      background-color: #E2EBFA;\n",
              "      box-shadow: 0px 1px 2px rgba(60, 64, 67, 0.3), 0px 1px 3px 1px rgba(60, 64, 67, 0.15);\n",
              "      fill: #174EA6;\n",
              "    }\n",
              "\n",
              "    .colab-df-buttons div {\n",
              "      margin-bottom: 4px;\n",
              "    }\n",
              "\n",
              "    [theme=dark] .colab-df-convert {\n",
              "      background-color: #3B4455;\n",
              "      fill: #D2E3FC;\n",
              "    }\n",
              "\n",
              "    [theme=dark] .colab-df-convert:hover {\n",
              "      background-color: #434B5C;\n",
              "      box-shadow: 0px 1px 3px 1px rgba(0, 0, 0, 0.15);\n",
              "      filter: drop-shadow(0px 1px 2px rgba(0, 0, 0, 0.3));\n",
              "      fill: #FFFFFF;\n",
              "    }\n",
              "  </style>\n",
              "\n",
              "    <script>\n",
              "      const buttonEl =\n",
              "        document.querySelector('#df-e5b38f3c-74cc-4b8a-833b-ef49a12fadbb button.colab-df-convert');\n",
              "      buttonEl.style.display =\n",
              "        google.colab.kernel.accessAllowed ? 'block' : 'none';\n",
              "\n",
              "      async function convertToInteractive(key) {\n",
              "        const element = document.querySelector('#df-e5b38f3c-74cc-4b8a-833b-ef49a12fadbb');\n",
              "        const dataTable =\n",
              "          await google.colab.kernel.invokeFunction('convertToInteractive',\n",
              "                                                    [key], {});\n",
              "        if (!dataTable) return;\n",
              "\n",
              "        const docLinkHtml = 'Like what you see? Visit the ' +\n",
              "          '<a target=\"_blank\" href=https://colab.research.google.com/notebooks/data_table.ipynb>data table notebook</a>'\n",
              "          + ' to learn more about interactive tables.';\n",
              "        element.innerHTML = '';\n",
              "        dataTable['output_type'] = 'display_data';\n",
              "        await google.colab.output.renderOutput(dataTable, element);\n",
              "        const docLink = document.createElement('div');\n",
              "        docLink.innerHTML = docLinkHtml;\n",
              "        element.appendChild(docLink);\n",
              "      }\n",
              "    </script>\n",
              "  </div>\n",
              "\n",
              "\n",
              "<div id=\"df-8584b8a9-6adb-440b-87fb-8f1676c1940b\">\n",
              "  <button class=\"colab-df-quickchart\" onclick=\"quickchart('df-8584b8a9-6adb-440b-87fb-8f1676c1940b')\"\n",
              "            title=\"Suggest charts\"\n",
              "            style=\"display:none;\">\n",
              "\n",
              "<svg xmlns=\"http://www.w3.org/2000/svg\" height=\"24px\"viewBox=\"0 0 24 24\"\n",
              "     width=\"24px\">\n",
              "    <g>\n",
              "        <path d=\"M19 3H5c-1.1 0-2 .9-2 2v14c0 1.1.9 2 2 2h14c1.1 0 2-.9 2-2V5c0-1.1-.9-2-2-2zM9 17H7v-7h2v7zm4 0h-2V7h2v10zm4 0h-2v-4h2v4z\"/>\n",
              "    </g>\n",
              "</svg>\n",
              "  </button>\n",
              "\n",
              "<style>\n",
              "  .colab-df-quickchart {\n",
              "      --bg-color: #E8F0FE;\n",
              "      --fill-color: #1967D2;\n",
              "      --hover-bg-color: #E2EBFA;\n",
              "      --hover-fill-color: #174EA6;\n",
              "      --disabled-fill-color: #AAA;\n",
              "      --disabled-bg-color: #DDD;\n",
              "  }\n",
              "\n",
              "  [theme=dark] .colab-df-quickchart {\n",
              "      --bg-color: #3B4455;\n",
              "      --fill-color: #D2E3FC;\n",
              "      --hover-bg-color: #434B5C;\n",
              "      --hover-fill-color: #FFFFFF;\n",
              "      --disabled-bg-color: #3B4455;\n",
              "      --disabled-fill-color: #666;\n",
              "  }\n",
              "\n",
              "  .colab-df-quickchart {\n",
              "    background-color: var(--bg-color);\n",
              "    border: none;\n",
              "    border-radius: 50%;\n",
              "    cursor: pointer;\n",
              "    display: none;\n",
              "    fill: var(--fill-color);\n",
              "    height: 32px;\n",
              "    padding: 0;\n",
              "    width: 32px;\n",
              "  }\n",
              "\n",
              "  .colab-df-quickchart:hover {\n",
              "    background-color: var(--hover-bg-color);\n",
              "    box-shadow: 0 1px 2px rgba(60, 64, 67, 0.3), 0 1px 3px 1px rgba(60, 64, 67, 0.15);\n",
              "    fill: var(--button-hover-fill-color);\n",
              "  }\n",
              "\n",
              "  .colab-df-quickchart-complete:disabled,\n",
              "  .colab-df-quickchart-complete:disabled:hover {\n",
              "    background-color: var(--disabled-bg-color);\n",
              "    fill: var(--disabled-fill-color);\n",
              "    box-shadow: none;\n",
              "  }\n",
              "\n",
              "  .colab-df-spinner {\n",
              "    border: 2px solid var(--fill-color);\n",
              "    border-color: transparent;\n",
              "    border-bottom-color: var(--fill-color);\n",
              "    animation:\n",
              "      spin 1s steps(1) infinite;\n",
              "  }\n",
              "\n",
              "  @keyframes spin {\n",
              "    0% {\n",
              "      border-color: transparent;\n",
              "      border-bottom-color: var(--fill-color);\n",
              "      border-left-color: var(--fill-color);\n",
              "    }\n",
              "    20% {\n",
              "      border-color: transparent;\n",
              "      border-left-color: var(--fill-color);\n",
              "      border-top-color: var(--fill-color);\n",
              "    }\n",
              "    30% {\n",
              "      border-color: transparent;\n",
              "      border-left-color: var(--fill-color);\n",
              "      border-top-color: var(--fill-color);\n",
              "      border-right-color: var(--fill-color);\n",
              "    }\n",
              "    40% {\n",
              "      border-color: transparent;\n",
              "      border-right-color: var(--fill-color);\n",
              "      border-top-color: var(--fill-color);\n",
              "    }\n",
              "    60% {\n",
              "      border-color: transparent;\n",
              "      border-right-color: var(--fill-color);\n",
              "    }\n",
              "    80% {\n",
              "      border-color: transparent;\n",
              "      border-right-color: var(--fill-color);\n",
              "      border-bottom-color: var(--fill-color);\n",
              "    }\n",
              "    90% {\n",
              "      border-color: transparent;\n",
              "      border-bottom-color: var(--fill-color);\n",
              "    }\n",
              "  }\n",
              "</style>\n",
              "\n",
              "  <script>\n",
              "    async function quickchart(key) {\n",
              "      const quickchartButtonEl =\n",
              "        document.querySelector('#' + key + ' button');\n",
              "      quickchartButtonEl.disabled = true;  // To prevent multiple clicks.\n",
              "      quickchartButtonEl.classList.add('colab-df-spinner');\n",
              "      try {\n",
              "        const charts = await google.colab.kernel.invokeFunction(\n",
              "            'suggestCharts', [key], {});\n",
              "      } catch (error) {\n",
              "        console.error('Error during call to suggestCharts:', error);\n",
              "      }\n",
              "      quickchartButtonEl.classList.remove('colab-df-spinner');\n",
              "      quickchartButtonEl.classList.add('colab-df-quickchart-complete');\n",
              "    }\n",
              "    (() => {\n",
              "      let quickchartButtonEl =\n",
              "        document.querySelector('#df-8584b8a9-6adb-440b-87fb-8f1676c1940b button');\n",
              "      quickchartButtonEl.style.display =\n",
              "        google.colab.kernel.accessAllowed ? 'block' : 'none';\n",
              "    })();\n",
              "  </script>\n",
              "</div>\n",
              "\n",
              "    </div>\n",
              "  </div>\n"
            ],
            "application/vnd.google.colaboratory.intrinsic+json": {
              "type": "dataframe",
              "variable_name": "dataset1",
              "summary": "{\n  \"name\": \"dataset1\",\n  \"rows\": 680,\n  \"fields\": [\n    {\n      \"column\": \"Date\",\n      \"properties\": {\n        \"dtype\": \"object\",\n        \"num_unique_values\": 680,\n        \"samples\": [\n          \"29-10-2021\",\n          \"19-09-2021\",\n          \"03-03-2020\"\n        ],\n        \"semantic_type\": \"\",\n        \"description\": \"\"\n      }\n    },\n    {\n      \"column\": \"Open\",\n      \"properties\": {\n        \"dtype\": \"number\",\n        \"std\": 53.887910544317194,\n        \"min\": 93.0845108,\n        \"max\": 441.3268127,\n        \"num_unique_values\": 680,\n        \"samples\": [\n          162.609375,\n          157.1651154,\n          251.6865082\n        ],\n        \"semantic_type\": \"\",\n        \"description\": \"\"\n      }\n    },\n    {\n      \"column\": \"High\",\n      \"properties\": {\n        \"dtype\": \"number\",\n        \"std\": 59.525744703108074,\n        \"min\": 97.74055481,\n        \"max\": 491.635376,\n        \"num_unique_values\": 680,\n        \"samples\": [\n          166.6912842,\n          175.3679504,\n          253.9811859\n        ],\n        \"semantic_type\": \"\",\n        \"description\": \"\"\n      }\n    },\n    {\n      \"column\": \"Low\",\n      \"properties\": {\n        \"dtype\": \"number\",\n        \"std\": 47.90349621506169,\n        \"min\": 88.07146454,\n        \"max\": 387.7619934,\n        \"num_unique_values\": 680,\n        \"samples\": [\n          160.7927399,\n          155.0812378,\n          242.1954346\n        ],\n        \"semantic_type\": \"\",\n        \"description\": \"\"\n      }\n    },\n    {\n      \"column\": \"Close\",\n      \"properties\": {\n        \"dtype\": \"number\",\n        \"std\": 53.75902456123605,\n        \"min\": 92.83791351,\n        \"max\": 441.3943481,\n        \"num_unique_values\": 680,\n        \"samples\": [\n          165.8844757,\n          162.2528687,\n          246.4846649\n        ],\n        \"semantic_type\": \"\",\n        \"description\": \"\"\n      }\n    },\n    {\n      \"column\": \"Volume\",\n      \"properties\": {\n        \"dtype\": \"number\",\n        \"std\": 939591774,\n        \"min\": 124438573,\n        \"max\": 7460265156,\n        \"num_unique_values\": 680,\n        \"samples\": [\n          238743832,\n          253197150,\n          2741753419\n        ],\n        \"semantic_type\": \"\",\n        \"description\": \"\"\n      }\n    },\n    {\n      \"column\": \"Currency\",\n      \"properties\": {\n        \"dtype\": \"category\",\n        \"num_unique_values\": 1,\n        \"samples\": [\n          \"USD\"\n        ],\n        \"semantic_type\": \"\",\n        \"description\": \"\"\n      }\n    },\n    {\n      \"column\": \"Price Movement\",\n      \"properties\": {\n        \"dtype\": \"number\",\n        \"std\": 0,\n        \"min\": 0,\n        \"max\": 1,\n        \"num_unique_values\": 2,\n        \"samples\": [\n          0\n        ],\n        \"semantic_type\": \"\",\n        \"description\": \"\"\n      }\n    }\n  ]\n}"
            }
          },
          "metadata": {},
          "execution_count": 46
        }
      ]
    },
    {
      "cell_type": "code",
      "source": [
        "import seaborn as sns"
      ],
      "metadata": {
        "id": "JyYZrMgA5C4E"
      },
      "execution_count": 47,
      "outputs": []
    },
    {
      "cell_type": "code",
      "source": [
        "sns.set_context(\"talk\",font_scale=1.3)\n",
        "with sns.axes_style(\"darkgrid\"):\n",
        "  fig,ax=plt.subplots(figsize=(16,8))\n",
        "  sns.lineplot(x=dataset1.Date,y=dataset1.Close,color='purple')\n",
        "  ax.set_title('Daily Closing Price')\n",
        "  ax.set_xlabel('Date: From Jan. 1, 2019 to Dec. 31, 2021')\n"
      ],
      "metadata": {
        "id": "HGljX9qz7G72",
        "colab": {
          "base_uri": "https://localhost:8080/",
          "height": 768
        },
        "outputId": "b6387da8-dc6a-4130-d967-dcf7241db2ae"
      },
      "execution_count": 48,
      "outputs": [
        {
          "output_type": "display_data",
          "data": {
            "text/plain": [
              "<Figure size 1600x800 with 1 Axes>"
            ],
            "image/png": "[encoded data removed]"
          },
          "metadata": {}
        }
      ]
    },
    {
      "cell_type": "code",
      "source": [
        "import plotly.express as px\n",
        "\n",
        "# Create the interactive plot\n",
        "fig = px.line(dataset1, x='Date', y='Close', title='Daily Closing Price',\n",
        "              labels={'Date': 'Date', 'Close': 'Closing Price'},\n",
        "              template='plotly_dark',  # Optional: use a dark theme for the plot\n",
        "              markers=True)\n",
        "\n",
        "# Show the plot\n",
        "fig.show()\n"
      ],
      "metadata": {
        "colab": {
          "base_uri": "https://localhost:8080/",
          "height": 542
        },
        "id": "3euK5Gkgkz46",
        "outputId": "6f7e6bde-5c49-40ce-c8fb-2f1d28691dca"
      },
      "execution_count": 49,
      "outputs": [
        {
          "output_type": "display_data",
          "data": {
            "text/html": [
              "<html>\n",
              "<head><meta charset=\"utf-8\" /></head>\n",
              "<body>\n",
              "    <div>            <script src=\"https://cdnjs.cloudflare.com/ajax/libs/mathjax/2.7.5/MathJax.js?config=TeX-AMS-MML_SVG\"></script><script type=\"text/javascript\">if (window.MathJax && window.MathJax.Hub && window.MathJax.Hub.Config) {window.MathJax.Hub.Config({SVG: {font: \"STIX-Web\"}});}</script>                <script type=\"text/javascript\">window.PlotlyConfig = {MathJaxConfig: 'local'};</script>\n",
              "        <script charset=\"utf-8\" src=\"https://cdn.plot.ly/plotly-2.24.1.min.js\"></script>                <div id=\"4f7a03db-9fa8-48f8-aecb-61da76ac4c91\" class=\"plotly-graph-div\" style=\"height:525px; width:100%;\"></div>            <script type=\"text/javascript\">                                    window.PLOTLYENV=window.PLOTLYENV || {};                                    if (document.getElementById(\"4f7a03db-9fa8-48f8-aecb-61da76ac4c91\")) {                    Plotly.newPlot(                        \"4f7a03db-9fa8-48f8-aecb-61da76ac4c91\",                        [{\"hovertemplate\":\"Date=%{x}\\u003cbr\\u003eClosing Price=%{y}\\u003cextra\\u003e\\u003c\\u002fextra\\u003e\",\"legendgroup\":\"\",\"line\":{\"color\":\"#636efa\",\"dash\":\"solid\"},\"marker\":{\"symbol\":\"circle\"},\"mode\":\"markers+lines\",\"name\":\"\",\"orientation\":\"v\",\"showlegend\":false,\"x\":[\"31-12-2019\",\"01-01-2020\",\"02-01-2020\",\"03-01-2020\",\"04-01-2020\",\"05-01-2020\",\"06-01-2020\",\"07-01-2020\",\"08-01-2020\",\"09-01-2020\",\"10-01-2020\",\"11-01-2020\",\"12-01-2020\",\"13-01-2020\",\"14-01-2020\",\"15-01-2020\",\"16-01-2020\",\"17-01-2020\",\"18-01-2020\",\"19-01-2020\",\"20-01-2020\",\"21-01-2020\",\"22-01-2020\",\"23-01-2020\",\"24-01-2020\",\"25-01-2020\",\"26-01-2020\",\"27-01-2020\",\"28-01-2020\",\"29-01-2020\",\"30-01-2020\",\"31-01-2020\",\"01-02-2020\",\"02-02-2020\",\"03-02-2020\",\"04-02-2020\",\"05-02-2020\",\"06-02-2020\",\"07-02-2020\",\"08-02-2020\",\"09-02-2020\",\"10-02-2020\",\"11-02-2020\",\"12-02-2020\",\"13-02-2020\",\"14-02-2020\",\"15-02-2020\",\"16-02-2020\",\"17-02-2020\",\"18-02-2020\",\"19-02-2020\",\"20-02-2020\",\"21-02-2020\",\"22-02-2020\",\"23-02-2020\",\"24-02-2020\",\"25-02-2020\",\"26-02-2020\",\"27-02-2020\",\"28-02-2020\",\"29-02-2020\",\"01-03-2020\",\"02-03-2020\",\"03-03-2020\",\"04-03-2020\",\"05-03-2020\",\"06-03-2020\",\"07-03-2020\",\"08-03-2020\",\"09-03-2020\",\"10-03-2020\",\"11-03-2020\",\"12-03-2020\",\"13-03-2020\",\"14-03-2020\",\"15-03-2020\",\"16-03-2020\",\"17-03-2020\",\"18-03-2020\",\"19-03-2020\",\"20-03-2020\",\"21-03-2020\",\"22-03-2020\",\"23-03-2020\",\"24-03-2020\",\"25-03-2020\",\"26-03-2020\",\"27-03-2020\",\"28-03-2020\",\"29-03-2020\",\"30-03-2020\",\"31-03-2020\",\"01-04-2020\",\"02-04-2020\",\"03-04-2020\",\"04-04-2020\",\"05-04-2020\",\"06-04-2020\",\"07-04-2020\",\"08-04-2020\",\"09-04-2020\",\"10-04-2020\",\"11-04-2020\",\"12-04-2020\",\"13-04-2020\",\"14-04-2020\",\"15-04-2020\",\"16-04-2020\",\"18-04-2020\",\"19-04-2020\",\"20-04-2020\",\"21-04-2020\",\"22-04-2020\",\"23-04-2020\",\"24-04-2020\",\"25-04-2020\",\"26-04-2020\",\"27-04-2020\",\"28-04-2020\",\"29-04-2020\",\"30-04-2020\",\"01-05-2020\",\"02-05-2020\",\"03-05-2020\",\"04-05-2020\",\"05-05-2020\",\"06-05-2020\",\"07-05-2020\",\"08-05-2020\",\"09-05-2020\",\"10-05-2020\",\"11-05-2020\",\"12-05-2020\",\"13-05-2020\",\"14-05-2020\",\"15-05-2020\",\"16-05-2020\",\"17-05-2020\",\"18-05-2020\",\"19-05-2020\",\"20-05-2020\",\"21-05-2020\",\"22-05-2020\",\"23-05-2020\",\"24-05-2020\",\"25-05-2020\",\"26-05-2020\",\"27-05-2020\",\"28-05-2020\",\"29-05-2020\",\"30-05-2020\",\"31-05-2020\",\"01-06-2020\",\"02-06-2020\",\"03-06-2020\",\"04-06-2020\",\"05-06-2020\",\"06-06-2020\",\"07-06-2020\",\"08-06-2020\",\"09-06-2020\",\"10-06-2020\",\"11-06-2020\",\"12-06-2020\",\"13-06-2020\",\"14-06-2020\",\"15-06-2020\",\"16-06-2020\",\"17-06-2020\",\"18-06-2020\",\"19-06-2020\",\"20-06-2020\",\"21-06-2020\",\"22-06-2020\",\"23-06-2020\",\"24-06-2020\",\"25-06-2020\",\"26-06-2020\",\"27-06-2020\",\"28-06-2020\",\"29-06-2020\",\"30-06-2020\",\"01-07-2020\",\"02-07-2020\",\"03-07-2020\",\"04-07-2020\",\"05-07-2020\",\"06-07-2020\",\"07-07-2020\",\"08-07-2020\",\"09-07-2020\",\"10-07-2020\",\"11-07-2020\",\"12-07-2020\",\"13-07-2020\",\"14-07-2020\",\"15-07-2020\",\"16-07-2020\",\"17-07-2020\",\"18-07-2020\",\"19-07-2020\",\"20-07-2020\",\"21-07-2020\",\"22-07-2020\",\"23-07-2020\",\"24-07-2020\",\"25-07-2020\",\"26-07-2020\",\"27-07-2020\",\"28-07-2020\",\"29-07-2020\",\"30-07-2020\",\"31-07-2020\",\"01-08-2020\",\"02-08-2020\",\"03-08-2020\",\"04-08-2020\",\"05-08-2020\",\"06-08-2020\",\"07-08-2020\",\"08-08-2020\",\"09-08-2020\",\"10-08-2020\",\"11-08-2020\",\"12-08-2020\",\"16-08-2020\",\"17-08-2020\",\"18-08-2020\",\"19-08-2020\",\"20-08-2020\",\"21-08-2020\",\"22-08-2020\",\"23-08-2020\",\"24-08-2020\",\"25-08-2020\",\"26-08-2020\",\"27-08-2020\",\"28-08-2020\",\"29-08-2020\",\"30-08-2020\",\"31-08-2020\",\"01-09-2020\",\"02-09-2020\",\"03-09-2020\",\"04-09-2020\",\"05-09-2020\",\"06-09-2020\",\"07-09-2020\",\"08-09-2020\",\"09-09-2020\",\"10-09-2020\",\"22-09-2020\",\"23-09-2020\",\"24-09-2020\",\"25-09-2020\",\"26-09-2020\",\"27-09-2020\",\"28-09-2020\",\"29-09-2020\",\"30-09-2020\",\"01-10-2020\",\"05-10-2020\",\"06-10-2020\",\"07-10-2020\",\"08-10-2020\",\"10-10-2020\",\"11-10-2020\",\"14-10-2020\",\"15-10-2020\",\"16-10-2020\",\"17-10-2020\",\"18-10-2020\",\"19-10-2020\",\"20-10-2020\",\"21-10-2020\",\"22-10-2020\",\"23-10-2020\",\"24-10-2020\",\"25-10-2020\",\"26-10-2020\",\"27-10-2020\",\"28-10-2020\",\"29-10-2020\",\"30-10-2020\",\"31-10-2020\",\"01-11-2020\",\"02-11-2020\",\"03-11-2020\",\"04-11-2020\",\"05-11-2020\",\"06-11-2020\",\"07-11-2020\",\"08-11-2020\",\"09-11-2020\",\"10-11-2020\",\"11-11-2020\",\"12-11-2020\",\"13-11-2020\",\"14-11-2020\",\"15-11-2020\",\"16-11-2020\",\"17-11-2020\",\"18-11-2020\",\"19-11-2020\",\"20-11-2020\",\"21-11-2020\",\"22-11-2020\",\"23-11-2020\",\"24-11-2020\",\"25-11-2020\",\"26-11-2020\",\"27-11-2020\",\"28-11-2020\",\"29-11-2020\",\"30-11-2020\",\"01-12-2020\",\"02-12-2020\",\"03-12-2020\",\"04-12-2020\",\"05-12-2020\",\"06-12-2020\",\"07-12-2020\",\"08-12-2020\",\"09-12-2020\",\"10-12-2020\",\"11-12-2020\",\"12-12-2020\",\"13-12-2020\",\"14-12-2020\",\"15-12-2020\",\"16-12-2020\",\"17-12-2020\",\"18-12-2020\",\"19-12-2020\",\"20-12-2020\",\"21-12-2020\",\"22-12-2020\",\"23-12-2020\",\"24-12-2020\",\"25-12-2020\",\"26-12-2020\",\"27-12-2020\",\"28-12-2020\",\"29-12-2020\",\"30-12-2020\",\"31-12-2020\",\"01-01-2021\",\"02-01-2021\",\"03-01-2021\",\"04-01-2021\",\"05-01-2021\",\"06-01-2021\",\"07-01-2021\",\"08-01-2021\",\"09-01-2021\",\"10-01-2021\",\"11-01-2021\",\"12-01-2021\",\"13-01-2021\",\"14-01-2021\",\"15-01-2021\",\"16-01-2021\",\"17-01-2021\",\"18-01-2021\",\"19-01-2021\",\"20-01-2021\",\"21-01-2021\",\"22-01-2021\",\"23-01-2021\",\"24-01-2021\",\"25-01-2021\",\"26-01-2021\",\"27-01-2021\",\"28-01-2021\",\"29-01-2021\",\"30-01-2021\",\"31-01-2021\",\"01-02-2021\",\"02-02-2021\",\"03-02-2021\",\"04-02-2021\",\"05-02-2021\",\"06-02-2021\",\"07-02-2021\",\"08-02-2021\",\"09-02-2021\",\"10-02-2021\",\"11-02-2021\",\"12-02-2021\",\"13-02-2021\",\"14-02-2021\",\"15-02-2021\",\"16-02-2021\",\"17-02-2021\",\"18-02-2021\",\"19-02-2021\",\"20-02-2021\",\"21-02-2021\",\"22-02-2021\",\"23-02-2021\",\"24-02-2021\",\"25-02-2021\",\"26-02-2021\",\"27-02-2021\",\"28-02-2021\",\"01-03-2021\",\"02-03-2021\",\"03-03-2021\",\"04-03-2021\",\"05-03-2021\",\"06-03-2021\",\"07-03-2021\",\"08-03-2021\",\"09-03-2021\",\"10-03-2021\",\"11-03-2021\",\"12-03-2021\",\"13-03-2021\",\"14-03-2021\",\"15-03-2021\",\"16-03-2021\",\"17-03-2021\",\"18-03-2021\",\"19-03-2021\",\"20-03-2021\",\"21-03-2021\",\"22-03-2021\",\"23-03-2021\",\"24-03-2021\",\"25-03-2021\",\"26-03-2021\",\"27-03-2021\",\"28-03-2021\",\"29-03-2021\",\"30-03-2021\",\"31-03-2021\",\"01-04-2021\",\"02-04-2021\",\"03-04-2021\",\"04-04-2021\",\"05-04-2021\",\"06-04-2021\",\"07-04-2021\",\"08-04-2021\",\"09-04-2021\",\"10-04-2021\",\"11-04-2021\",\"12-04-2021\",\"13-04-2021\",\"14-04-2021\",\"15-04-2021\",\"16-04-2021\",\"17-04-2021\",\"18-04-2021\",\"19-04-2021\",\"20-04-2021\",\"21-04-2021\",\"22-04-2021\",\"23-04-2021\",\"24-04-2021\",\"25-04-2021\",\"26-04-2021\",\"27-04-2021\",\"28-04-2021\",\"29-04-2021\",\"30-04-2021\",\"01-05-2021\",\"02-05-2021\",\"03-05-2021\",\"04-05-2021\",\"05-05-2021\",\"06-05-2021\",\"07-05-2021\",\"08-05-2021\",\"09-05-2021\",\"10-05-2021\",\"11-05-2021\",\"12-05-2021\",\"13-05-2021\",\"14-05-2021\",\"15-05-2021\",\"16-05-2021\",\"17-05-2021\",\"18-05-2021\",\"19-05-2021\",\"20-05-2021\",\"21-05-2021\",\"22-05-2021\",\"23-05-2021\",\"24-05-2021\",\"25-05-2021\",\"26-05-2021\",\"27-05-2021\",\"28-05-2021\",\"29-05-2021\",\"30-05-2021\",\"31-05-2021\",\"01-06-2021\",\"02-06-2021\",\"03-06-2021\",\"04-06-2021\",\"05-06-2021\",\"06-06-2021\",\"07-06-2021\",\"08-06-2021\",\"09-06-2021\",\"10-06-2021\",\"11-06-2021\",\"12-06-2021\",\"13-06-2021\",\"14-06-2021\",\"15-06-2021\",\"16-06-2021\",\"17-06-2021\",\"18-06-2021\",\"19-06-2021\",\"20-06-2021\",\"21-06-2021\",\"22-06-2021\",\"23-06-2021\",\"24-06-2021\",\"25-06-2021\",\"26-06-2021\",\"27-06-2021\",\"28-06-2021\",\"29-06-2021\",\"30-06-2021\",\"01-07-2021\",\"02-07-2021\",\"03-07-2021\",\"04-07-2021\",\"05-07-2021\",\"06-07-2021\",\"07-07-2021\",\"08-07-2021\",\"09-07-2021\",\"10-07-2021\",\"11-07-2021\",\"12-07-2021\",\"13-07-2021\",\"14-07-2021\",\"15-07-2021\",\"16-07-2021\",\"17-07-2021\",\"18-07-2021\",\"19-07-2021\",\"20-07-2021\",\"21-07-2021\",\"22-07-2021\",\"23-07-2021\",\"24-07-2021\",\"25-07-2021\",\"26-07-2021\",\"27-07-2021\",\"28-07-2021\",\"29-07-2021\",\"30-07-2021\",\"31-07-2021\",\"01-08-2021\",\"02-08-2021\",\"03-08-2021\",\"04-08-2021\",\"05-08-2021\",\"06-08-2021\",\"07-08-2021\",\"08-08-2021\",\"09-08-2021\",\"10-08-2021\",\"11-08-2021\",\"12-08-2021\",\"13-08-2021\",\"14-08-2021\",\"15-08-2021\",\"16-08-2021\",\"17-08-2021\",\"18-08-2021\",\"19-08-2021\",\"20-08-2021\",\"21-08-2021\",\"22-08-2021\",\"23-08-2021\",\"24-08-2021\",\"25-08-2021\",\"26-08-2021\",\"27-08-2021\",\"28-08-2021\",\"29-08-2021\",\"30-08-2021\",\"31-08-2021\",\"01-09-2021\",\"02-09-2021\",\"03-09-2021\",\"04-09-2021\",\"05-09-2021\",\"06-09-2021\",\"07-09-2021\",\"08-09-2021\",\"09-09-2021\",\"10-09-2021\",\"11-09-2021\",\"12-09-2021\",\"13-09-2021\",\"14-09-2021\",\"15-09-2021\",\"16-09-2021\",\"17-09-2021\",\"18-09-2021\",\"19-09-2021\",\"20-09-2021\",\"21-09-2021\",\"22-09-2021\",\"23-09-2021\",\"24-09-2021\",\"25-09-2021\",\"26-09-2021\",\"27-09-2021\",\"28-09-2021\",\"29-09-2021\",\"30-09-2021\",\"01-10-2021\",\"02-10-2021\",\"03-10-2021\",\"04-10-2021\",\"05-10-2021\",\"06-10-2021\",\"07-10-2021\",\"08-10-2021\",\"09-10-2021\",\"10-10-2021\",\"11-10-2021\",\"12-10-2021\",\"13-10-2021\",\"14-10-2021\",\"15-10-2021\",\"16-10-2021\",\"17-10-2021\",\"18-10-2021\",\"19-10-2021\",\"20-10-2021\",\"21-10-2021\",\"22-10-2021\",\"23-10-2021\",\"24-10-2021\",\"25-10-2021\",\"26-10-2021\",\"27-10-2021\",\"28-10-2021\",\"29-10-2021\",\"30-10-2021\",\"31-10-2021\",\"01-11-2021\",\"02-11-2021\",\"03-11-2021\",\"04-11-2021\",\"05-11-2021\",\"06-11-2021\",\"07-11-2021\",\"08-11-2021\",\"09-11-2021\",\"10-11-2021\",\"11-11-2021\",\"12-11-2021\",\"13-11-2021\",\"14-11-2021\",\"15-11-2021\",\"16-11-2021\",\"17-11-2021\",\"18-11-2021\",\"19-11-2021\",\"20-11-2021\",\"21-11-2021\",\"22-11-2021\",\"23-11-2021\",\"24-11-2021\",\"25-11-2021\",\"26-11-2021\",\"27-11-2021\",\"28-11-2021\",\"29-11-2021\",\"30-11-2021\"],\"xaxis\":\"x\",\"y\":[97.0788269,97.20179749,92.83791351,102.6099625,109.6670914,110.8650894,117.8140411,114.0628128,114.1733704,117.7422943,171.1642303,150.7318726,165.0128021,174.3273621,422.7356873,312.7556458,312.8806763,286.4017944,249.1907196,276.9186401,301.6965942,314.52771,308.9052734,259.1357727,266.975769,261.8514404,274.1991882,300.3503113,294.7631226,287.9704285,298.8234253,272.3962097,278.6494446,276.7426147,280.7286072,272.0567322,298.8831787,295.6504211,295.7012024,336.2476501,350.0896301,352.3561401,363.3983154,366.7179565,359.0411377,360.3900146,310.0778198,285.8675232,309.4416199,309.1070557,288.7273865,285.4997253,289.4433899,280.4067993,294.3893738,277.3788147,259.7648621,225.0285492,226.5533905,215.9731445,212.2919922,228.5179138,251.4146881,246.4846649,231.2154236,240.6180267,245.0747528,234.2283173,197.9492645,199.1755524,198.830719,190.5147095,108.7858276,120.8989563,116.3063431,122.9458923,109.5854187,117.005394,119.3464203,156.3201599,160.3318481,167.6957397,157.7841034,168.5083923,177.955246,172.9514618,172.529541,166.7953186,157.0191193,148.3920898,166.4355316,165.4046021,168.0016937,175.1549988,178.6085358,179.2720947,174.8638916,190.9978485,184.8280029,217.0862274,214.7508087,186.516037,186.0516663,192.9704285,188.002655,188.5596924,182.1569977,194.6972656,203.5212402,195.7714844,185.1521912,184.0163269,192.2945404,193.8011322,194.6625366,195.0278931,195.746582,194.0160675,195.5884094,208.3136749,208.3015442,213.3973389,213.4441376,208.6157379,205.4835663,207.2216949,204.9256134,209.9542847,210.5623322,211.0302734,185.8956604,188.141449,186.5256805,190.3309937,193.1481323,187.6752625,188.5439606,191.7267151,203.4309692,200.7756805,197.0551605,193.4507141,194.9689636,193.9564972,184.9357147,184.1260834,180.85849,188.8737335,192.4654541,190.4772339,201.839325,193.1362152,202.7431946,195.6710663,195.9363708,197.6174469,196.7970428,194.3320618,194.0688934,191.9321136,191.1279449,194.1554565,181.6456909,183.0933533,182.8895264,180.0165405,175.6608887,176.1617584,177.8353271,175.2655029,173.0085449,173.3498077,172.4931183,175.7101898,180.5415344,172.923172,172.3644104,169.246048,162.1251526,159.3730927,160.10495,158.1504517,157.0987549,155.8943329,155.2351685,155.1634674,153.7530975,191.8586121,184.3700562,188.9830017,185.6792908,182.6650848,182.8393097,185.911911,182.1134033,181.6050262,179.6746216,173.0960846,172.0478973,172.7783661,171.9950562,169.3598938,177.3800201,181.7081604,184.2590942,181.6177368,190.2700806,190.035675,207.326828,214.1475372,213.3995361,215.3556671,229.8368988,243.3483582,217.8161621,228.1217957,224.6687469,234.1678925,236.6023254,228.9796906,232.7456818,224.0450592,225.9984741,210.7623138,209.2909546,222.8317108,224.2457886,217.2959747,206.5181122,208.9487762,197.4655151,196.6582794,194.8611145,203.8320313,192.0808258,191.4156342,185.9521484,191.7799377,190.4440002,196.5013733,192.8454437,203.6662445,183.57164,152.3483276,160.562439,162.099823,163.5022125,174.1546021,170.5654755,169.5764313,166.7016754,155.7811737,150.5228577,156.8352509,155.9112701,163.7820129,170.0136719,168.8414917,172.3110962,171.7402344,170.3194733,163.3002014,159.4788208,163.3621368,165.5146484,171.118103,172.0307312,168.686615,169.4484863,160.6729889,159.3944244,160.3728485,159.9801636,157.5920868,164.8001251,168.7792358,166.2621918,175.4957123,180.9338837,173.8072205,174.8909302,169.8619843,166.7854767,163.5138397,164.8695374,164.6368408,158.671875,153.783493,152.160141,159.7518768,167.639801,162.2105103,166.8770294,160.1226501,157.1943817,159.1252441,158.1655884,161.146225,157.7352142,154.4309235,158.0951385,166.8501129,162.152771,161.5948639,165.999115,193.6735687,177.8670654,196.9010925,208.9147339,191.8394318,165.4684906,161.8022003,166.7303925,168.1978607,182.5581665,169.3662567,171.0374603,170.828949,177.5480804,181.9665985,178.5522919,179.6957397,173.3684082,170.3222809,166.4097443,161.6541595,165.0947571,168.5953522,166.6370087,169.1819916,179.6242828,179.0669098,178.4369965,176.9165955,182.7912598,171.6512909,171.5317841,153.5986481,162.1759949,165.3999176,164.1349792,167.302536,168.4898529,164.3967133,166.9030914,163.6320343,163.1158142,163.089386,171.3906708,167.5882263,168.6279755,179.8541565,176.2432861,180.4629669,284.5098267,253.7050323,191.3695679,188.7396088,212.4384918,220.6280823,208.8546753,207.1144714,199.0988007,206.4282684,204.7174377,200.8761902,178.3593597,178.3889771,174.7152557,174.9513245,181.7709351,174.155014,162.0761719,164.602478,173.0165405,178.8504639,173.8604584,178.7179871,180.6801453,182.9874878,176.5700531,187.2492981,184.2870941,183.0600739,194.0106506,225.9514465,212.1047974,224.9983826,235.6829376,263.8977966,262.3990173,238.6379852,236.8460846,244.3745728,240.535965,243.5151672,228.5558929,242.5944824,216.3104248,188.5276184,194.9781036,183.2663269,180.4144287,184.6903687,177.4486847,185.8673248,185.4491577,189.1630402,181.8293915,181.0757141,181.1564484,185.4199066,185.8994446,189.9885101,188.3600311,187.1142273,185.7099304,218.3470459,200.4866486,191.5210419,194.7800598,195.2086029,204.2323761,213.6368866,205.5637054,202.2408905,204.5809937,215.241745,194.7328796,193.8417664,203.2727203,200.3723907,199.3722839,207.7908783,209.0461426,217.0887604,229.6256409,247.1775818,220.2610168,230.2778473,248.0809174,264.5970459,239.587265,249.2703857,259.1430664,272.7145081,276.9602356,261.0388489,297.7601929,328.5248108,364.6114807,441.3943481,378.986084,332.8471069,294.8777466,303.0984192,296.6661072,282.5078735,250.6531982,235.5678101,238.627655,264.7661438,288.3218079,289.5839233,282.1896362,323.6707458,332.675293,332.2598877,369.9068604,327.2222595,423.4077148,418.8973083,379.8088379,366.0493164,359.3440857,340.6425476,392.3598633,299.5545654,315.5066528,336.4975586,311.9907837,315.0993958,286.1441956,287.15448,176.6281586,200.0580292,174.6168213,169.1510925,150.8253632,178.1375885,174.7871857,182.1764984,183.1481628,168.2102814,164.292511,166.5590363,174.9384308,175.7692719,182.5816345,188.8372955,173.9971771,177.9733582,178.7094574,166.2698975,162.6404266,173.0297089,165.2566833,164.1895294,162.0935669,171.0860901,173.3247833,173.4458618,164.1366272,163.3863678,157.3546906,155.6405182,153.2408905,124.6355362,119.078949,128.9900818,131.7730103,122.8891602,124.722496,130.9338989,153.3381653,152.3848724,146.9085236,146.2381287,145.1374207,146.4172974,149.3193512,141.6135254,140.8005066,140.3925629,140.2183838,139.3431854,138.9683075,138.2875671,138.3806763,137.0959473,133.1433868,127.9480133,123.4934692,123.3614578,123.4718781,118.6777573,114.1850815,122.2144623,124.3606491,126.1451797,127.7837143,128.2324371,130.6389465,133.5058441,134.2086945,138.7794952,141.6167908,141.7531281,142.4174042,145.9774933,138.5284424,139.6653137,140.4652863,145.2454529,155.1973419,144.8588409,157.7111664,153.0340881,158.9902802,153.9339142,165.8663483,165.6859741,172.3546906,166.8246155,158.1241913,156.0757751,159.7541962,171.6987915,167.9105377,165.886734,168.2239227,160.3913116,164.6107635,155.3291931,161.5417938,177.1996765,195.9171448,173.0208588,169.1644745,171.7679749,168.3143005,176.6156616,198.7162476,196.2144318,194.7419739,158.6387939,155.8577423,156.4656372,156.5926819,155.4788208,156.7489319,157.4129486,160.2131195,157.3181915,156.2901154,159.0575867,157.1176605,162.2528687,135.100296,138.1844025,146.9563141,146.664444,134.4101563,134.7538757,129.5789185,127.6989212,124.6066132,126.8760757,129.4089966,139.6716919,139.3317566,145.0488434,144.7346497,154.9594116,152.2515106,184.3339233,176.5225067,179.8988342,173.8834229,179.0371399,169.7019653,171.9494934,172.3947906,173.1269684,171.7786713,169.1285095,168.2514648,170.4859467,176.1342926,170.798645,170.9129028,172.5839386,172.5368347,172.3366699,171.835434,154.3390045,162.5881042,165.8844757,161.9985962,165.5103607,164.605957,169.3746796,169.8624725,172.0471497,174.3717041,169.1115112,169.259201,177.8011627,192.783493,180.1154785,176.9573212,172.88237,174.5619354,178.2216797,173.7631073,163.1069031,163.3936615,149.8052979,155.3195648,158.0451508,160.6053619,154.5822754,155.826416,153.1304321,156.2216949,144.9550171,145.8266144,151.3834839,151.8622437,152.0396271],\"yaxis\":\"y\",\"type\":\"scatter\"}],                        {\"template\":{\"data\":{\"barpolar\":[{\"marker\":{\"line\":{\"color\":\"rgb(17,17,17)\",\"width\":0.5},\"pattern\":{\"fillmode\":\"overlay\",\"size\":10,\"solidity\":0.2}},\"type\":\"barpolar\"}],\"bar\":[{\"error_x\":{\"color\":\"#f2f5fa\"},\"error_y\":{\"color\":\"#f2f5fa\"},\"marker\":{\"line\":{\"color\":\"rgb(17,17,17)\",\"width\":0.5},\"pattern\":{\"fillmode\":\"overlay\",\"size\":10,\"solidity\":0.2}},\"type\":\"bar\"}],\"carpet\":[{\"aaxis\":{\"endlinecolor\":\"#A2B1C6\",\"gridcolor\":\"#506784\",\"linecolor\":\"#506784\",\"minorgridcolor\":\"#506784\",\"startlinecolor\":\"#A2B1C6\"},\"baxis\":{\"endlinecolor\":\"#A2B1C6\",\"gridcolor\":\"#506784\",\"linecolor\":\"#506784\",\"minorgridcolor\":\"#506784\",\"startlinecolor\":\"#A2B1C6\"},\"type\":\"carpet\"}],\"choropleth\":[{\"colorbar\":{\"outlinewidth\":0,\"ticks\":\"\"},\"type\":\"choropleth\"}],\"contourcarpet\":[{\"colorbar\":{\"outlinewidth\":0,\"ticks\":\"\"},\"type\":\"contourcarpet\"}],\"contour\":[{\"colorbar\":{\"outlinewidth\":0,\"ticks\":\"\"},\"colorscale\":[[0.0,\"#0d0887\"],[0.1111111111111111,\"#46039f\"],[0.2222222222222222,\"#7201a8\"],[0.3333333333333333,\"#9c179e\"],[0.4444444444444444,\"#bd3786\"],[0.5555555555555556,\"#d8576b\"],[0.6666666666666666,\"#ed7953\"],[0.7777777777777778,\"#fb9f3a\"],[0.8888888888888888,\"#fdca26\"],[1.0,\"#f0f921\"]],\"type\":\"contour\"}],\"heatmapgl\":[{\"colorbar\":{\"outlinewidth\":0,\"ticks\":\"\"},\"colorscale\":[[0.0,\"#0d0887\"],[0.1111111111111111,\"#46039f\"],[0.2222222222222222,\"#7201a8\"],[0.3333333333333333,\"#9c179e\"],[0.4444444444444444,\"#bd3786\"],[0.5555555555555556,\"#d8576b\"],[0.6666666666666666,\"#ed7953\"],[0.7777777777777778,\"#fb9f3a\"],[0.8888888888888888,\"#fdca26\"],[1.0,\"#f0f921\"]],\"type\":\"heatmapgl\"}],\"heatmap\":[{\"colorbar\":{\"outlinewidth\":0,\"ticks\":\"\"},\"colorscale\":[[0.0,\"#0d0887\"],[0.1111111111111111,\"#46039f\"],[0.2222222222222222,\"#7201a8\"],[0.3333333333333333,\"#9c179e\"],[0.4444444444444444,\"#bd3786\"],[0.5555555555555556,\"#d8576b\"],[0.6666666666666666,\"#ed7953\"],[0.7777777777777778,\"#fb9f3a\"],[0.8888888888888888,\"#fdca26\"],[1.0,\"#f0f921\"]],\"type\":\"heatmap\"}],\"histogram2dcontour\":[{\"colorbar\":{\"outlinewidth\":0,\"ticks\":\"\"},\"colorscale\":[[0.0,\"#0d0887\"],[0.1111111111111111,\"#46039f\"],[0.2222222222222222,\"#7201a8\"],[0.3333333333333333,\"#9c179e\"],[0.4444444444444444,\"#bd3786\"],[0.5555555555555556,\"#d8576b\"],[0.6666666666666666,\"#ed7953\"],[0.7777777777777778,\"#fb9f3a\"],[0.8888888888888888,\"#fdca26\"],[1.0,\"#f0f921\"]],\"type\":\"histogram2dcontour\"}],\"histogram2d\":[{\"colorbar\":{\"outlinewidth\":0,\"ticks\":\"\"},\"colorscale\":[[0.0,\"#0d0887\"],[0.1111111111111111,\"#46039f\"],[0.2222222222222222,\"#7201a8\"],[0.3333333333333333,\"#9c179e\"],[0.4444444444444444,\"#bd3786\"],[0.5555555555555556,\"#d8576b\"],[0.6666666666666666,\"#ed7953\"],[0.7777777777777778,\"#fb9f3a\"],[0.8888888888888888,\"#fdca26\"],[1.0,\"#f0f921\"]],\"type\":\"histogram2d\"}],\"histogram\":[{\"marker\":{\"pattern\":{\"fillmode\":\"overlay\",\"size\":10,\"solidity\":0.2}},\"type\":\"histogram\"}],\"mesh3d\":[{\"colorbar\":{\"outlinewidth\":0,\"ticks\":\"\"},\"type\":\"mesh3d\"}],\"parcoords\":[{\"line\":{\"colorbar\":{\"outlinewidth\":0,\"ticks\":\"\"}},\"type\":\"parcoords\"}],\"pie\":[{\"automargin\":true,\"type\":\"pie\"}],\"scatter3d\":[{\"line\":{\"colorbar\":{\"outlinewidth\":0,\"ticks\":\"\"}},\"marker\":{\"colorbar\":{\"outlinewidth\":0,\"ticks\":\"\"}},\"type\":\"scatter3d\"}],\"scattercarpet\":[{\"marker\":{\"colorbar\":{\"outlinewidth\":0,\"ticks\":\"\"}},\"type\":\"scattercarpet\"}],\"scattergeo\":[{\"marker\":{\"colorbar\":{\"outlinewidth\":0,\"ticks\":\"\"}},\"type\":\"scattergeo\"}],\"scattergl\":[{\"marker\":{\"line\":{\"color\":\"#283442\"}},\"type\":\"scattergl\"}],\"scattermapbox\":[{\"marker\":{\"colorbar\":{\"outlinewidth\":0,\"ticks\":\"\"}},\"type\":\"scattermapbox\"}],\"scatterpolargl\":[{\"marker\":{\"colorbar\":{\"outlinewidth\":0,\"ticks\":\"\"}},\"type\":\"scatterpolargl\"}],\"scatterpolar\":[{\"marker\":{\"colorbar\":{\"outlinewidth\":0,\"ticks\":\"\"}},\"type\":\"scatterpolar\"}],\"scatter\":[{\"marker\":{\"line\":{\"color\":\"#283442\"}},\"type\":\"scatter\"}],\"scatterternary\":[{\"marker\":{\"colorbar\":{\"outlinewidth\":0,\"ticks\":\"\"}},\"type\":\"scatterternary\"}],\"surface\":[{\"colorbar\":{\"outlinewidth\":0,\"ticks\":\"\"},\"colorscale\":[[0.0,\"#0d0887\"],[0.1111111111111111,\"#46039f\"],[0.2222222222222222,\"#7201a8\"],[0.3333333333333333,\"#9c179e\"],[0.4444444444444444,\"#bd3786\"],[0.5555555555555556,\"#d8576b\"],[0.6666666666666666,\"#ed7953\"],[0.7777777777777778,\"#fb9f3a\"],[0.8888888888888888,\"#fdca26\"],[1.0,\"#f0f921\"]],\"type\":\"surface\"}],\"table\":[{\"cells\":{\"fill\":{\"color\":\"#506784\"},\"line\":{\"color\":\"rgb(17,17,17)\"}},\"header\":{\"fill\":{\"color\":\"#2a3f5f\"},\"line\":{\"color\":\"rgb(17,17,17)\"}},\"type\":\"table\"}]},\"layout\":{\"annotationdefaults\":{\"arrowcolor\":\"#f2f5fa\",\"arrowhead\":0,\"arrowwidth\":1},\"autotypenumbers\":\"strict\",\"coloraxis\":{\"colorbar\":{\"outlinewidth\":0,\"ticks\":\"\"}},\"colorscale\":{\"diverging\":[[0,\"#8e0152\"],[0.1,\"#c51b7d\"],[0.2,\"#de77ae\"],[0.3,\"#f1b6da\"],[0.4,\"#fde0ef\"],[0.5,\"#f7f7f7\"],[0.6,\"#e6f5d0\"],[0.7,\"#b8e186\"],[0.8,\"#7fbc41\"],[0.9,\"#4d9221\"],[1,\"#276419\"]],\"sequential\":[[0.0,\"#0d0887\"],[0.1111111111111111,\"#46039f\"],[0.2222222222222222,\"#7201a8\"],[0.3333333333333333,\"#9c179e\"],[0.4444444444444444,\"#bd3786\"],[0.5555555555555556,\"#d8576b\"],[0.6666666666666666,\"#ed7953\"],[0.7777777777777778,\"#fb9f3a\"],[0.8888888888888888,\"#fdca26\"],[1.0,\"#f0f921\"]],\"sequentialminus\":[[0.0,\"#0d0887\"],[0.1111111111111111,\"#46039f\"],[0.2222222222222222,\"#7201a8\"],[0.3333333333333333,\"#9c179e\"],[0.4444444444444444,\"#bd3786\"],[0.5555555555555556,\"#d8576b\"],[0.6666666666666666,\"#ed7953\"],[0.7777777777777778,\"#fb9f3a\"],[0.8888888888888888,\"#fdca26\"],[1.0,\"#f0f921\"]]},\"colorway\":[\"#636efa\",\"#EF553B\",\"#00cc96\",\"#ab63fa\",\"#FFA15A\",\"#19d3f3\",\"#FF6692\",\"#B6E880\",\"#FF97FF\",\"#FECB52\"],\"font\":{\"color\":\"#f2f5fa\"},\"geo\":{\"bgcolor\":\"rgb(17,17,17)\",\"lakecolor\":\"rgb(17,17,17)\",\"landcolor\":\"rgb(17,17,17)\",\"showlakes\":true,\"showland\":true,\"subunitcolor\":\"#506784\"},\"hoverlabel\":{\"align\":\"left\"},\"hovermode\":\"closest\",\"mapbox\":{\"style\":\"dark\"},\"paper_bgcolor\":\"rgb(17,17,17)\",\"plot_bgcolor\":\"rgb(17,17,17)\",\"polar\":{\"angularaxis\":{\"gridcolor\":\"#506784\",\"linecolor\":\"#506784\",\"ticks\":\"\"},\"bgcolor\":\"rgb(17,17,17)\",\"radialaxis\":{\"gridcolor\":\"#506784\",\"linecolor\":\"#506784\",\"ticks\":\"\"}},\"scene\":{\"xaxis\":{\"backgroundcolor\":\"rgb(17,17,17)\",\"gridcolor\":\"#506784\",\"gridwidth\":2,\"linecolor\":\"#506784\",\"showbackground\":true,\"ticks\":\"\",\"zerolinecolor\":\"#C8D4E3\"},\"yaxis\":{\"backgroundcolor\":\"rgb(17,17,17)\",\"gridcolor\":\"#506784\",\"gridwidth\":2,\"linecolor\":\"#506784\",\"showbackground\":true,\"ticks\":\"\",\"zerolinecolor\":\"#C8D4E3\"},\"zaxis\":{\"backgroundcolor\":\"rgb(17,17,17)\",\"gridcolor\":\"#506784\",\"gridwidth\":2,\"linecolor\":\"#506784\",\"showbackground\":true,\"ticks\":\"\",\"zerolinecolor\":\"#C8D4E3\"}},\"shapedefaults\":{\"line\":{\"color\":\"#f2f5fa\"}},\"sliderdefaults\":{\"bgcolor\":\"#C8D4E3\",\"bordercolor\":\"rgb(17,17,17)\",\"borderwidth\":1,\"tickwidth\":0},\"ternary\":{\"aaxis\":{\"gridcolor\":\"#506784\",\"linecolor\":\"#506784\",\"ticks\":\"\"},\"baxis\":{\"gridcolor\":\"#506784\",\"linecolor\":\"#506784\",\"ticks\":\"\"},\"bgcolor\":\"rgb(17,17,17)\",\"caxis\":{\"gridcolor\":\"#506784\",\"linecolor\":\"#506784\",\"ticks\":\"\"}},\"title\":{\"x\":0.05},\"updatemenudefaults\":{\"bgcolor\":\"#506784\",\"borderwidth\":0},\"xaxis\":{\"automargin\":true,\"gridcolor\":\"#283442\",\"linecolor\":\"#506784\",\"ticks\":\"\",\"title\":{\"standoff\":15},\"zerolinecolor\":\"#283442\",\"zerolinewidth\":2},\"yaxis\":{\"automargin\":true,\"gridcolor\":\"#283442\",\"linecolor\":\"#506784\",\"ticks\":\"\",\"title\":{\"standoff\":15},\"zerolinecolor\":\"#283442\",\"zerolinewidth\":2}}},\"xaxis\":{\"anchor\":\"y\",\"domain\":[0.0,1.0],\"title\":{\"text\":\"Date\"}},\"yaxis\":{\"anchor\":\"x\",\"domain\":[0.0,1.0],\"title\":{\"text\":\"Closing Price\"}},\"legend\":{\"tracegroupgap\":0},\"title\":{\"text\":\"Daily Closing Price\"}},                        {\"responsive\": true}                    ).then(function(){\n",
              "                            \n",
              "var gd = document.getElementById('4f7a03db-9fa8-48f8-aecb-61da76ac4c91');\n",
              "var x = new MutationObserver(function (mutations, observer) {{\n",
              "        var display = window.getComputedStyle(gd).display;\n",
              "        if (!display || display === 'none') {{\n",
              "            console.log([gd, 'removed!']);\n",
              "            Plotly.purge(gd);\n",
              "            observer.disconnect();\n",
              "        }}\n",
              "}});\n",
              "\n",
              "// Listen for the removal of the full notebook cells\n",
              "var notebookContainer = gd.closest('#notebook-container');\n",
              "if (notebookContainer) {{\n",
              "    x.observe(notebookContainer, {childList: true});\n",
              "}}\n",
              "\n",
              "// Listen for the clearing of the current output cell\n",
              "var outputEl = gd.closest('.output');\n",
              "if (outputEl) {{\n",
              "    x.observe(outputEl, {childList: true});\n",
              "}}\n",
              "\n",
              "                        })                };                            </script>        </div>\n",
              "</body>\n",
              "</html>"
            ]
          },
          "metadata": {}
        }
      ]
    },
    {
      "cell_type": "code",
      "source": [
        "import plotly.graph_objects as go\n",
        "import pandas as pd\n",
        "\n",
        "# Assuming dataset1 is your DataFrame and has 'Date' and 'Close' columns\n",
        "# Ensure 'Date' is in datetime format\n",
        "dataset1['Date'] = pd.to_datetime(dataset1['Date'])\n",
        "\n",
        "# Create the figure\n",
        "fig = go.Figure()\n",
        "\n",
        "# Add the line plot\n",
        "fig.add_trace(go.Scatter(x=dataset1['Date'], y=dataset1['Close'],\n",
        "                         mode='lines+markers',\n",
        "                         line=dict(color='purple'),\n",
        "                         marker=dict(size=5),\n",
        "                         text=dataset1['Close'],  # Display 'Close' value on hover\n",
        "                         hoverinfo='x+y'  # Show date and value on hover\n",
        "                        ))\n",
        "\n",
        "# Update layout\n",
        "fig.update_layout(\n",
        "    title='Daily Closing Price',\n",
        "    xaxis_title='Date: From Jan. 1, 2019 to Dec. 31, 2021',\n",
        "    yaxis_title='Closing Price',\n",
        "    template='plotly_dark',  # Optional: use a dark theme for the plot\n",
        "    hovermode='x unified'  # Optional: improves hover interaction\n",
        ")\n",
        "\n",
        "# Show the plot\n",
        "fig.show()\n"
      ],
      "metadata": {
        "id": "pLHbIJHPk6Oh",
        "outputId": "13e11771-6e2e-47b3-9888-a365e1c5ee3e",
        "colab": {
          "base_uri": "https://localhost:8080/",
          "height": 701
        }
      },
      "execution_count": 50,
      "outputs": [
        {
          "output_type": "stream",
          "name": "stderr",
          "text": [
            "<ipython-input-50-c17bcf2ccf4d>:6: UserWarning:\n",
            "\n",
            "Parsing dates in %d-%m-%Y format when dayfirst=False (the default) was specified. Pass `dayfirst=True` or specify a format to silence this warning.\n",
            "\n",
            "/usr/local/lib/python3.10/dist-packages/_plotly_utils/basevalidators.py:105: FutureWarning:\n",
            "\n",
            "The behavior of DatetimeProperties.to_pydatetime is deprecated, in a future version this will return a Series containing python datetime objects instead of an ndarray. To retain the old behavior, call `np.array` on the result\n",
            "\n"
          ]
        },
        {
          "output_type": "display_data",
          "data": {
            "text/html": [
              "<html>\n",
              "<head><meta charset=\"utf-8\" /></head>\n",
              "<body>\n",
              "    <div>            <script src=\"https://cdnjs.cloudflare.com/ajax/libs/mathjax/2.7.5/MathJax.js?config=TeX-AMS-MML_SVG\"></script><script type=\"text/javascript\">if (window.MathJax && window.MathJax.Hub && window.MathJax.Hub.Config) {window.MathJax.Hub.Config({SVG: {font: \"STIX-Web\"}});}</script>                <script type=\"text/javascript\">window.PlotlyConfig = {MathJaxConfig: 'local'};</script>\n",
              "        <script charset=\"utf-8\" src=\"https://cdn.plot.ly/plotly-2.24.1.min.js\"></script>                <div id=\"d47de31c-236f-4159-9d05-81a7cf7e3fab\" class=\"plotly-graph-div\" style=\"height:525px; width:100%;\"></div>            <script type=\"text/javascript\">                                    window.PLOTLYENV=window.PLOTLYENV || {};                                    if (document.getElementById(\"d47de31c-236f-4159-9d05-81a7cf7e3fab\")) {                    Plotly.newPlot(                        \"d47de31c-236f-4159-9d05-81a7cf7e3fab\",                        [{\"hoverinfo\":\"x+y\",\"line\":{\"color\":\"purple\"},\"marker\":{\"size\":5},\"mode\":\"lines+markers\",\"text\":[97.0788269,97.20179749,92.83791351,102.6099625,109.6670914,110.8650894,117.8140411,114.0628128,114.1733704,117.7422943,171.1642303,150.7318726,165.0128021,174.3273621,422.7356873,312.7556458,312.8806763,286.4017944,249.1907196,276.9186401,301.6965942,314.52771,308.9052734,259.1357727,266.975769,261.8514404,274.1991882,300.3503113,294.7631226,287.9704285,298.8234253,272.3962097,278.6494446,276.7426147,280.7286072,272.0567322,298.8831787,295.6504211,295.7012024,336.2476501,350.0896301,352.3561401,363.3983154,366.7179565,359.0411377,360.3900146,310.0778198,285.8675232,309.4416199,309.1070557,288.7273865,285.4997253,289.4433899,280.4067993,294.3893738,277.3788147,259.7648621,225.0285492,226.5533905,215.9731445,212.2919922,228.5179138,251.4146881,246.4846649,231.2154236,240.6180267,245.0747528,234.2283173,197.9492645,199.1755524,198.830719,190.5147095,108.7858276,120.8989563,116.3063431,122.9458923,109.5854187,117.005394,119.3464203,156.3201599,160.3318481,167.6957397,157.7841034,168.5083923,177.955246,172.9514618,172.529541,166.7953186,157.0191193,148.3920898,166.4355316,165.4046021,168.0016937,175.1549988,178.6085358,179.2720947,174.8638916,190.9978485,184.8280029,217.0862274,214.7508087,186.516037,186.0516663,192.9704285,188.002655,188.5596924,182.1569977,194.6972656,203.5212402,195.7714844,185.1521912,184.0163269,192.2945404,193.8011322,194.6625366,195.0278931,195.746582,194.0160675,195.5884094,208.3136749,208.3015442,213.3973389,213.4441376,208.6157379,205.4835663,207.2216949,204.9256134,209.9542847,210.5623322,211.0302734,185.8956604,188.141449,186.5256805,190.3309937,193.1481323,187.6752625,188.5439606,191.7267151,203.4309692,200.7756805,197.0551605,193.4507141,194.9689636,193.9564972,184.9357147,184.1260834,180.85849,188.8737335,192.4654541,190.4772339,201.839325,193.1362152,202.7431946,195.6710663,195.9363708,197.6174469,196.7970428,194.3320618,194.0688934,191.9321136,191.1279449,194.1554565,181.6456909,183.0933533,182.8895264,180.0165405,175.6608887,176.1617584,177.8353271,175.2655029,173.0085449,173.3498077,172.4931183,175.7101898,180.5415344,172.923172,172.3644104,169.246048,162.1251526,159.3730927,160.10495,158.1504517,157.0987549,155.8943329,155.2351685,155.1634674,153.7530975,191.8586121,184.3700562,188.9830017,185.6792908,182.6650848,182.8393097,185.911911,182.1134033,181.6050262,179.6746216,173.0960846,172.0478973,172.7783661,171.9950562,169.3598938,177.3800201,181.7081604,184.2590942,181.6177368,190.2700806,190.035675,207.326828,214.1475372,213.3995361,215.3556671,229.8368988,243.3483582,217.8161621,228.1217957,224.6687469,234.1678925,236.6023254,228.9796906,232.7456818,224.0450592,225.9984741,210.7623138,209.2909546,222.8317108,224.2457886,217.2959747,206.5181122,208.9487762,197.4655151,196.6582794,194.8611145,203.8320313,192.0808258,191.4156342,185.9521484,191.7799377,190.4440002,196.5013733,192.8454437,203.6662445,183.57164,152.3483276,160.562439,162.099823,163.5022125,174.1546021,170.5654755,169.5764313,166.7016754,155.7811737,150.5228577,156.8352509,155.9112701,163.7820129,170.0136719,168.8414917,172.3110962,171.7402344,170.3194733,163.3002014,159.4788208,163.3621368,165.5146484,171.118103,172.0307312,168.686615,169.4484863,160.6729889,159.3944244,160.3728485,159.9801636,157.5920868,164.8001251,168.7792358,166.2621918,175.4957123,180.9338837,173.8072205,174.8909302,169.8619843,166.7854767,163.5138397,164.8695374,164.6368408,158.671875,153.783493,152.160141,159.7518768,167.639801,162.2105103,166.8770294,160.1226501,157.1943817,159.1252441,158.1655884,161.146225,157.7352142,154.4309235,158.0951385,166.8501129,162.152771,161.5948639,165.999115,193.6735687,177.8670654,196.9010925,208.9147339,191.8394318,165.4684906,161.8022003,166.7303925,168.1978607,182.5581665,169.3662567,171.0374603,170.828949,177.5480804,181.9665985,178.5522919,179.6957397,173.3684082,170.3222809,166.4097443,161.6541595,165.0947571,168.5953522,166.6370087,169.1819916,179.6242828,179.0669098,178.4369965,176.9165955,182.7912598,171.6512909,171.5317841,153.5986481,162.1759949,165.3999176,164.1349792,167.302536,168.4898529,164.3967133,166.9030914,163.6320343,163.1158142,163.089386,171.3906708,167.5882263,168.6279755,179.8541565,176.2432861,180.4629669,284.5098267,253.7050323,191.3695679,188.7396088,212.4384918,220.6280823,208.8546753,207.1144714,199.0988007,206.4282684,204.7174377,200.8761902,178.3593597,178.3889771,174.7152557,174.9513245,181.7709351,174.155014,162.0761719,164.602478,173.0165405,178.8504639,173.8604584,178.7179871,180.6801453,182.9874878,176.5700531,187.2492981,184.2870941,183.0600739,194.0106506,225.9514465,212.1047974,224.9983826,235.6829376,263.8977966,262.3990173,238.6379852,236.8460846,244.3745728,240.535965,243.5151672,228.5558929,242.5944824,216.3104248,188.5276184,194.9781036,183.2663269,180.4144287,184.6903687,177.4486847,185.8673248,185.4491577,189.1630402,181.8293915,181.0757141,181.1564484,185.4199066,185.8994446,189.9885101,188.3600311,187.1142273,185.7099304,218.3470459,200.4866486,191.5210419,194.7800598,195.2086029,204.2323761,213.6368866,205.5637054,202.2408905,204.5809937,215.241745,194.7328796,193.8417664,203.2727203,200.3723907,199.3722839,207.7908783,209.0461426,217.0887604,229.6256409,247.1775818,220.2610168,230.2778473,248.0809174,264.5970459,239.587265,249.2703857,259.1430664,272.7145081,276.9602356,261.0388489,297.7601929,328.5248108,364.6114807,441.3943481,378.986084,332.8471069,294.8777466,303.0984192,296.6661072,282.5078735,250.6531982,235.5678101,238.627655,264.7661438,288.3218079,289.5839233,282.1896362,323.6707458,332.675293,332.2598877,369.9068604,327.2222595,423.4077148,418.8973083,379.8088379,366.0493164,359.3440857,340.6425476,392.3598633,299.5545654,315.5066528,336.4975586,311.9907837,315.0993958,286.1441956,287.15448,176.6281586,200.0580292,174.6168213,169.1510925,150.8253632,178.1375885,174.7871857,182.1764984,183.1481628,168.2102814,164.292511,166.5590363,174.9384308,175.7692719,182.5816345,188.8372955,173.9971771,177.9733582,178.7094574,166.2698975,162.6404266,173.0297089,165.2566833,164.1895294,162.0935669,171.0860901,173.3247833,173.4458618,164.1366272,163.3863678,157.3546906,155.6405182,153.2408905,124.6355362,119.078949,128.9900818,131.7730103,122.8891602,124.722496,130.9338989,153.3381653,152.3848724,146.9085236,146.2381287,145.1374207,146.4172974,149.3193512,141.6135254,140.8005066,140.3925629,140.2183838,139.3431854,138.9683075,138.2875671,138.3806763,137.0959473,133.1433868,127.9480133,123.4934692,123.3614578,123.4718781,118.6777573,114.1850815,122.2144623,124.3606491,126.1451797,127.7837143,128.2324371,130.6389465,133.5058441,134.2086945,138.7794952,141.6167908,141.7531281,142.4174042,145.9774933,138.5284424,139.6653137,140.4652863,145.2454529,155.1973419,144.8588409,157.7111664,153.0340881,158.9902802,153.9339142,165.8663483,165.6859741,172.3546906,166.8246155,158.1241913,156.0757751,159.7541962,171.6987915,167.9105377,165.886734,168.2239227,160.3913116,164.6107635,155.3291931,161.5417938,177.1996765,195.9171448,173.0208588,169.1644745,171.7679749,168.3143005,176.6156616,198.7162476,196.2144318,194.7419739,158.6387939,155.8577423,156.4656372,156.5926819,155.4788208,156.7489319,157.4129486,160.2131195,157.3181915,156.2901154,159.0575867,157.1176605,162.2528687,135.100296,138.1844025,146.9563141,146.664444,134.4101563,134.7538757,129.5789185,127.6989212,124.6066132,126.8760757,129.4089966,139.6716919,139.3317566,145.0488434,144.7346497,154.9594116,152.2515106,184.3339233,176.5225067,179.8988342,173.8834229,179.0371399,169.7019653,171.9494934,172.3947906,173.1269684,171.7786713,169.1285095,168.2514648,170.4859467,176.1342926,170.798645,170.9129028,172.5839386,172.5368347,172.3366699,171.835434,154.3390045,162.5881042,165.8844757,161.9985962,165.5103607,164.605957,169.3746796,169.8624725,172.0471497,174.3717041,169.1115112,169.259201,177.8011627,192.783493,180.1154785,176.9573212,172.88237,174.5619354,178.2216797,173.7631073,163.1069031,163.3936615,149.8052979,155.3195648,158.0451508,160.6053619,154.5822754,155.826416,153.1304321,156.2216949,144.9550171,145.8266144,151.3834839,151.8622437,152.0396271],\"x\":[\"2019-12-31T00:00:00\",\"2020-01-01T00:00:00\",\"2020-01-02T00:00:00\",\"2020-01-03T00:00:00\",\"2020-01-04T00:00:00\",\"2020-01-05T00:00:00\",\"2020-01-06T00:00:00\",\"2020-01-07T00:00:00\",\"2020-01-08T00:00:00\",\"2020-01-09T00:00:00\",\"2020-01-10T00:00:00\",\"2020-01-11T00:00:00\",\"2020-01-12T00:00:00\",\"2020-01-13T00:00:00\",\"2020-01-14T00:00:00\",\"2020-01-15T00:00:00\",\"2020-01-16T00:00:00\",\"2020-01-17T00:00:00\",\"2020-01-18T00:00:00\",\"2020-01-19T00:00:00\",\"2020-01-20T00:00:00\",\"2020-01-21T00:00:00\",\"2020-01-22T00:00:00\",\"2020-01-23T00:00:00\",\"2020-01-24T00:00:00\",\"2020-01-25T00:00:00\",\"2020-01-26T00:00:00\",\"2020-01-27T00:00:00\",\"2020-01-28T00:00:00\",\"2020-01-29T00:00:00\",\"2020-01-30T00:00:00\",\"2020-01-31T00:00:00\",\"2020-02-01T00:00:00\",\"2020-02-02T00:00:00\",\"2020-02-03T00:00:00\",\"2020-02-04T00:00:00\",\"2020-02-05T00:00:00\",\"2020-02-06T00:00:00\",\"2020-02-07T00:00:00\",\"2020-02-08T00:00:00\",\"2020-02-09T00:00:00\",\"2020-02-10T00:00:00\",\"2020-02-11T00:00:00\",\"2020-02-12T00:00:00\",\"2020-02-13T00:00:00\",\"2020-02-14T00:00:00\",\"2020-02-15T00:00:00\",\"2020-02-16T00:00:00\",\"2020-02-17T00:00:00\",\"2020-02-18T00:00:00\",\"2020-02-19T00:00:00\",\"2020-02-20T00:00:00\",\"2020-02-21T00:00:00\",\"2020-02-22T00:00:00\",\"2020-02-23T00:00:00\",\"2020-02-24T00:00:00\",\"2020-02-25T00:00:00\",\"2020-02-26T00:00:00\",\"2020-02-27T00:00:00\",\"2020-02-28T00:00:00\",\"2020-02-29T00:00:00\",\"2020-03-01T00:00:00\",\"2020-03-02T00:00:00\",\"2020-03-03T00:00:00\",\"2020-03-04T00:00:00\",\"2020-03-05T00:00:00\",\"2020-03-06T00:00:00\",\"2020-03-07T00:00:00\",\"2020-03-08T00:00:00\",\"2020-03-09T00:00:00\",\"2020-03-10T00:00:00\",\"2020-03-11T00:00:00\",\"2020-03-12T00:00:00\",\"2020-03-13T00:00:00\",\"2020-03-14T00:00:00\",\"2020-03-15T00:00:00\",\"2020-03-16T00:00:00\",\"2020-03-17T00:00:00\",\"2020-03-18T00:00:00\",\"2020-03-19T00:00:00\",\"2020-03-20T00:00:00\",\"2020-03-21T00:00:00\",\"2020-03-22T00:00:00\",\"2020-03-23T00:00:00\",\"2020-03-24T00:00:00\",\"2020-03-25T00:00:00\",\"2020-03-26T00:00:00\",\"2020-03-27T00:00:00\",\"2020-03-28T00:00:00\",\"2020-03-29T00:00:00\",\"2020-03-30T00:00:00\",\"2020-03-31T00:00:00\",\"2020-04-01T00:00:00\",\"2020-04-02T00:00:00\",\"2020-04-03T00:00:00\",\"2020-04-04T00:00:00\",\"2020-04-05T00:00:00\",\"2020-04-06T00:00:00\",\"2020-04-07T00:00:00\",\"2020-04-08T00:00:00\",\"2020-04-09T00:00:00\",\"2020-04-10T00:00:00\",\"2020-04-11T00:00:00\",\"2020-04-12T00:00:00\",\"2020-04-13T00:00:00\",\"2020-04-14T00:00:00\",\"2020-04-15T00:00:00\",\"2020-04-16T00:00:00\",\"2020-04-18T00:00:00\",\"2020-04-19T00:00:00\",\"2020-04-20T00:00:00\",\"2020-04-21T00:00:00\",\"2020-04-22T00:00:00\",\"2020-04-23T00:00:00\",\"2020-04-24T00:00:00\",\"2020-04-25T00:00:00\",\"2020-04-26T00:00:00\",\"2020-04-27T00:00:00\",\"2020-04-28T00:00:00\",\"2020-04-29T00:00:00\",\"2020-04-30T00:00:00\",\"2020-05-01T00:00:00\",\"2020-05-02T00:00:00\",\"2020-05-03T00:00:00\",\"2020-05-04T00:00:00\",\"2020-05-05T00:00:00\",\"2020-05-06T00:00:00\",\"2020-05-07T00:00:00\",\"2020-05-08T00:00:00\",\"2020-05-09T00:00:00\",\"2020-05-10T00:00:00\",\"2020-05-11T00:00:00\",\"2020-05-12T00:00:00\",\"2020-05-13T00:00:00\",\"2020-05-14T00:00:00\",\"2020-05-15T00:00:00\",\"2020-05-16T00:00:00\",\"2020-05-17T00:00:00\",\"2020-05-18T00:00:00\",\"2020-05-19T00:00:00\",\"2020-05-20T00:00:00\",\"2020-05-21T00:00:00\",\"2020-05-22T00:00:00\",\"2020-05-23T00:00:00\",\"2020-05-24T00:00:00\",\"2020-05-25T00:00:00\",\"2020-05-26T00:00:00\",\"2020-05-27T00:00:00\",\"2020-05-28T00:00:00\",\"2020-05-29T00:00:00\",\"2020-05-30T00:00:00\",\"2020-05-31T00:00:00\",\"2020-06-01T00:00:00\",\"2020-06-02T00:00:00\",\"2020-06-03T00:00:00\",\"2020-06-04T00:00:00\",\"2020-06-05T00:00:00\",\"2020-06-06T00:00:00\",\"2020-06-07T00:00:00\",\"2020-06-08T00:00:00\",\"2020-06-09T00:00:00\",\"2020-06-10T00:00:00\",\"2020-06-11T00:00:00\",\"2020-06-12T00:00:00\",\"2020-06-13T00:00:00\",\"2020-06-14T00:00:00\",\"2020-06-15T00:00:00\",\"2020-06-16T00:00:00\",\"2020-06-17T00:00:00\",\"2020-06-18T00:00:00\",\"2020-06-19T00:00:00\",\"2020-06-20T00:00:00\",\"2020-06-21T00:00:00\",\"2020-06-22T00:00:00\",\"2020-06-23T00:00:00\",\"2020-06-24T00:00:00\",\"2020-06-25T00:00:00\",\"2020-06-26T00:00:00\",\"2020-06-27T00:00:00\",\"2020-06-28T00:00:00\",\"2020-06-29T00:00:00\",\"2020-06-30T00:00:00\",\"2020-07-01T00:00:00\",\"2020-07-02T00:00:00\",\"2020-07-03T00:00:00\",\"2020-07-04T00:00:00\",\"2020-07-05T00:00:00\",\"2020-07-06T00:00:00\",\"2020-07-07T00:00:00\",\"2020-07-08T00:00:00\",\"2020-07-09T00:00:00\",\"2020-07-10T00:00:00\",\"2020-07-11T00:00:00\",\"2020-07-12T00:00:00\",\"2020-07-13T00:00:00\",\"2020-07-14T00:00:00\",\"2020-07-15T00:00:00\",\"2020-07-16T00:00:00\",\"2020-07-17T00:00:00\",\"2020-07-18T00:00:00\",\"2020-07-19T00:00:00\",\"2020-07-20T00:00:00\",\"2020-07-21T00:00:00\",\"2020-07-22T00:00:00\",\"2020-07-23T00:00:00\",\"2020-07-24T00:00:00\",\"2020-07-25T00:00:00\",\"2020-07-26T00:00:00\",\"2020-07-27T00:00:00\",\"2020-07-28T00:00:00\",\"2020-07-29T00:00:00\",\"2020-07-30T00:00:00\",\"2020-07-31T00:00:00\",\"2020-08-01T00:00:00\",\"2020-08-02T00:00:00\",\"2020-08-03T00:00:00\",\"2020-08-04T00:00:00\",\"2020-08-05T00:00:00\",\"2020-08-06T00:00:00\",\"2020-08-07T00:00:00\",\"2020-08-08T00:00:00\",\"2020-08-09T00:00:00\",\"2020-08-10T00:00:00\",\"2020-08-11T00:00:00\",\"2020-08-12T00:00:00\",\"2020-08-16T00:00:00\",\"2020-08-17T00:00:00\",\"2020-08-18T00:00:00\",\"2020-08-19T00:00:00\",\"2020-08-20T00:00:00\",\"2020-08-21T00:00:00\",\"2020-08-22T00:00:00\",\"2020-08-23T00:00:00\",\"2020-08-24T00:00:00\",\"2020-08-25T00:00:00\",\"2020-08-26T00:00:00\",\"2020-08-27T00:00:00\",\"2020-08-28T00:00:00\",\"2020-08-29T00:00:00\",\"2020-08-30T00:00:00\",\"2020-08-31T00:00:00\",\"2020-09-01T00:00:00\",\"2020-09-02T00:00:00\",\"2020-09-03T00:00:00\",\"2020-09-04T00:00:00\",\"2020-09-05T00:00:00\",\"2020-09-06T00:00:00\",\"2020-09-07T00:00:00\",\"2020-09-08T00:00:00\",\"2020-09-09T00:00:00\",\"2020-09-10T00:00:00\",\"2020-09-22T00:00:00\",\"2020-09-23T00:00:00\",\"2020-09-24T00:00:00\",\"2020-09-25T00:00:00\",\"2020-09-26T00:00:00\",\"2020-09-27T00:00:00\",\"2020-09-28T00:00:00\",\"2020-09-29T00:00:00\",\"2020-09-30T00:00:00\",\"2020-10-01T00:00:00\",\"2020-10-05T00:00:00\",\"2020-10-06T00:00:00\",\"2020-10-07T00:00:00\",\"2020-10-08T00:00:00\",\"2020-10-10T00:00:00\",\"2020-10-11T00:00:00\",\"2020-10-14T00:00:00\",\"2020-10-15T00:00:00\",\"2020-10-16T00:00:00\",\"2020-10-17T00:00:00\",\"2020-10-18T00:00:00\",\"2020-10-19T00:00:00\",\"2020-10-20T00:00:00\",\"2020-10-21T00:00:00\",\"2020-10-22T00:00:00\",\"2020-10-23T00:00:00\",\"2020-10-24T00:00:00\",\"2020-10-25T00:00:00\",\"2020-10-26T00:00:00\",\"2020-10-27T00:00:00\",\"2020-10-28T00:00:00\",\"2020-10-29T00:00:00\",\"2020-10-30T00:00:00\",\"2020-10-31T00:00:00\",\"2020-11-01T00:00:00\",\"2020-11-02T00:00:00\",\"2020-11-03T00:00:00\",\"2020-11-04T00:00:00\",\"2020-11-05T00:00:00\",\"2020-11-06T00:00:00\",\"2020-11-07T00:00:00\",\"2020-11-08T00:00:00\",\"2020-11-09T00:00:00\",\"2020-11-10T00:00:00\",\"2020-11-11T00:00:00\",\"2020-11-12T00:00:00\",\"2020-11-13T00:00:00\",\"2020-11-14T00:00:00\",\"2020-11-15T00:00:00\",\"2020-11-16T00:00:00\",\"2020-11-17T00:00:00\",\"2020-11-18T00:00:00\",\"2020-11-19T00:00:00\",\"2020-11-20T00:00:00\",\"2020-11-21T00:00:00\",\"2020-11-22T00:00:00\",\"2020-11-23T00:00:00\",\"2020-11-24T00:00:00\",\"2020-11-25T00:00:00\",\"2020-11-26T00:00:00\",\"2020-11-27T00:00:00\",\"2020-11-28T00:00:00\",\"2020-11-29T00:00:00\",\"2020-11-30T00:00:00\",\"2020-12-01T00:00:00\",\"2020-12-02T00:00:00\",\"2020-12-03T00:00:00\",\"2020-12-04T00:00:00\",\"2020-12-05T00:00:00\",\"2020-12-06T00:00:00\",\"2020-12-07T00:00:00\",\"2020-12-08T00:00:00\",\"2020-12-09T00:00:00\",\"2020-12-10T00:00:00\",\"2020-12-11T00:00:00\",\"2020-12-12T00:00:00\",\"2020-12-13T00:00:00\",\"2020-12-14T00:00:00\",\"2020-12-15T00:00:00\",\"2020-12-16T00:00:00\",\"2020-12-17T00:00:00\",\"2020-12-18T00:00:00\",\"2020-12-19T00:00:00\",\"2020-12-20T00:00:00\",\"2020-12-21T00:00:00\",\"2020-12-22T00:00:00\",\"2020-12-23T00:00:00\",\"2020-12-24T00:00:00\",\"2020-12-25T00:00:00\",\"2020-12-26T00:00:00\",\"2020-12-27T00:00:00\",\"2020-12-28T00:00:00\",\"2020-12-29T00:00:00\",\"2020-12-30T00:00:00\",\"2020-12-31T00:00:00\",\"2021-01-01T00:00:00\",\"2021-01-02T00:00:00\",\"2021-01-03T00:00:00\",\"2021-01-04T00:00:00\",\"2021-01-05T00:00:00\",\"2021-01-06T00:00:00\",\"2021-01-07T00:00:00\",\"2021-01-08T00:00:00\",\"2021-01-09T00:00:00\",\"2021-01-10T00:00:00\",\"2021-01-11T00:00:00\",\"2021-01-12T00:00:00\",\"2021-01-13T00:00:00\",\"2021-01-14T00:00:00\",\"2021-01-15T00:00:00\",\"2021-01-16T00:00:00\",\"2021-01-17T00:00:00\",\"2021-01-18T00:00:00\",\"2021-01-19T00:00:00\",\"2021-01-20T00:00:00\",\"2021-01-21T00:00:00\",\"2021-01-22T00:00:00\",\"2021-01-23T00:00:00\",\"2021-01-24T00:00:00\",\"2021-01-25T00:00:00\",\"2021-01-26T00:00:00\",\"2021-01-27T00:00:00\",\"2021-01-28T00:00:00\",\"2021-01-29T00:00:00\",\"2021-01-30T00:00:00\",\"2021-01-31T00:00:00\",\"2021-02-01T00:00:00\",\"2021-02-02T00:00:00\",\"2021-02-03T00:00:00\",\"2021-02-04T00:00:00\",\"2021-02-05T00:00:00\",\"2021-02-06T00:00:00\",\"2021-02-07T00:00:00\",\"2021-02-08T00:00:00\",\"2021-02-09T00:00:00\",\"2021-02-10T00:00:00\",\"2021-02-11T00:00:00\",\"2021-02-12T00:00:00\",\"2021-02-13T00:00:00\",\"2021-02-14T00:00:00\",\"2021-02-15T00:00:00\",\"2021-02-16T00:00:00\",\"2021-02-17T00:00:00\",\"2021-02-18T00:00:00\",\"2021-02-19T00:00:00\",\"2021-02-20T00:00:00\",\"2021-02-21T00:00:00\",\"2021-02-22T00:00:00\",\"2021-02-23T00:00:00\",\"2021-02-24T00:00:00\",\"2021-02-25T00:00:00\",\"2021-02-26T00:00:00\",\"2021-02-27T00:00:00\",\"2021-02-28T00:00:00\",\"2021-03-01T00:00:00\",\"2021-03-02T00:00:00\",\"2021-03-03T00:00:00\",\"2021-03-04T00:00:00\",\"2021-03-05T00:00:00\",\"2021-03-06T00:00:00\",\"2021-03-07T00:00:00\",\"2021-03-08T00:00:00\",\"2021-03-09T00:00:00\",\"2021-03-10T00:00:00\",\"2021-03-11T00:00:00\",\"2021-03-12T00:00:00\",\"2021-03-13T00:00:00\",\"2021-03-14T00:00:00\",\"2021-03-15T00:00:00\",\"2021-03-16T00:00:00\",\"2021-03-17T00:00:00\",\"2021-03-18T00:00:00\",\"2021-03-19T00:00:00\",\"2021-03-20T00:00:00\",\"2021-03-21T00:00:00\",\"2021-03-22T00:00:00\",\"2021-03-23T00:00:00\",\"2021-03-24T00:00:00\",\"2021-03-25T00:00:00\",\"2021-03-26T00:00:00\",\"2021-03-27T00:00:00\",\"2021-03-28T00:00:00\",\"2021-03-29T00:00:00\",\"2021-03-30T00:00:00\",\"2021-03-31T00:00:00\",\"2021-04-01T00:00:00\",\"2021-04-02T00:00:00\",\"2021-04-03T00:00:00\",\"2021-04-04T00:00:00\",\"2021-04-05T00:00:00\",\"2021-04-06T00:00:00\",\"2021-04-07T00:00:00\",\"2021-04-08T00:00:00\",\"2021-04-09T00:00:00\",\"2021-04-10T00:00:00\",\"2021-04-11T00:00:00\",\"2021-04-12T00:00:00\",\"2021-04-13T00:00:00\",\"2021-04-14T00:00:00\",\"2021-04-15T00:00:00\",\"2021-04-16T00:00:00\",\"2021-04-17T00:00:00\",\"2021-04-18T00:00:00\",\"2021-04-19T00:00:00\",\"2021-04-20T00:00:00\",\"2021-04-21T00:00:00\",\"2021-04-22T00:00:00\",\"2021-04-23T00:00:00\",\"2021-04-24T00:00:00\",\"2021-04-25T00:00:00\",\"2021-04-26T00:00:00\",\"2021-04-27T00:00:00\",\"2021-04-28T00:00:00\",\"2021-04-29T00:00:00\",\"2021-04-30T00:00:00\",\"2021-05-01T00:00:00\",\"2021-05-02T00:00:00\",\"2021-05-03T00:00:00\",\"2021-05-04T00:00:00\",\"2021-05-05T00:00:00\",\"2021-05-06T00:00:00\",\"2021-05-07T00:00:00\",\"2021-05-08T00:00:00\",\"2021-05-09T00:00:00\",\"2021-05-10T00:00:00\",\"2021-05-11T00:00:00\",\"2021-05-12T00:00:00\",\"2021-05-13T00:00:00\",\"2021-05-14T00:00:00\",\"2021-05-15T00:00:00\",\"2021-05-16T00:00:00\",\"2021-05-17T00:00:00\",\"2021-05-18T00:00:00\",\"2021-05-19T00:00:00\",\"2021-05-20T00:00:00\",\"2021-05-21T00:00:00\",\"2021-05-22T00:00:00\",\"2021-05-23T00:00:00\",\"2021-05-24T00:00:00\",\"2021-05-25T00:00:00\",\"2021-05-26T00:00:00\",\"2021-05-27T00:00:00\",\"2021-05-28T00:00:00\",\"2021-05-29T00:00:00\",\"2021-05-30T00:00:00\",\"2021-05-31T00:00:00\",\"2021-06-01T00:00:00\",\"2021-06-02T00:00:00\",\"2021-06-03T00:00:00\",\"2021-06-04T00:00:00\",\"2021-06-05T00:00:00\",\"2021-06-06T00:00:00\",\"2021-06-07T00:00:00\",\"2021-06-08T00:00:00\",\"2021-06-09T00:00:00\",\"2021-06-10T00:00:00\",\"2021-06-11T00:00:00\",\"2021-06-12T00:00:00\",\"2021-06-13T00:00:00\",\"2021-06-14T00:00:00\",\"2021-06-15T00:00:00\",\"2021-06-16T00:00:00\",\"2021-06-17T00:00:00\",\"2021-06-18T00:00:00\",\"2021-06-19T00:00:00\",\"2021-06-20T00:00:00\",\"2021-06-21T00:00:00\",\"2021-06-22T00:00:00\",\"2021-06-23T00:00:00\",\"2021-06-24T00:00:00\",\"2021-06-25T00:00:00\",\"2021-06-26T00:00:00\",\"2021-06-27T00:00:00\",\"2021-06-28T00:00:00\",\"2021-06-29T00:00:00\",\"2021-06-30T00:00:00\",\"2021-07-01T00:00:00\",\"2021-07-02T00:00:00\",\"2021-07-03T00:00:00\",\"2021-07-04T00:00:00\",\"2021-07-05T00:00:00\",\"2021-07-06T00:00:00\",\"2021-07-07T00:00:00\",\"2021-07-08T00:00:00\",\"2021-07-09T00:00:00\",\"2021-07-10T00:00:00\",\"2021-07-11T00:00:00\",\"2021-07-12T00:00:00\",\"2021-07-13T00:00:00\",\"2021-07-14T00:00:00\",\"2021-07-15T00:00:00\",\"2021-07-16T00:00:00\",\"2021-07-17T00:00:00\",\"2021-07-18T00:00:00\",\"2021-07-19T00:00:00\",\"2021-07-20T00:00:00\",\"2021-07-21T00:00:00\",\"2021-07-22T00:00:00\",\"2021-07-23T00:00:00\",\"2021-07-24T00:00:00\",\"2021-07-25T00:00:00\",\"2021-07-26T00:00:00\",\"2021-07-27T00:00:00\",\"2021-07-28T00:00:00\",\"2021-07-29T00:00:00\",\"2021-07-30T00:00:00\",\"2021-07-31T00:00:00\",\"2021-08-01T00:00:00\",\"2021-08-02T00:00:00\",\"2021-08-03T00:00:00\",\"2021-08-04T00:00:00\",\"2021-08-05T00:00:00\",\"2021-08-06T00:00:00\",\"2021-08-07T00:00:00\",\"2021-08-08T00:00:00\",\"2021-08-09T00:00:00\",\"2021-08-10T00:00:00\",\"2021-08-11T00:00:00\",\"2021-08-12T00:00:00\",\"2021-08-13T00:00:00\",\"2021-08-14T00:00:00\",\"2021-08-15T00:00:00\",\"2021-08-16T00:00:00\",\"2021-08-17T00:00:00\",\"2021-08-18T00:00:00\",\"2021-08-19T00:00:00\",\"2021-08-20T00:00:00\",\"2021-08-21T00:00:00\",\"2021-08-22T00:00:00\",\"2021-08-23T00:00:00\",\"2021-08-24T00:00:00\",\"2021-08-25T00:00:00\",\"2021-08-26T00:00:00\",\"2021-08-27T00:00:00\",\"2021-08-28T00:00:00\",\"2021-08-29T00:00:00\",\"2021-08-30T00:00:00\",\"2021-08-31T00:00:00\",\"2021-09-01T00:00:00\",\"2021-09-02T00:00:00\",\"2021-09-03T00:00:00\",\"2021-09-04T00:00:00\",\"2021-09-05T00:00:00\",\"2021-09-06T00:00:00\",\"2021-09-07T00:00:00\",\"2021-09-08T00:00:00\",\"2021-09-09T00:00:00\",\"2021-09-10T00:00:00\",\"2021-09-11T00:00:00\",\"2021-09-12T00:00:00\",\"2021-09-13T00:00:00\",\"2021-09-14T00:00:00\",\"2021-09-15T00:00:00\",\"2021-09-16T00:00:00\",\"2021-09-17T00:00:00\",\"2021-09-18T00:00:00\",\"2021-09-19T00:00:00\",\"2021-09-20T00:00:00\",\"2021-09-21T00:00:00\",\"2021-09-22T00:00:00\",\"2021-09-23T00:00:00\",\"2021-09-24T00:00:00\",\"2021-09-25T00:00:00\",\"2021-09-26T00:00:00\",\"2021-09-27T00:00:00\",\"2021-09-28T00:00:00\",\"2021-09-29T00:00:00\",\"2021-09-30T00:00:00\",\"2021-10-01T00:00:00\",\"2021-10-02T00:00:00\",\"2021-10-03T00:00:00\",\"2021-10-04T00:00:00\",\"2021-10-05T00:00:00\",\"2021-10-06T00:00:00\",\"2021-10-07T00:00:00\",\"2021-10-08T00:00:00\",\"2021-10-09T00:00:00\",\"2021-10-10T00:00:00\",\"2021-10-11T00:00:00\",\"2021-10-12T00:00:00\",\"2021-10-13T00:00:00\",\"2021-10-14T00:00:00\",\"2021-10-15T00:00:00\",\"2021-10-16T00:00:00\",\"2021-10-17T00:00:00\",\"2021-10-18T00:00:00\",\"2021-10-19T00:00:00\",\"2021-10-20T00:00:00\",\"2021-10-21T00:00:00\",\"2021-10-22T00:00:00\",\"2021-10-23T00:00:00\",\"2021-10-24T00:00:00\",\"2021-10-25T00:00:00\",\"2021-10-26T00:00:00\",\"2021-10-27T00:00:00\",\"2021-10-28T00:00:00\",\"2021-10-29T00:00:00\",\"2021-10-30T00:00:00\",\"2021-10-31T00:00:00\",\"2021-11-01T00:00:00\",\"2021-11-02T00:00:00\",\"2021-11-03T00:00:00\",\"2021-11-04T00:00:00\",\"2021-11-05T00:00:00\",\"2021-11-06T00:00:00\",\"2021-11-07T00:00:00\",\"2021-11-08T00:00:00\",\"2021-11-09T00:00:00\",\"2021-11-10T00:00:00\",\"2021-11-11T00:00:00\",\"2021-11-12T00:00:00\",\"2021-11-13T00:00:00\",\"2021-11-14T00:00:00\",\"2021-11-15T00:00:00\",\"2021-11-16T00:00:00\",\"2021-11-17T00:00:00\",\"2021-11-18T00:00:00\",\"2021-11-19T00:00:00\",\"2021-11-20T00:00:00\",\"2021-11-21T00:00:00\",\"2021-11-22T00:00:00\",\"2021-11-23T00:00:00\",\"2021-11-24T00:00:00\",\"2021-11-25T00:00:00\",\"2021-11-26T00:00:00\",\"2021-11-27T00:00:00\",\"2021-11-28T00:00:00\",\"2021-11-29T00:00:00\",\"2021-11-30T00:00:00\"],\"y\":[97.0788269,97.20179749,92.83791351,102.6099625,109.6670914,110.8650894,117.8140411,114.0628128,114.1733704,117.7422943,171.1642303,150.7318726,165.0128021,174.3273621,422.7356873,312.7556458,312.8806763,286.4017944,249.1907196,276.9186401,301.6965942,314.52771,308.9052734,259.1357727,266.975769,261.8514404,274.1991882,300.3503113,294.7631226,287.9704285,298.8234253,272.3962097,278.6494446,276.7426147,280.7286072,272.0567322,298.8831787,295.6504211,295.7012024,336.2476501,350.0896301,352.3561401,363.3983154,366.7179565,359.0411377,360.3900146,310.0778198,285.8675232,309.4416199,309.1070557,288.7273865,285.4997253,289.4433899,280.4067993,294.3893738,277.3788147,259.7648621,225.0285492,226.5533905,215.9731445,212.2919922,228.5179138,251.4146881,246.4846649,231.2154236,240.6180267,245.0747528,234.2283173,197.9492645,199.1755524,198.830719,190.5147095,108.7858276,120.8989563,116.3063431,122.9458923,109.5854187,117.005394,119.3464203,156.3201599,160.3318481,167.6957397,157.7841034,168.5083923,177.955246,172.9514618,172.529541,166.7953186,157.0191193,148.3920898,166.4355316,165.4046021,168.0016937,175.1549988,178.6085358,179.2720947,174.8638916,190.9978485,184.8280029,217.0862274,214.7508087,186.516037,186.0516663,192.9704285,188.002655,188.5596924,182.1569977,194.6972656,203.5212402,195.7714844,185.1521912,184.0163269,192.2945404,193.8011322,194.6625366,195.0278931,195.746582,194.0160675,195.5884094,208.3136749,208.3015442,213.3973389,213.4441376,208.6157379,205.4835663,207.2216949,204.9256134,209.9542847,210.5623322,211.0302734,185.8956604,188.141449,186.5256805,190.3309937,193.1481323,187.6752625,188.5439606,191.7267151,203.4309692,200.7756805,197.0551605,193.4507141,194.9689636,193.9564972,184.9357147,184.1260834,180.85849,188.8737335,192.4654541,190.4772339,201.839325,193.1362152,202.7431946,195.6710663,195.9363708,197.6174469,196.7970428,194.3320618,194.0688934,191.9321136,191.1279449,194.1554565,181.6456909,183.0933533,182.8895264,180.0165405,175.6608887,176.1617584,177.8353271,175.2655029,173.0085449,173.3498077,172.4931183,175.7101898,180.5415344,172.923172,172.3644104,169.246048,162.1251526,159.3730927,160.10495,158.1504517,157.0987549,155.8943329,155.2351685,155.1634674,153.7530975,191.8586121,184.3700562,188.9830017,185.6792908,182.6650848,182.8393097,185.911911,182.1134033,181.6050262,179.6746216,173.0960846,172.0478973,172.7783661,171.9950562,169.3598938,177.3800201,181.7081604,184.2590942,181.6177368,190.2700806,190.035675,207.326828,214.1475372,213.3995361,215.3556671,229.8368988,243.3483582,217.8161621,228.1217957,224.6687469,234.1678925,236.6023254,228.9796906,232.7456818,224.0450592,225.9984741,210.7623138,209.2909546,222.8317108,224.2457886,217.2959747,206.5181122,208.9487762,197.4655151,196.6582794,194.8611145,203.8320313,192.0808258,191.4156342,185.9521484,191.7799377,190.4440002,196.5013733,192.8454437,203.6662445,183.57164,152.3483276,160.562439,162.099823,163.5022125,174.1546021,170.5654755,169.5764313,166.7016754,155.7811737,150.5228577,156.8352509,155.9112701,163.7820129,170.0136719,168.8414917,172.3110962,171.7402344,170.3194733,163.3002014,159.4788208,163.3621368,165.5146484,171.118103,172.0307312,168.686615,169.4484863,160.6729889,159.3944244,160.3728485,159.9801636,157.5920868,164.8001251,168.7792358,166.2621918,175.4957123,180.9338837,173.8072205,174.8909302,169.8619843,166.7854767,163.5138397,164.8695374,164.6368408,158.671875,153.783493,152.160141,159.7518768,167.639801,162.2105103,166.8770294,160.1226501,157.1943817,159.1252441,158.1655884,161.146225,157.7352142,154.4309235,158.0951385,166.8501129,162.152771,161.5948639,165.999115,193.6735687,177.8670654,196.9010925,208.9147339,191.8394318,165.4684906,161.8022003,166.7303925,168.1978607,182.5581665,169.3662567,171.0374603,170.828949,177.5480804,181.9665985,178.5522919,179.6957397,173.3684082,170.3222809,166.4097443,161.6541595,165.0947571,168.5953522,166.6370087,169.1819916,179.6242828,179.0669098,178.4369965,176.9165955,182.7912598,171.6512909,171.5317841,153.5986481,162.1759949,165.3999176,164.1349792,167.302536,168.4898529,164.3967133,166.9030914,163.6320343,163.1158142,163.089386,171.3906708,167.5882263,168.6279755,179.8541565,176.2432861,180.4629669,284.5098267,253.7050323,191.3695679,188.7396088,212.4384918,220.6280823,208.8546753,207.1144714,199.0988007,206.4282684,204.7174377,200.8761902,178.3593597,178.3889771,174.7152557,174.9513245,181.7709351,174.155014,162.0761719,164.602478,173.0165405,178.8504639,173.8604584,178.7179871,180.6801453,182.9874878,176.5700531,187.2492981,184.2870941,183.0600739,194.0106506,225.9514465,212.1047974,224.9983826,235.6829376,263.8977966,262.3990173,238.6379852,236.8460846,244.3745728,240.535965,243.5151672,228.5558929,242.5944824,216.3104248,188.5276184,194.9781036,183.2663269,180.4144287,184.6903687,177.4486847,185.8673248,185.4491577,189.1630402,181.8293915,181.0757141,181.1564484,185.4199066,185.8994446,189.9885101,188.3600311,187.1142273,185.7099304,218.3470459,200.4866486,191.5210419,194.7800598,195.2086029,204.2323761,213.6368866,205.5637054,202.2408905,204.5809937,215.241745,194.7328796,193.8417664,203.2727203,200.3723907,199.3722839,207.7908783,209.0461426,217.0887604,229.6256409,247.1775818,220.2610168,230.2778473,248.0809174,264.5970459,239.587265,249.2703857,259.1430664,272.7145081,276.9602356,261.0388489,297.7601929,328.5248108,364.6114807,441.3943481,378.986084,332.8471069,294.8777466,303.0984192,296.6661072,282.5078735,250.6531982,235.5678101,238.627655,264.7661438,288.3218079,289.5839233,282.1896362,323.6707458,332.675293,332.2598877,369.9068604,327.2222595,423.4077148,418.8973083,379.8088379,366.0493164,359.3440857,340.6425476,392.3598633,299.5545654,315.5066528,336.4975586,311.9907837,315.0993958,286.1441956,287.15448,176.6281586,200.0580292,174.6168213,169.1510925,150.8253632,178.1375885,174.7871857,182.1764984,183.1481628,168.2102814,164.292511,166.5590363,174.9384308,175.7692719,182.5816345,188.8372955,173.9971771,177.9733582,178.7094574,166.2698975,162.6404266,173.0297089,165.2566833,164.1895294,162.0935669,171.0860901,173.3247833,173.4458618,164.1366272,163.3863678,157.3546906,155.6405182,153.2408905,124.6355362,119.078949,128.9900818,131.7730103,122.8891602,124.722496,130.9338989,153.3381653,152.3848724,146.9085236,146.2381287,145.1374207,146.4172974,149.3193512,141.6135254,140.8005066,140.3925629,140.2183838,139.3431854,138.9683075,138.2875671,138.3806763,137.0959473,133.1433868,127.9480133,123.4934692,123.3614578,123.4718781,118.6777573,114.1850815,122.2144623,124.3606491,126.1451797,127.7837143,128.2324371,130.6389465,133.5058441,134.2086945,138.7794952,141.6167908,141.7531281,142.4174042,145.9774933,138.5284424,139.6653137,140.4652863,145.2454529,155.1973419,144.8588409,157.7111664,153.0340881,158.9902802,153.9339142,165.8663483,165.6859741,172.3546906,166.8246155,158.1241913,156.0757751,159.7541962,171.6987915,167.9105377,165.886734,168.2239227,160.3913116,164.6107635,155.3291931,161.5417938,177.1996765,195.9171448,173.0208588,169.1644745,171.7679749,168.3143005,176.6156616,198.7162476,196.2144318,194.7419739,158.6387939,155.8577423,156.4656372,156.5926819,155.4788208,156.7489319,157.4129486,160.2131195,157.3181915,156.2901154,159.0575867,157.1176605,162.2528687,135.100296,138.1844025,146.9563141,146.664444,134.4101563,134.7538757,129.5789185,127.6989212,124.6066132,126.8760757,129.4089966,139.6716919,139.3317566,145.0488434,144.7346497,154.9594116,152.2515106,184.3339233,176.5225067,179.8988342,173.8834229,179.0371399,169.7019653,171.9494934,172.3947906,173.1269684,171.7786713,169.1285095,168.2514648,170.4859467,176.1342926,170.798645,170.9129028,172.5839386,172.5368347,172.3366699,171.835434,154.3390045,162.5881042,165.8844757,161.9985962,165.5103607,164.605957,169.3746796,169.8624725,172.0471497,174.3717041,169.1115112,169.259201,177.8011627,192.783493,180.1154785,176.9573212,172.88237,174.5619354,178.2216797,173.7631073,163.1069031,163.3936615,149.8052979,155.3195648,158.0451508,160.6053619,154.5822754,155.826416,153.1304321,156.2216949,144.9550171,145.8266144,151.3834839,151.8622437,152.0396271],\"type\":\"scatter\"}],                        {\"template\":{\"data\":{\"barpolar\":[{\"marker\":{\"line\":{\"color\":\"rgb(17,17,17)\",\"width\":0.5},\"pattern\":{\"fillmode\":\"overlay\",\"size\":10,\"solidity\":0.2}},\"type\":\"barpolar\"}],\"bar\":[{\"error_x\":{\"color\":\"#f2f5fa\"},\"error_y\":{\"color\":\"#f2f5fa\"},\"marker\":{\"line\":{\"color\":\"rgb(17,17,17)\",\"width\":0.5},\"pattern\":{\"fillmode\":\"overlay\",\"size\":10,\"solidity\":0.2}},\"type\":\"bar\"}],\"carpet\":[{\"aaxis\":{\"endlinecolor\":\"#A2B1C6\",\"gridcolor\":\"#506784\",\"linecolor\":\"#506784\",\"minorgridcolor\":\"#506784\",\"startlinecolor\":\"#A2B1C6\"},\"baxis\":{\"endlinecolor\":\"#A2B1C6\",\"gridcolor\":\"#506784\",\"linecolor\":\"#506784\",\"minorgridcolor\":\"#506784\",\"startlinecolor\":\"#A2B1C6\"},\"type\":\"carpet\"}],\"choropleth\":[{\"colorbar\":{\"outlinewidth\":0,\"ticks\":\"\"},\"type\":\"choropleth\"}],\"contourcarpet\":[{\"colorbar\":{\"outlinewidth\":0,\"ticks\":\"\"},\"type\":\"contourcarpet\"}],\"contour\":[{\"colorbar\":{\"outlinewidth\":0,\"ticks\":\"\"},\"colorscale\":[[0.0,\"#0d0887\"],[0.1111111111111111,\"#46039f\"],[0.2222222222222222,\"#7201a8\"],[0.3333333333333333,\"#9c179e\"],[0.4444444444444444,\"#bd3786\"],[0.5555555555555556,\"#d8576b\"],[0.6666666666666666,\"#ed7953\"],[0.7777777777777778,\"#fb9f3a\"],[0.8888888888888888,\"#fdca26\"],[1.0,\"#f0f921\"]],\"type\":\"contour\"}],\"heatmapgl\":[{\"colorbar\":{\"outlinewidth\":0,\"ticks\":\"\"},\"colorscale\":[[0.0,\"#0d0887\"],[0.1111111111111111,\"#46039f\"],[0.2222222222222222,\"#7201a8\"],[0.3333333333333333,\"#9c179e\"],[0.4444444444444444,\"#bd3786\"],[0.5555555555555556,\"#d8576b\"],[0.6666666666666666,\"#ed7953\"],[0.7777777777777778,\"#fb9f3a\"],[0.8888888888888888,\"#fdca26\"],[1.0,\"#f0f921\"]],\"type\":\"heatmapgl\"}],\"heatmap\":[{\"colorbar\":{\"outlinewidth\":0,\"ticks\":\"\"},\"colorscale\":[[0.0,\"#0d0887\"],[0.1111111111111111,\"#46039f\"],[0.2222222222222222,\"#7201a8\"],[0.3333333333333333,\"#9c179e\"],[0.4444444444444444,\"#bd3786\"],[0.5555555555555556,\"#d8576b\"],[0.6666666666666666,\"#ed7953\"],[0.7777777777777778,\"#fb9f3a\"],[0.8888888888888888,\"#fdca26\"],[1.0,\"#f0f921\"]],\"type\":\"heatmap\"}],\"histogram2dcontour\":[{\"colorbar\":{\"outlinewidth\":0,\"ticks\":\"\"},\"colorscale\":[[0.0,\"#0d0887\"],[0.1111111111111111,\"#46039f\"],[0.2222222222222222,\"#7201a8\"],[0.3333333333333333,\"#9c179e\"],[0.4444444444444444,\"#bd3786\"],[0.5555555555555556,\"#d8576b\"],[0.6666666666666666,\"#ed7953\"],[0.7777777777777778,\"#fb9f3a\"],[0.8888888888888888,\"#fdca26\"],[1.0,\"#f0f921\"]],\"type\":\"histogram2dcontour\"}],\"histogram2d\":[{\"colorbar\":{\"outlinewidth\":0,\"ticks\":\"\"},\"colorscale\":[[0.0,\"#0d0887\"],[0.1111111111111111,\"#46039f\"],[0.2222222222222222,\"#7201a8\"],[0.3333333333333333,\"#9c179e\"],[0.4444444444444444,\"#bd3786\"],[0.5555555555555556,\"#d8576b\"],[0.6666666666666666,\"#ed7953\"],[0.7777777777777778,\"#fb9f3a\"],[0.8888888888888888,\"#fdca26\"],[1.0,\"#f0f921\"]],\"type\":\"histogram2d\"}],\"histogram\":[{\"marker\":{\"pattern\":{\"fillmode\":\"overlay\",\"size\":10,\"solidity\":0.2}},\"type\":\"histogram\"}],\"mesh3d\":[{\"colorbar\":{\"outlinewidth\":0,\"ticks\":\"\"},\"type\":\"mesh3d\"}],\"parcoords\":[{\"line\":{\"colorbar\":{\"outlinewidth\":0,\"ticks\":\"\"}},\"type\":\"parcoords\"}],\"pie\":[{\"automargin\":true,\"type\":\"pie\"}],\"scatter3d\":[{\"line\":{\"colorbar\":{\"outlinewidth\":0,\"ticks\":\"\"}},\"marker\":{\"colorbar\":{\"outlinewidth\":0,\"ticks\":\"\"}},\"type\":\"scatter3d\"}],\"scattercarpet\":[{\"marker\":{\"colorbar\":{\"outlinewidth\":0,\"ticks\":\"\"}},\"type\":\"scattercarpet\"}],\"scattergeo\":[{\"marker\":{\"colorbar\":{\"outlinewidth\":0,\"ticks\":\"\"}},\"type\":\"scattergeo\"}],\"scattergl\":[{\"marker\":{\"line\":{\"color\":\"#283442\"}},\"type\":\"scattergl\"}],\"scattermapbox\":[{\"marker\":{\"colorbar\":{\"outlinewidth\":0,\"ticks\":\"\"}},\"type\":\"scattermapbox\"}],\"scatterpolargl\":[{\"marker\":{\"colorbar\":{\"outlinewidth\":0,\"ticks\":\"\"}},\"type\":\"scatterpolargl\"}],\"scatterpolar\":[{\"marker\":{\"colorbar\":{\"outlinewidth\":0,\"ticks\":\"\"}},\"type\":\"scatterpolar\"}],\"scatter\":[{\"marker\":{\"line\":{\"color\":\"#283442\"}},\"type\":\"scatter\"}],\"scatterternary\":[{\"marker\":{\"colorbar\":{\"outlinewidth\":0,\"ticks\":\"\"}},\"type\":\"scatterternary\"}],\"surface\":[{\"colorbar\":{\"outlinewidth\":0,\"ticks\":\"\"},\"colorscale\":[[0.0,\"#0d0887\"],[0.1111111111111111,\"#46039f\"],[0.2222222222222222,\"#7201a8\"],[0.3333333333333333,\"#9c179e\"],[0.4444444444444444,\"#bd3786\"],[0.5555555555555556,\"#d8576b\"],[0.6666666666666666,\"#ed7953\"],[0.7777777777777778,\"#fb9f3a\"],[0.8888888888888888,\"#fdca26\"],[1.0,\"#f0f921\"]],\"type\":\"surface\"}],\"table\":[{\"cells\":{\"fill\":{\"color\":\"#506784\"},\"line\":{\"color\":\"rgb(17,17,17)\"}},\"header\":{\"fill\":{\"color\":\"#2a3f5f\"},\"line\":{\"color\":\"rgb(17,17,17)\"}},\"type\":\"table\"}]},\"layout\":{\"annotationdefaults\":{\"arrowcolor\":\"#f2f5fa\",\"arrowhead\":0,\"arrowwidth\":1},\"autotypenumbers\":\"strict\",\"coloraxis\":{\"colorbar\":{\"outlinewidth\":0,\"ticks\":\"\"}},\"colorscale\":{\"diverging\":[[0,\"#8e0152\"],[0.1,\"#c51b7d\"],[0.2,\"#de77ae\"],[0.3,\"#f1b6da\"],[0.4,\"#fde0ef\"],[0.5,\"#f7f7f7\"],[0.6,\"#e6f5d0\"],[0.7,\"#b8e186\"],[0.8,\"#7fbc41\"],[0.9,\"#4d9221\"],[1,\"#276419\"]],\"sequential\":[[0.0,\"#0d0887\"],[0.1111111111111111,\"#46039f\"],[0.2222222222222222,\"#7201a8\"],[0.3333333333333333,\"#9c179e\"],[0.4444444444444444,\"#bd3786\"],[0.5555555555555556,\"#d8576b\"],[0.6666666666666666,\"#ed7953\"],[0.7777777777777778,\"#fb9f3a\"],[0.8888888888888888,\"#fdca26\"],[1.0,\"#f0f921\"]],\"sequentialminus\":[[0.0,\"#0d0887\"],[0.1111111111111111,\"#46039f\"],[0.2222222222222222,\"#7201a8\"],[0.3333333333333333,\"#9c179e\"],[0.4444444444444444,\"#bd3786\"],[0.5555555555555556,\"#d8576b\"],[0.6666666666666666,\"#ed7953\"],[0.7777777777777778,\"#fb9f3a\"],[0.8888888888888888,\"#fdca26\"],[1.0,\"#f0f921\"]]},\"colorway\":[\"#636efa\",\"#EF553B\",\"#00cc96\",\"#ab63fa\",\"#FFA15A\",\"#19d3f3\",\"#FF6692\",\"#B6E880\",\"#FF97FF\",\"#FECB52\"],\"font\":{\"color\":\"#f2f5fa\"},\"geo\":{\"bgcolor\":\"rgb(17,17,17)\",\"lakecolor\":\"rgb(17,17,17)\",\"landcolor\":\"rgb(17,17,17)\",\"showlakes\":true,\"showland\":true,\"subunitcolor\":\"#506784\"},\"hoverlabel\":{\"align\":\"left\"},\"hovermode\":\"closest\",\"mapbox\":{\"style\":\"dark\"},\"paper_bgcolor\":\"rgb(17,17,17)\",\"plot_bgcolor\":\"rgb(17,17,17)\",\"polar\":{\"angularaxis\":{\"gridcolor\":\"#506784\",\"linecolor\":\"#506784\",\"ticks\":\"\"},\"bgcolor\":\"rgb(17,17,17)\",\"radialaxis\":{\"gridcolor\":\"#506784\",\"linecolor\":\"#506784\",\"ticks\":\"\"}},\"scene\":{\"xaxis\":{\"backgroundcolor\":\"rgb(17,17,17)\",\"gridcolor\":\"#506784\",\"gridwidth\":2,\"linecolor\":\"#506784\",\"showbackground\":true,\"ticks\":\"\",\"zerolinecolor\":\"#C8D4E3\"},\"yaxis\":{\"backgroundcolor\":\"rgb(17,17,17)\",\"gridcolor\":\"#506784\",\"gridwidth\":2,\"linecolor\":\"#506784\",\"showbackground\":true,\"ticks\":\"\",\"zerolinecolor\":\"#C8D4E3\"},\"zaxis\":{\"backgroundcolor\":\"rgb(17,17,17)\",\"gridcolor\":\"#506784\",\"gridwidth\":2,\"linecolor\":\"#506784\",\"showbackground\":true,\"ticks\":\"\",\"zerolinecolor\":\"#C8D4E3\"}},\"shapedefaults\":{\"line\":{\"color\":\"#f2f5fa\"}},\"sliderdefaults\":{\"bgcolor\":\"#C8D4E3\",\"bordercolor\":\"rgb(17,17,17)\",\"borderwidth\":1,\"tickwidth\":0},\"ternary\":{\"aaxis\":{\"gridcolor\":\"#506784\",\"linecolor\":\"#506784\",\"ticks\":\"\"},\"baxis\":{\"gridcolor\":\"#506784\",\"linecolor\":\"#506784\",\"ticks\":\"\"},\"bgcolor\":\"rgb(17,17,17)\",\"caxis\":{\"gridcolor\":\"#506784\",\"linecolor\":\"#506784\",\"ticks\":\"\"}},\"title\":{\"x\":0.05},\"updatemenudefaults\":{\"bgcolor\":\"#506784\",\"borderwidth\":0},\"xaxis\":{\"automargin\":true,\"gridcolor\":\"#283442\",\"linecolor\":\"#506784\",\"ticks\":\"\",\"title\":{\"standoff\":15},\"zerolinecolor\":\"#283442\",\"zerolinewidth\":2},\"yaxis\":{\"automargin\":true,\"gridcolor\":\"#283442\",\"linecolor\":\"#506784\",\"ticks\":\"\",\"title\":{\"standoff\":15},\"zerolinecolor\":\"#283442\",\"zerolinewidth\":2}}},\"title\":{\"text\":\"Daily Closing Price\"},\"xaxis\":{\"title\":{\"text\":\"Date: From Jan. 1, 2019 to Dec. 31, 2021\"}},\"yaxis\":{\"title\":{\"text\":\"Closing Price\"}},\"hovermode\":\"x unified\"},                        {\"responsive\": true}                    ).then(function(){\n",
              "                            \n",
              "var gd = document.getElementById('d47de31c-236f-4159-9d05-81a7cf7e3fab');\n",
              "var x = new MutationObserver(function (mutations, observer) {{\n",
              "        var display = window.getComputedStyle(gd).display;\n",
              "        if (!display || display === 'none') {{\n",
              "            console.log([gd, 'removed!']);\n",
              "            Plotly.purge(gd);\n",
              "            observer.disconnect();\n",
              "        }}\n",
              "}});\n",
              "\n",
              "// Listen for the removal of the full notebook cells\n",
              "var notebookContainer = gd.closest('#notebook-container');\n",
              "if (notebookContainer) {{\n",
              "    x.observe(notebookContainer, {childList: true});\n",
              "}}\n",
              "\n",
              "// Listen for the clearing of the current output cell\n",
              "var outputEl = gd.closest('.output');\n",
              "if (outputEl) {{\n",
              "    x.observe(outputEl, {childList: true});\n",
              "}}\n",
              "\n",
              "                        })                };                            </script>        </div>\n",
              "</body>\n",
              "</html>"
            ]
          },
          "metadata": {}
        }
      ]
    }
  ]
}